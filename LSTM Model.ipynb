{
 "cells": [
  {
   "cell_type": "code",
   "execution_count": 1,
   "id": "029377e7-7786-4f07-aa1a-215a96632417",
   "metadata": {},
   "outputs": [
    {
     "name": "stdout",
     "output_type": "stream",
     "text": [
      "Requirement already satisfied: imageio in c:\\users\\tanish garg\\appdata\\local\\programs\\python\\python311\\lib\\site-packages (2.37.0)\n",
      "Requirement already satisfied: numpy in c:\\users\\tanish garg\\appdata\\local\\programs\\python\\python311\\lib\\site-packages (from imageio) (1.26.3)\n",
      "Requirement already satisfied: pillow>=8.3.2 in c:\\users\\tanish garg\\appdata\\local\\programs\\python\\python311\\lib\\site-packages (from imageio) (10.2.0)\n"
     ]
    }
   ],
   "source": [
    "!pip install imageio\n"
   ]
  },
  {
   "cell_type": "code",
   "execution_count": 2,
   "id": "490808a3-d797-40ed-9818-42dbb34a8789",
   "metadata": {},
   "outputs": [],
   "source": [
    "import os\n",
    "import keras\n",
    "import matplotlib.pyplot as plt\n",
    "import pandas as pd\n",
    "import numpy as np\n",
    "import imageio\n",
    "import cv2\n",
    "from IPython.display import Image"
   ]
  },
  {
   "cell_type": "code",
   "execution_count": 3,
   "id": "e5e37ab9-bc05-4655-ad2a-9298069bc53c",
   "metadata": {},
   "outputs": [],
   "source": [
    "IMG_SIZE = 224\n",
    "BATCH_SIZE = 64\n",
    "EPOCHS = 50\n",
    "MAX_SEQ_LENGTH = 20\n",
    "NUM_FEATURES = 2048"
   ]
  },
  {
   "cell_type": "code",
   "execution_count": 4,
   "id": "6d625c4f-bd7d-43b7-9f14-7a21c1ae73af",
   "metadata": {},
   "outputs": [],
   "source": [
    "dfd_fake = r\"C:\\Users\\Tanish Garg\\.cache\\kagglehub\\datasets\\sanikatiwarekar\\deep-fake-detection-dfd-entire-original-dataset\\DFD_manipulated_sequences\"\n",
    "\n",
    "dfd_real = r\"C:\\Users\\Tanish Garg\\.cache\\kagglehub\\datasets\\sanikatiwarekar\\deep-fake-detection-dfd-entire-original-dataset\\DFD_original sequences\"\n"
   ]
  },
  {
   "cell_type": "code",
   "execution_count": 5,
   "id": "72481bde-a0fb-4631-9bc0-6b8f709a5b66",
   "metadata": {},
   "outputs": [],
   "source": [
    "video_paths = []\n",
    "labels = []\n",
    "\n",
    "\n",
    "for vid in os.listdir(dfd_real):\n",
    "    video_paths.append(os.path.join(dfd_real, vid))\n",
    "    labels.append('real')\n",
    "    \n",
    "for vid in os.listdir(dfd_fake):\n",
    "    video_paths.append(os.path.join(dfd_fake, vid))\n",
    "    labels.append('fake')"
   ]
  },
  {
   "cell_type": "code",
   "execution_count": 6,
   "id": "35b24db0-2934-4dbf-a7c6-064608be05ff",
   "metadata": {},
   "outputs": [
    {
     "name": "stdout",
     "output_type": "stream",
     "text": [
      "First 10 video paths: ['C:\\\\Users\\\\Tanish Garg\\\\.cache\\\\kagglehub\\\\datasets\\\\sanikatiwarekar\\\\deep-fake-detection-dfd-entire-original-dataset\\\\DFD_original sequences\\\\01__exit_phone_room.mp4', 'C:\\\\Users\\\\Tanish Garg\\\\.cache\\\\kagglehub\\\\datasets\\\\sanikatiwarekar\\\\deep-fake-detection-dfd-entire-original-dataset\\\\DFD_original sequences\\\\01__hugging_happy.mp4', 'C:\\\\Users\\\\Tanish Garg\\\\.cache\\\\kagglehub\\\\datasets\\\\sanikatiwarekar\\\\deep-fake-detection-dfd-entire-original-dataset\\\\DFD_original sequences\\\\01__kitchen_pan.mp4', 'C:\\\\Users\\\\Tanish Garg\\\\.cache\\\\kagglehub\\\\datasets\\\\sanikatiwarekar\\\\deep-fake-detection-dfd-entire-original-dataset\\\\DFD_original sequences\\\\01__kitchen_still.mp4', 'C:\\\\Users\\\\Tanish Garg\\\\.cache\\\\kagglehub\\\\datasets\\\\sanikatiwarekar\\\\deep-fake-detection-dfd-entire-original-dataset\\\\DFD_original sequences\\\\01__meeting_serious.mp4', 'C:\\\\Users\\\\Tanish Garg\\\\.cache\\\\kagglehub\\\\datasets\\\\sanikatiwarekar\\\\deep-fake-detection-dfd-entire-original-dataset\\\\DFD_original sequences\\\\01__outside_talking_pan_laughing.mp4', 'C:\\\\Users\\\\Tanish Garg\\\\.cache\\\\kagglehub\\\\datasets\\\\sanikatiwarekar\\\\deep-fake-detection-dfd-entire-original-dataset\\\\DFD_original sequences\\\\01__outside_talking_still_laughing.mp4', 'C:\\\\Users\\\\Tanish Garg\\\\.cache\\\\kagglehub\\\\datasets\\\\sanikatiwarekar\\\\deep-fake-detection-dfd-entire-original-dataset\\\\DFD_original sequences\\\\01__podium_speech_happy.mp4', 'C:\\\\Users\\\\Tanish Garg\\\\.cache\\\\kagglehub\\\\datasets\\\\sanikatiwarekar\\\\deep-fake-detection-dfd-entire-original-dataset\\\\DFD_original sequences\\\\01__secret_conversation.mp4', 'C:\\\\Users\\\\Tanish Garg\\\\.cache\\\\kagglehub\\\\datasets\\\\sanikatiwarekar\\\\deep-fake-detection-dfd-entire-original-dataset\\\\DFD_original sequences\\\\01__talking_against_wall.mp4']\n",
      "Last 10 video paths: ['C:\\\\Users\\\\Tanish Garg\\\\.cache\\\\kagglehub\\\\datasets\\\\sanikatiwarekar\\\\deep-fake-detection-dfd-entire-original-dataset\\\\DFD_manipulated_sequences\\\\28_16__podium_speech_happy__6DWLCU6T.mp4', 'C:\\\\Users\\\\Tanish Garg\\\\.cache\\\\kagglehub\\\\datasets\\\\sanikatiwarekar\\\\deep-fake-detection-dfd-entire-original-dataset\\\\DFD_manipulated_sequences\\\\28_16__podium_speech_happy__ZA8XJIE9.mp4', 'C:\\\\Users\\\\Tanish Garg\\\\.cache\\\\kagglehub\\\\datasets\\\\sanikatiwarekar\\\\deep-fake-detection-dfd-entire-original-dataset\\\\DFD_manipulated_sequences\\\\28_16__secret_conversation__R1QD0XDQ.mp4', 'C:\\\\Users\\\\Tanish Garg\\\\.cache\\\\kagglehub\\\\datasets\\\\sanikatiwarekar\\\\deep-fake-detection-dfd-entire-original-dataset\\\\DFD_manipulated_sequences\\\\28_16__secret_conversation__X5FNCYON.mp4', 'C:\\\\Users\\\\Tanish Garg\\\\.cache\\\\kagglehub\\\\datasets\\\\sanikatiwarekar\\\\deep-fake-detection-dfd-entire-original-dataset\\\\DFD_manipulated_sequences\\\\28_16__secret_conversation__ZA8XJIE9.mp4', 'C:\\\\Users\\\\Tanish Garg\\\\.cache\\\\kagglehub\\\\datasets\\\\sanikatiwarekar\\\\deep-fake-detection-dfd-entire-original-dataset\\\\DFD_manipulated_sequences\\\\28_16__walking_down_street_outside_angry__6DWLCU6T.mp4', 'C:\\\\Users\\\\Tanish Garg\\\\.cache\\\\kagglehub\\\\datasets\\\\sanikatiwarekar\\\\deep-fake-detection-dfd-entire-original-dataset\\\\DFD_manipulated_sequences\\\\28_16__walking_down_street_outside_angry__U757192N.mp4', 'C:\\\\Users\\\\Tanish Garg\\\\.cache\\\\kagglehub\\\\datasets\\\\sanikatiwarekar\\\\deep-fake-detection-dfd-entire-original-dataset\\\\DFD_manipulated_sequences\\\\28_16__walking_down_street_outside_angry__ZA8XJIE9.mp4', 'C:\\\\Users\\\\Tanish Garg\\\\.cache\\\\kagglehub\\\\datasets\\\\sanikatiwarekar\\\\deep-fake-detection-dfd-entire-original-dataset\\\\DFD_manipulated_sequences\\\\28_16__walking_outside_cafe_disgusted__NAZP864W.mp4', 'C:\\\\Users\\\\Tanish Garg\\\\.cache\\\\kagglehub\\\\datasets\\\\sanikatiwarekar\\\\deep-fake-detection-dfd-entire-original-dataset\\\\DFD_manipulated_sequences\\\\28_16__walk_down_hall_angry__X5FNCYON.mp4']\n",
      "First 10 labels: ['real', 'real', 'real', 'real', 'real', 'real', 'real', 'real', 'real', 'real']\n",
      "Last 10 labels: ['fake', 'fake', 'fake', 'fake', 'fake', 'fake', 'fake', 'fake', 'fake', 'fake']\n"
     ]
    }
   ],
   "source": [
    "print(\"First 10 video paths:\", video_paths[:10])\n",
    "print(\"Last 10 video paths:\", video_paths[-10:])\n",
    "\n",
    "# Print the first 10 and last 10 elements of labels\n",
    "print(\"First 10 labels:\", labels[:10])\n",
    "print(\"Last 10 labels:\", labels[-10:])"
   ]
  },
  {
   "cell_type": "code",
   "execution_count": 7,
   "id": "665a89b8-6c85-429e-9b20-e1aae6cf55df",
   "metadata": {},
   "outputs": [],
   "source": [
    "df = pd.DataFrame({'video_path': video_paths, 'label': labels})"
   ]
  },
  {
   "cell_type": "code",
   "execution_count": 8,
   "id": "ba1bb9bb-a152-4681-821b-45e1bea55446",
   "metadata": {},
   "outputs": [
    {
     "data": {
      "text/html": [
       "<div>\n",
       "<style scoped>\n",
       "    .dataframe tbody tr th:only-of-type {\n",
       "        vertical-align: middle;\n",
       "    }\n",
       "\n",
       "    .dataframe tbody tr th {\n",
       "        vertical-align: top;\n",
       "    }\n",
       "\n",
       "    .dataframe thead th {\n",
       "        text-align: right;\n",
       "    }\n",
       "</style>\n",
       "<table border=\"1\" class=\"dataframe\">\n",
       "  <thead>\n",
       "    <tr style=\"text-align: right;\">\n",
       "      <th></th>\n",
       "      <th>video_path</th>\n",
       "      <th>label</th>\n",
       "    </tr>\n",
       "  </thead>\n",
       "  <tbody>\n",
       "    <tr>\n",
       "      <th>0</th>\n",
       "      <td>C:\\Users\\Tanish Garg\\.cache\\kagglehub\\datasets...</td>\n",
       "      <td>real</td>\n",
       "    </tr>\n",
       "    <tr>\n",
       "      <th>1</th>\n",
       "      <td>C:\\Users\\Tanish Garg\\.cache\\kagglehub\\datasets...</td>\n",
       "      <td>real</td>\n",
       "    </tr>\n",
       "    <tr>\n",
       "      <th>2</th>\n",
       "      <td>C:\\Users\\Tanish Garg\\.cache\\kagglehub\\datasets...</td>\n",
       "      <td>real</td>\n",
       "    </tr>\n",
       "    <tr>\n",
       "      <th>3</th>\n",
       "      <td>C:\\Users\\Tanish Garg\\.cache\\kagglehub\\datasets...</td>\n",
       "      <td>real</td>\n",
       "    </tr>\n",
       "    <tr>\n",
       "      <th>4</th>\n",
       "      <td>C:\\Users\\Tanish Garg\\.cache\\kagglehub\\datasets...</td>\n",
       "      <td>real</td>\n",
       "    </tr>\n",
       "    <tr>\n",
       "      <th>5</th>\n",
       "      <td>C:\\Users\\Tanish Garg\\.cache\\kagglehub\\datasets...</td>\n",
       "      <td>real</td>\n",
       "    </tr>\n",
       "    <tr>\n",
       "      <th>6</th>\n",
       "      <td>C:\\Users\\Tanish Garg\\.cache\\kagglehub\\datasets...</td>\n",
       "      <td>real</td>\n",
       "    </tr>\n",
       "    <tr>\n",
       "      <th>7</th>\n",
       "      <td>C:\\Users\\Tanish Garg\\.cache\\kagglehub\\datasets...</td>\n",
       "      <td>real</td>\n",
       "    </tr>\n",
       "    <tr>\n",
       "      <th>8</th>\n",
       "      <td>C:\\Users\\Tanish Garg\\.cache\\kagglehub\\datasets...</td>\n",
       "      <td>real</td>\n",
       "    </tr>\n",
       "    <tr>\n",
       "      <th>9</th>\n",
       "      <td>C:\\Users\\Tanish Garg\\.cache\\kagglehub\\datasets...</td>\n",
       "      <td>real</td>\n",
       "    </tr>\n",
       "  </tbody>\n",
       "</table>\n",
       "</div>"
      ],
      "text/plain": [
       "                                          video_path label\n",
       "0  C:\\Users\\Tanish Garg\\.cache\\kagglehub\\datasets...  real\n",
       "1  C:\\Users\\Tanish Garg\\.cache\\kagglehub\\datasets...  real\n",
       "2  C:\\Users\\Tanish Garg\\.cache\\kagglehub\\datasets...  real\n",
       "3  C:\\Users\\Tanish Garg\\.cache\\kagglehub\\datasets...  real\n",
       "4  C:\\Users\\Tanish Garg\\.cache\\kagglehub\\datasets...  real\n",
       "5  C:\\Users\\Tanish Garg\\.cache\\kagglehub\\datasets...  real\n",
       "6  C:\\Users\\Tanish Garg\\.cache\\kagglehub\\datasets...  real\n",
       "7  C:\\Users\\Tanish Garg\\.cache\\kagglehub\\datasets...  real\n",
       "8  C:\\Users\\Tanish Garg\\.cache\\kagglehub\\datasets...  real\n",
       "9  C:\\Users\\Tanish Garg\\.cache\\kagglehub\\datasets...  real"
      ]
     },
     "execution_count": 8,
     "metadata": {},
     "output_type": "execute_result"
    }
   ],
   "source": [
    "df.head(10)"
   ]
  },
  {
   "cell_type": "code",
   "execution_count": 9,
   "id": "12b36a23-6001-4fe2-ae38-2e9f9fb385ef",
   "metadata": {},
   "outputs": [],
   "source": [
    "# shuffle the rows\n",
    "df = df.sample(frac=1, random_state=42).reset_index(drop=True)"
   ]
  },
  {
   "cell_type": "code",
   "execution_count": 10,
   "id": "0b62c7bb-ca3d-4ddc-8a4d-a84a6750d04a",
   "metadata": {},
   "outputs": [
    {
     "data": {
      "text/html": [
       "<div>\n",
       "<style scoped>\n",
       "    .dataframe tbody tr th:only-of-type {\n",
       "        vertical-align: middle;\n",
       "    }\n",
       "\n",
       "    .dataframe tbody tr th {\n",
       "        vertical-align: top;\n",
       "    }\n",
       "\n",
       "    .dataframe thead th {\n",
       "        text-align: right;\n",
       "    }\n",
       "</style>\n",
       "<table border=\"1\" class=\"dataframe\">\n",
       "  <thead>\n",
       "    <tr style=\"text-align: right;\">\n",
       "      <th></th>\n",
       "      <th>video_path</th>\n",
       "      <th>label</th>\n",
       "    </tr>\n",
       "  </thead>\n",
       "  <tbody>\n",
       "    <tr>\n",
       "      <th>0</th>\n",
       "      <td>C:\\Users\\Tanish Garg\\.cache\\kagglehub\\datasets...</td>\n",
       "      <td>fake</td>\n",
       "    </tr>\n",
       "    <tr>\n",
       "      <th>1</th>\n",
       "      <td>C:\\Users\\Tanish Garg\\.cache\\kagglehub\\datasets...</td>\n",
       "      <td>fake</td>\n",
       "    </tr>\n",
       "    <tr>\n",
       "      <th>2</th>\n",
       "      <td>C:\\Users\\Tanish Garg\\.cache\\kagglehub\\datasets...</td>\n",
       "      <td>fake</td>\n",
       "    </tr>\n",
       "    <tr>\n",
       "      <th>3</th>\n",
       "      <td>C:\\Users\\Tanish Garg\\.cache\\kagglehub\\datasets...</td>\n",
       "      <td>fake</td>\n",
       "    </tr>\n",
       "    <tr>\n",
       "      <th>4</th>\n",
       "      <td>C:\\Users\\Tanish Garg\\.cache\\kagglehub\\datasets...</td>\n",
       "      <td>fake</td>\n",
       "    </tr>\n",
       "    <tr>\n",
       "      <th>5</th>\n",
       "      <td>C:\\Users\\Tanish Garg\\.cache\\kagglehub\\datasets...</td>\n",
       "      <td>fake</td>\n",
       "    </tr>\n",
       "    <tr>\n",
       "      <th>6</th>\n",
       "      <td>C:\\Users\\Tanish Garg\\.cache\\kagglehub\\datasets...</td>\n",
       "      <td>fake</td>\n",
       "    </tr>\n",
       "    <tr>\n",
       "      <th>7</th>\n",
       "      <td>C:\\Users\\Tanish Garg\\.cache\\kagglehub\\datasets...</td>\n",
       "      <td>fake</td>\n",
       "    </tr>\n",
       "    <tr>\n",
       "      <th>8</th>\n",
       "      <td>C:\\Users\\Tanish Garg\\.cache\\kagglehub\\datasets...</td>\n",
       "      <td>real</td>\n",
       "    </tr>\n",
       "    <tr>\n",
       "      <th>9</th>\n",
       "      <td>C:\\Users\\Tanish Garg\\.cache\\kagglehub\\datasets...</td>\n",
       "      <td>fake</td>\n",
       "    </tr>\n",
       "  </tbody>\n",
       "</table>\n",
       "</div>"
      ],
      "text/plain": [
       "                                          video_path label\n",
       "0  C:\\Users\\Tanish Garg\\.cache\\kagglehub\\datasets...  fake\n",
       "1  C:\\Users\\Tanish Garg\\.cache\\kagglehub\\datasets...  fake\n",
       "2  C:\\Users\\Tanish Garg\\.cache\\kagglehub\\datasets...  fake\n",
       "3  C:\\Users\\Tanish Garg\\.cache\\kagglehub\\datasets...  fake\n",
       "4  C:\\Users\\Tanish Garg\\.cache\\kagglehub\\datasets...  fake\n",
       "5  C:\\Users\\Tanish Garg\\.cache\\kagglehub\\datasets...  fake\n",
       "6  C:\\Users\\Tanish Garg\\.cache\\kagglehub\\datasets...  fake\n",
       "7  C:\\Users\\Tanish Garg\\.cache\\kagglehub\\datasets...  fake\n",
       "8  C:\\Users\\Tanish Garg\\.cache\\kagglehub\\datasets...  real\n",
       "9  C:\\Users\\Tanish Garg\\.cache\\kagglehub\\datasets...  fake"
      ]
     },
     "execution_count": 10,
     "metadata": {},
     "output_type": "execute_result"
    }
   ],
   "source": [
    "df.head(10)"
   ]
  },
  {
   "cell_type": "code",
   "execution_count": 11,
   "id": "b623860a-6350-45f1-9d48-a98bdbba1489",
   "metadata": {},
   "outputs": [
    {
     "data": {
      "text/plain": [
       "label\n",
       "fake    3068\n",
       "real     364\n",
       "Name: count, dtype: int64"
      ]
     },
     "execution_count": 11,
     "metadata": {},
     "output_type": "execute_result"
    }
   ],
   "source": [
    "label_counts = df['label'].value_counts()\n",
    "label_counts"
   ]
  },
  {
   "cell_type": "code",
   "execution_count": 12,
   "id": "67f14f67-bca3-4c86-b4ba-c641b4d6b34f",
   "metadata": {},
   "outputs": [
    {
     "data": {
      "image/png": "[encoded data removed]",
      "text/plain": [
       "<Figure size 800x600 with 1 Axes>"
      ]
     },
     "metadata": {},
     "output_type": "display_data"
    }
   ],
   "source": [
    "# Plot the counts\n",
    "plt.figure(figsize=(8, 6))\n",
    "label_counts.plot(kind='bar', color=['red', 'blue'], alpha=0.7)\n",
    "plt.title('Fake vs Real Count')\n",
    "plt.xlabel('Label')\n",
    "plt.ylabel('Count')\n",
    "plt.xticks(rotation=0)\n",
    "plt.show()"
   ]
  },
  {
   "cell_type": "markdown",
   "id": "8bf86c40-9ea2-40ca-938c-1024cff0e03e",
   "metadata": {},
   "source": [
    "taking only 100 videos for testing purpose"
   ]
  },
  {
   "cell_type": "code",
   "execution_count": 13,
   "id": "ce0828e0-223d-4947-9453-b346e960d907",
   "metadata": {},
   "outputs": [
    {
     "name": "stdout",
     "output_type": "stream",
     "text": [
      "Number of videos in balanced_df: 600\n",
      "label\n",
      "real    300\n",
      "fake    300\n",
      "Name: count, dtype: int64\n"
     ]
    }
   ],
   "source": [
    "# Shuffle the rows in the DataFrame\n",
    "df = df.sample(frac=1, random_state=42).reset_index(drop=True)\n",
    "\n",
    "# Separate real and fake labels\n",
    "real_videos = df[df['label'] == 'real']\n",
    "fake_videos = df[df['label'] == 'fake']\n",
    "\n",
    "# Take 50 videos from each class\n",
    "real_sample = real_videos.sample(n=300, random_state=42)\n",
    "fake_sample = fake_videos.sample(n=300, random_state=42)\n",
    "\n",
    "# Combine the samples\n",
    "df = pd.concat([real_sample, fake_sample]).sample(frac=1, random_state=42).reset_index(drop=True)\n",
    "\n",
    "print(f\"Number of videos in balanced_df: {len(df)}\")\n",
    "print(df['label'].value_counts())"
   ]
  },
  {
   "cell_type": "code",
   "execution_count": 14,
   "id": "643f5cdb-cd42-4131-bbb1-d5addfa8e1d7",
   "metadata": {},
   "outputs": [
    {
     "name": "stdout",
     "output_type": "stream",
     "text": [
      "Class distribution in Train set:\n",
      "label\n",
      "fake    240\n",
      "real    240\n",
      "Name: count, dtype: int64\n",
      "Class distribution in Test set:\n",
      "label\n",
      "fake    60\n",
      "real    60\n",
      "Name: count, dtype: int64\n"
     ]
    }
   ],
   "source": [
    "import pandas as pd\n",
    "from sklearn.model_selection import train_test_split\n",
    "\n",
    "# Stratified split to maintain class distribution\n",
    "train_df, test_df = train_test_split(df, test_size=0.2, random_state=42, stratify=df['label'])\n",
    "\n",
    "# Save the train and test sets to CSV files\n",
    "train_df.to_csv('train.csv', index=False)\n",
    "test_df.to_csv('test.csv', index=False)\n",
    "\n",
    "# Verify class distribution\n",
    "print(\"Class distribution in Train set:\")\n",
    "print(train_df['label'].value_counts())\n",
    "\n",
    "print(\"Class distribution in Test set:\")\n",
    "print(test_df['label'].value_counts())"
   ]
  },
  {
   "cell_type": "code",
   "execution_count": 15,
   "id": "94f34f36-8fc3-4e01-9ddd-450e3abfa718",
   "metadata": {},
   "outputs": [
    {
     "name": "stdout",
     "output_type": "stream",
     "text": [
      "Total videos for training: 480\n",
      "Total videos for testing: 120\n"
     ]
    },
    {
     "data": {
      "text/html": [
       "<div>\n",
       "<style scoped>\n",
       "    .dataframe tbody tr th:only-of-type {\n",
       "        vertical-align: middle;\n",
       "    }\n",
       "\n",
       "    .dataframe tbody tr th {\n",
       "        vertical-align: top;\n",
       "    }\n",
       "\n",
       "    .dataframe thead th {\n",
       "        text-align: right;\n",
       "    }\n",
       "</style>\n",
       "<table border=\"1\" class=\"dataframe\">\n",
       "  <thead>\n",
       "    <tr style=\"text-align: right;\">\n",
       "      <th></th>\n",
       "      <th>video_path</th>\n",
       "      <th>label</th>\n",
       "    </tr>\n",
       "  </thead>\n",
       "  <tbody>\n",
       "    <tr>\n",
       "      <th>254</th>\n",
       "      <td>C:\\Users\\Tanish Garg\\.cache\\kagglehub\\datasets...</td>\n",
       "      <td>real</td>\n",
       "    </tr>\n",
       "    <tr>\n",
       "      <th>307</th>\n",
       "      <td>C:\\Users\\Tanish Garg\\.cache\\kagglehub\\datasets...</td>\n",
       "      <td>real</td>\n",
       "    </tr>\n",
       "    <tr>\n",
       "      <th>151</th>\n",
       "      <td>C:\\Users\\Tanish Garg\\.cache\\kagglehub\\datasets...</td>\n",
       "      <td>fake</td>\n",
       "    </tr>\n",
       "    <tr>\n",
       "      <th>351</th>\n",
       "      <td>C:\\Users\\Tanish Garg\\.cache\\kagglehub\\datasets...</td>\n",
       "      <td>real</td>\n",
       "    </tr>\n",
       "    <tr>\n",
       "      <th>60</th>\n",
       "      <td>C:\\Users\\Tanish Garg\\.cache\\kagglehub\\datasets...</td>\n",
       "      <td>fake</td>\n",
       "    </tr>\n",
       "    <tr>\n",
       "      <th>134</th>\n",
       "      <td>C:\\Users\\Tanish Garg\\.cache\\kagglehub\\datasets...</td>\n",
       "      <td>fake</td>\n",
       "    </tr>\n",
       "    <tr>\n",
       "      <th>248</th>\n",
       "      <td>C:\\Users\\Tanish Garg\\.cache\\kagglehub\\datasets...</td>\n",
       "      <td>fake</td>\n",
       "    </tr>\n",
       "    <tr>\n",
       "      <th>135</th>\n",
       "      <td>C:\\Users\\Tanish Garg\\.cache\\kagglehub\\datasets...</td>\n",
       "      <td>fake</td>\n",
       "    </tr>\n",
       "    <tr>\n",
       "      <th>193</th>\n",
       "      <td>C:\\Users\\Tanish Garg\\.cache\\kagglehub\\datasets...</td>\n",
       "      <td>fake</td>\n",
       "    </tr>\n",
       "    <tr>\n",
       "      <th>344</th>\n",
       "      <td>C:\\Users\\Tanish Garg\\.cache\\kagglehub\\datasets...</td>\n",
       "      <td>real</td>\n",
       "    </tr>\n",
       "  </tbody>\n",
       "</table>\n",
       "</div>"
      ],
      "text/plain": [
       "                                            video_path label\n",
       "254  C:\\Users\\Tanish Garg\\.cache\\kagglehub\\datasets...  real\n",
       "307  C:\\Users\\Tanish Garg\\.cache\\kagglehub\\datasets...  real\n",
       "151  C:\\Users\\Tanish Garg\\.cache\\kagglehub\\datasets...  fake\n",
       "351  C:\\Users\\Tanish Garg\\.cache\\kagglehub\\datasets...  real\n",
       "60   C:\\Users\\Tanish Garg\\.cache\\kagglehub\\datasets...  fake\n",
       "134  C:\\Users\\Tanish Garg\\.cache\\kagglehub\\datasets...  fake\n",
       "248  C:\\Users\\Tanish Garg\\.cache\\kagglehub\\datasets...  fake\n",
       "135  C:\\Users\\Tanish Garg\\.cache\\kagglehub\\datasets...  fake\n",
       "193  C:\\Users\\Tanish Garg\\.cache\\kagglehub\\datasets...  fake\n",
       "344  C:\\Users\\Tanish Garg\\.cache\\kagglehub\\datasets...  real"
      ]
     },
     "execution_count": 15,
     "metadata": {},
     "output_type": "execute_result"
    }
   ],
   "source": [
    "train_df = pd.read_csv(r\"C:\\Users\\Tanish Garg\\OneDrive\\Desktop\\personal project\\deep fake detection\\train.csv\")\n",
    "test_df = pd.read_csv(r\"C:\\Users\\Tanish Garg\\OneDrive\\Desktop\\personal project\\deep fake detection\\test.csv\")\n",
    "\n",
    "print(f\"Total videos for training: {len(train_df)}\")\n",
    "print(f\"Total videos for testing: {len(test_df)}\")\n",
    "\n",
    "train_df.sample(10)"
   ]
  },
  {
   "cell_type": "code",
   "execution_count": 16,
   "id": "ccbf746a-6b4e-41a5-a6d5-c83d883c01d8",
   "metadata": {},
   "outputs": [],
   "source": [
    "def crop_center_square(frame):\n",
    "    y, x = frame.shape[0:2]\n",
    "    min_dim = min(y, x)\n",
    "    start_x = (x // 2) - (min_dim // 2)\n",
    "    start_y = (y // 2) - (min_dim // 2)\n",
    "    return frame[start_y : start_y + min_dim, start_x : start_x + min_dim]\n",
    "\n",
    "def load_video(path, max_frames=0, resize=(IMG_SIZE, IMG_SIZE)):\n",
    "    cap = cv2.VideoCapture(path)\n",
    "    frames = []\n",
    "    try:\n",
    "        while True:\n",
    "            ret, frame = cap.read()\n",
    "            if not ret:\n",
    "                break\n",
    "            frame = crop_center_square(frame)\n",
    "            frame = cv2.resize(frame, resize)\n",
    "            frame = frame[:, :, [2, 1, 0]]\n",
    "            frames.append(frame)\n",
    "\n",
    "            if len(frames) == max_frames:\n",
    "                break\n",
    "    finally:\n",
    "        cap.release()\n",
    "    return np.array(frames)"
   ]
  },
  {
   "cell_type": "code",
   "execution_count": 17,
   "id": "f8a280b2-202f-4686-ad5b-42ecd06e1909",
   "metadata": {},
   "outputs": [],
   "source": [
    "def build_feature_extractor():\n",
    "    feature_extractor = keras.applications.InceptionV3(\n",
    "        weights=\"imagenet\",\n",
    "        include_top=False,\n",
    "        pooling=\"avg\",\n",
    "        input_shape=(IMG_SIZE, IMG_SIZE, 3),\n",
    "    )\n",
    "    preprocess_input = keras.applications.inception_v3.preprocess_input\n",
    "\n",
    "    inputs = keras.Input((IMG_SIZE, IMG_SIZE, 3))\n",
    "    preprocessed = preprocess_input(inputs)\n",
    "\n",
    "    outputs = feature_extractor(preprocessed)\n",
    "    return keras.Model(inputs, outputs, name=\"feature_extractor\")\n",
    "\n",
    "feature_extractor = build_feature_extractor()"
   ]
  },
  {
   "cell_type": "code",
   "execution_count": 18,
   "id": "de82dcef-b190-4ef5-8ba9-b535f9883a35",
   "metadata": {},
   "outputs": [
    {
     "name": "stdout",
     "output_type": "stream",
     "text": [
      "['fake', 'real']\n"
     ]
    }
   ],
   "source": [
    "label_processor = keras.layers.StringLookup(\n",
    "    num_oov_indices=0, vocabulary=np.unique(train_df[\"label\"])\n",
    ")\n",
    "print(label_processor.get_vocabulary())"
   ]
  },
  {
   "cell_type": "code",
   "execution_count": 19,
   "id": "ecedff99-38e7-4b2f-b0cb-caff8ae8adfc",
   "metadata": {},
   "outputs": [
    {
     "name": "stderr",
     "output_type": "stream",
     "text": [
      "Processing videos:   0%|                                                                       | 0/480 [00:00<?, ?it/s]"
     ]
    },
    {
     "name": "stdout",
     "output_type": "stream",
     "text": [
      "WARNING:tensorflow:5 out of the last 6 calls to <function TensorFlowTrainer.make_predict_function.<locals>.one_step_on_data_distributed at 0x000001C1F7DBAA20> triggered tf.function retracing. Tracing is expensive and the excessive number of tracings could be due to (1) creating @tf.function repeatedly in a loop, (2) passing tensors with different shapes, (3) passing Python objects instead of tensors. For (1), please define your @tf.function outside of the loop. For (2), @tf.function has reduce_retracing=True option that can avoid unnecessary retracing. For (3), please refer to https://www.tensorflow.org/guide/function#controlling_retracing and https://www.tensorflow.org/api_docs/python/tf/function for  more details.\n",
      "WARNING:tensorflow:6 out of the last 9 calls to <function TensorFlowTrainer.make_predict_function.<locals>.one_step_on_data_distributed at 0x000001C1F7DBAA20> triggered tf.function retracing. Tracing is expensive and the excessive number of tracings could be due to (1) creating @tf.function repeatedly in a loop, (2) passing tensors with different shapes, (3) passing Python objects instead of tensors. For (1), please define your @tf.function outside of the loop. For (2), @tf.function has reduce_retracing=True option that can avoid unnecessary retracing. For (3), please refer to https://www.tensorflow.org/guide/function#controlling_retracing and https://www.tensorflow.org/api_docs/python/tf/function for  more details.\n",
      "C:\\Users\\Tanish Garg\\.cache\\kagglehub\\datasets\\sanikatiwarekar\\deep-fake-detection-dfd-entire-original-dataset\\DFD_manipulated_sequences\\21_07__kitchen_pan__K7KXUHMU.mp4 completed\n",
      "\n",
      "C:\\Users\\Tanish Garg\\.cache\\kagglehub\\datasets\\sanikatiwarekar\\deep-fake-detection-dfd-entire-original-dataset\\DFD_manipulated_sequences\\27_02__podium_speech_happy__FV8M8O2C.mp4 completed\n",
      "\n",
      "C:\\Users\\Tanish Garg\\.cache\\kagglehub\\datasets\\sanikatiwarekar\\deep-fake-detection-dfd-entire-original-dataset\\DFD_original sequences\\27__walking_down_street_outside_angry.mp4 completed\n",
      "\n",
      "C:\\Users\\Tanish Garg\\.cache\\kagglehub\\datasets\\sanikatiwarekar\\deep-fake-detection-dfd-entire-original-dataset\\DFD_manipulated_sequences\\02_13__kitchen_pan__CP5HFV3K.mp4 completed\n",
      "\n",
      "C:\\Users\\Tanish Garg\\.cache\\kagglehub\\datasets\\sanikatiwarekar\\deep-fake-detection-dfd-entire-original-dataset\\DFD_original sequences\\05__walk_down_hall_angry.mp4 completed\n",
      "\n",
      "C:\\Users\\Tanish Garg\\.cache\\kagglehub\\datasets\\sanikatiwarekar\\deep-fake-detection-dfd-entire-original-dataset\\DFD_manipulated_sequences\\02_06__kitchen_pan__0M6JNS5D.mp4 completed\n",
      "\n",
      "C:\\Users\\Tanish Garg\\.cache\\kagglehub\\datasets\\sanikatiwarekar\\deep-fake-detection-dfd-entire-original-dataset\\DFD_original sequences\\21__talking_against_wall.mp4 completed\n",
      "\n",
      "C:\\Users\\Tanish Garg\\.cache\\kagglehub\\datasets\\sanikatiwarekar\\deep-fake-detection-dfd-entire-original-dataset\\DFD_original sequences\\23__outside_talking_pan_laughing.mp4 completed\n",
      "\n",
      "C:\\Users\\Tanish Garg\\.cache\\kagglehub\\datasets\\sanikatiwarekar\\deep-fake-detection-dfd-entire-original-dataset\\DFD_manipulated_sequences\\16_05__walking_down_street_outside_angry__94435UY3.mp4 completed\n",
      "\n",
      "C:\\Users\\Tanish Garg\\.cache\\kagglehub\\datasets\\sanikatiwarekar\\deep-fake-detection-dfd-entire-original-dataset\\DFD_manipulated_sequences\\13_18__kitchen_still__3II4T6H5.mp4 completed\n",
      "\n",
      "C:\\Users\\Tanish Garg\\.cache\\kagglehub\\datasets\\sanikatiwarekar\\deep-fake-detection-dfd-entire-original-dataset\\DFD_manipulated_sequences\\19_22__outside_talking_pan_laughing__VK6BF5NV.mp4 completed\n",
      "\n",
      "C:\\Users\\Tanish Garg\\.cache\\kagglehub\\datasets\\sanikatiwarekar\\deep-fake-detection-dfd-entire-original-dataset\\DFD_manipulated_sequences\\11_18__secret_conversation__JJ1YREUN.mp4 completed\n",
      "\n",
      "C:\\Users\\Tanish Garg\\.cache\\kagglehub\\datasets\\sanikatiwarekar\\deep-fake-detection-dfd-entire-original-dataset\\DFD_original sequences\\28__kitchen_pan.mp4 completed\n",
      "\n",
      "C:\\Users\\Tanish Garg\\.cache\\kagglehub\\datasets\\sanikatiwarekar\\deep-fake-detection-dfd-entire-original-dataset\\DFD_original sequences\\24__kitchen_pan.mp4 completed\n",
      "\n"
     ]
    },
    {
     "name": "stderr",
     "output_type": "stream",
     "text": [
      "Processing videos:   0%|                                                           | 1/480 [01:47<14:18:19, 107.51s/it]"
     ]
    },
    {
     "name": "stdout",
     "output_type": "stream",
     "text": [
      "C:\\Users\\Tanish Garg\\.cache\\kagglehub\\datasets\\sanikatiwarekar\\deep-fake-detection-dfd-entire-original-dataset\\DFD_manipulated_sequences\\01_27__meeting_serious__ZYCZ30C0.mp4 completed\n",
      "\n",
      "C:\\Users\\Tanish Garg\\.cache\\kagglehub\\datasets\\sanikatiwarekar\\deep-fake-detection-dfd-entire-original-dataset\\DFD_original sequences\\04__outside_talking_still_laughing.mp4 completed\n",
      "\n"
     ]
    },
    {
     "name": "stderr",
     "output_type": "stream",
     "text": [
      "Processing videos:   0%|▎                                                            | 2/480 [02:20<8:26:51, 63.62s/it]"
     ]
    },
    {
     "name": "stdout",
     "output_type": "stream",
     "text": [
      "C:\\Users\\Tanish Garg\\.cache\\kagglehub\\datasets\\sanikatiwarekar\\deep-fake-detection-dfd-entire-original-dataset\\DFD_original sequences\\13__walking_down_indoor_hall_disgust.mp4 completed\n",
      "\n",
      "C:\\Users\\Tanish Garg\\.cache\\kagglehub\\datasets\\sanikatiwarekar\\deep-fake-detection-dfd-entire-original-dataset\\DFD_manipulated_sequences\\03_07__walking_down_indoor_hall_disgust__CDSNLDQ8.mp4 completed\n",
      "\n"
     ]
    },
    {
     "name": "stderr",
     "output_type": "stream",
     "text": [
      "Processing videos:   1%|▌                                                            | 4/480 [02:32<3:39:05, 27.62s/it]"
     ]
    },
    {
     "name": "stdout",
     "output_type": "stream",
     "text": [
      "C:\\Users\\Tanish Garg\\.cache\\kagglehub\\datasets\\sanikatiwarekar\\deep-fake-detection-dfd-entire-original-dataset\\DFD_original sequences\\15__walking_down_indoor_hall_disgust.mp4 completed\n",
      "\n"
     ]
    },
    {
     "name": "stderr",
     "output_type": "stream",
     "text": [
      "Processing videos:   4%|██▌                                                           | 20/480 [02:41<29:01,  3.79s/it]"
     ]
    },
    {
     "name": "stdout",
     "output_type": "stream",
     "text": [
      "C:\\Users\\Tanish Garg\\.cache\\kagglehub\\datasets\\sanikatiwarekar\\deep-fake-detection-dfd-entire-original-dataset\\DFD_original sequences\\14__walking_down_indoor_hall_disgust.mp4 completed\n",
      "\n",
      "C:\\Users\\Tanish Garg\\.cache\\kagglehub\\datasets\\sanikatiwarekar\\deep-fake-detection-dfd-entire-original-dataset\\DFD_original sequences\\08__exit_phone_room.mp4 completed\n",
      "\n",
      "C:\\Users\\Tanish Garg\\.cache\\kagglehub\\datasets\\sanikatiwarekar\\deep-fake-detection-dfd-entire-original-dataset\\DFD_manipulated_sequences\\26_18__walk_down_hall_angry__UMEX6HWU.mp4 completed\n",
      "\n"
     ]
    },
    {
     "name": "stderr",
     "output_type": "stream",
     "text": [
      "Processing videos:   4%|██▋                                                           | 21/480 [02:56<37:18,  4.88s/it]"
     ]
    },
    {
     "name": "stdout",
     "output_type": "stream",
     "text": [
      "C:\\Users\\Tanish Garg\\.cache\\kagglehub\\datasets\\sanikatiwarekar\\deep-fake-detection-dfd-entire-original-dataset\\DFD_original sequences\\12__walk_down_hall_angry.mp4 completed\n",
      "\n",
      "C:\\Users\\Tanish Garg\\.cache\\kagglehub\\datasets\\sanikatiwarekar\\deep-fake-detection-dfd-entire-original-dataset\\DFD_original sequences\\02__walking_outside_cafe_disgusted.mp4 completed\n",
      "\n",
      "C:\\Users\\Tanish Garg\\.cache\\kagglehub\\datasets\\sanikatiwarekar\\deep-fake-detection-dfd-entire-original-dataset\\DFD_manipulated_sequences\\11_18__outside_talking_pan_laughing__PT4YKO2R.mp4 completed\n",
      "\n",
      "C:\\Users\\Tanish Garg\\.cache\\kagglehub\\datasets\\sanikatiwarekar\\deep-fake-detection-dfd-entire-original-dataset\\DFD_original sequences\\12__kitchen_pan.mp4 completed\n",
      "\n",
      "C:\\Users\\Tanish Garg\\.cache\\kagglehub\\datasets\\sanikatiwarekar\\deep-fake-detection-dfd-entire-original-dataset\\DFD_original sequences\\13__kitchen_still.mp4 completed\n",
      "\n",
      "C:\\Users\\Tanish Garg\\.cache\\kagglehub\\datasets\\sanikatiwarekar\\deep-fake-detection-dfd-entire-original-dataset\\DFD_original sequences\\20__hugging_happy.mp4 completed\n",
      "\n",
      "C:\\Users\\Tanish Garg\\.cache\\kagglehub\\datasets\\sanikatiwarekar\\deep-fake-detection-dfd-entire-original-dataset\\DFD_manipulated_sequences\\06_03__talking_against_wall__4I8LRXWF.mp4 completed\n",
      "\n",
      "C:\\Users\\Tanish Garg\\.cache\\kagglehub\\datasets\\sanikatiwarekar\\deep-fake-detection-dfd-entire-original-dataset\\DFD_manipulated_sequences\\14_06__hugging_happy__8U9ULZDT.mp4 completed\n",
      "\n"
     ]
    },
    {
     "name": "stderr",
     "output_type": "stream",
     "text": [
      "Processing videos:   5%|██▊                                                           | 22/480 [03:24<59:14,  7.76s/it]"
     ]
    },
    {
     "name": "stdout",
     "output_type": "stream",
     "text": [
      "C:\\Users\\Tanish Garg\\.cache\\kagglehub\\datasets\\sanikatiwarekar\\deep-fake-detection-dfd-entire-original-dataset\\DFD_original sequences\\27__meeting_serious.mp4 completed\n",
      "\n",
      "C:\\Users\\Tanish Garg\\.cache\\kagglehub\\datasets\\sanikatiwarekar\\deep-fake-detection-dfd-entire-original-dataset\\DFD_original sequences\\15__walking_and_outside_surprised.mp4 completed\n",
      "\n",
      "C:\\Users\\Tanish Garg\\.cache\\kagglehub\\datasets\\sanikatiwarekar\\deep-fake-detection-dfd-entire-original-dataset\\DFD_manipulated_sequences\\14_07__outside_talking_still_laughing__P9QFO50U.mp4 completed\n",
      "\n",
      "C:\\Users\\Tanish Garg\\.cache\\kagglehub\\datasets\\sanikatiwarekar\\deep-fake-detection-dfd-entire-original-dataset\\DFD_original sequences\\03__walk_down_hall_angry.mp4 completed\n",
      "\n",
      "C:\\Users\\Tanish Garg\\.cache\\kagglehub\\datasets\\sanikatiwarekar\\deep-fake-detection-dfd-entire-original-dataset\\DFD_manipulated_sequences\\09_02__podium_speech_happy__9TDCEK1Q.mp4 completed\n",
      "\n",
      "C:\\Users\\Tanish Garg\\.cache\\kagglehub\\datasets\\sanikatiwarekar\\deep-fake-detection-dfd-entire-original-dataset\\DFD_manipulated_sequences\\14_01__hugging_happy__0S0NS5C6.mp4 completed\n",
      "\n",
      "C:\\Users\\Tanish Garg\\.cache\\kagglehub\\datasets\\sanikatiwarekar\\deep-fake-detection-dfd-entire-original-dataset\\DFD_manipulated_sequences\\19_24__podium_speech_happy__LVZNRK9S.mp4 completed\n",
      "\n",
      "C:\\Users\\Tanish Garg\\.cache\\kagglehub\\datasets\\sanikatiwarekar\\deep-fake-detection-dfd-entire-original-dataset\\DFD_original sequences\\01__walking_down_street_outside_angry.mp4 completed\n",
      "\n",
      "C:\\Users\\Tanish Garg\\.cache\\kagglehub\\datasets\\sanikatiwarekar\\deep-fake-detection-dfd-entire-original-dataset\\DFD_manipulated_sequences\\28_05__walking_down_street_outside_angry__U9LRLJ6N.mp4 completed\n",
      "\n",
      "C:\\Users\\Tanish Garg\\.cache\\kagglehub\\datasets\\sanikatiwarekar\\deep-fake-detection-dfd-entire-original-dataset\\DFD_manipulated_sequences\\13_09__walking_down_street_outside_angry__8YDMHH02.mp4 completed\n",
      "\n"
     ]
    },
    {
     "name": "stderr",
     "output_type": "stream",
     "text": [
      "Processing videos:   5%|███                                                         | 24/480 [04:09<1:28:00, 11.58s/it]"
     ]
    },
    {
     "name": "stdout",
     "output_type": "stream",
     "text": [
      "C:\\Users\\Tanish Garg\\.cache\\kagglehub\\datasets\\sanikatiwarekar\\deep-fake-detection-dfd-entire-original-dataset\\DFD_original sequences\\26__talking_angry_couch.mp4 completed\n",
      "\n"
     ]
    },
    {
     "name": "stderr",
     "output_type": "stream",
     "text": [
      "Processing videos:   6%|███▉                                                          | 30/480 [04:10<41:32,  5.54s/it]"
     ]
    },
    {
     "name": "stdout",
     "output_type": "stream",
     "text": [
      "C:\\Users\\Tanish Garg\\.cache\\kagglehub\\datasets\\sanikatiwarekar\\deep-fake-detection-dfd-entire-original-dataset\\DFD_manipulated_sequences\\03_09__talking_angry_couch__RCETIXYL.mp4 completed\n",
      "\n",
      "C:\\Users\\Tanish Garg\\.cache\\kagglehub\\datasets\\sanikatiwarekar\\deep-fake-detection-dfd-entire-original-dataset\\DFD_manipulated_sequences\\02_15__walk_down_hall_angry__TN2CWM3K.mp4 completed\n",
      "\n",
      "C:\\Users\\Tanish Garg\\.cache\\kagglehub\\datasets\\sanikatiwarekar\\deep-fake-detection-dfd-entire-original-dataset\\DFD_manipulated_sequences\\21_25__outside_talking_pan_laughing__2R46UX3R.mp4 completed\n",
      "\n",
      "C:\\Users\\Tanish Garg\\.cache\\kagglehub\\datasets\\sanikatiwarekar\\deep-fake-detection-dfd-entire-original-dataset\\DFD_manipulated_sequences\\20_21__walk_down_hall_angry__ZCB5OMEW.mp4 completed\n",
      "\n"
     ]
    },
    {
     "name": "stderr",
     "output_type": "stream",
     "text": [
      "Processing videos:   8%|█████▏                                                        | 40/480 [04:43<31:36,  4.31s/it]"
     ]
    },
    {
     "name": "stdout",
     "output_type": "stream",
     "text": [
      "C:\\Users\\Tanish Garg\\.cache\\kagglehub\\datasets\\sanikatiwarekar\\deep-fake-detection-dfd-entire-original-dataset\\DFD_original sequences\\07__podium_speech_happy.mp4 completed\n",
      "\n",
      "C:\\Users\\Tanish Garg\\.cache\\kagglehub\\datasets\\sanikatiwarekar\\deep-fake-detection-dfd-entire-original-dataset\\DFD_original sequences\\09__kitchen_pan.mp4 completed\n",
      "\n",
      "C:\\Users\\Tanish Garg\\.cache\\kagglehub\\datasets\\sanikatiwarekar\\deep-fake-detection-dfd-entire-original-dataset\\DFD_manipulated_sequences\\01_04__walking_down_street_outside_angry__GBC7ZGDP.mp4 completed\n",
      "\n",
      "C:\\Users\\Tanish Garg\\.cache\\kagglehub\\datasets\\sanikatiwarekar\\deep-fake-detection-dfd-entire-original-dataset\\DFD_original sequences\\04__kitchen_still.mp4 completed\n",
      "\n",
      "C:\\Users\\Tanish Garg\\.cache\\kagglehub\\datasets\\sanikatiwarekar\\deep-fake-detection-dfd-entire-original-dataset\\DFD_original sequences\\19__walk_down_hall_angry.mp4 completed\n",
      "\n"
     ]
    },
    {
     "name": "stderr",
     "output_type": "stream",
     "text": [
      "Processing videos:   9%|█████▍                                                        | 42/480 [05:10<40:42,  5.58s/it]"
     ]
    },
    {
     "name": "stdout",
     "output_type": "stream",
     "text": [
      "C:\\Users\\Tanish Garg\\.cache\\kagglehub\\datasets\\sanikatiwarekar\\deep-fake-detection-dfd-entire-original-dataset\\DFD_original sequences\\10__talking_angry_couch.mp4 completed\n",
      "\n",
      "C:\\Users\\Tanish Garg\\.cache\\kagglehub\\datasets\\sanikatiwarekar\\deep-fake-detection-dfd-entire-original-dataset\\DFD_original sequences\\08__outside_talking_still_laughing.mp4 completed\n",
      "\n",
      "C:\\Users\\Tanish Garg\\.cache\\kagglehub\\datasets\\sanikatiwarekar\\deep-fake-detection-dfd-entire-original-dataset\\DFD_original sequences\\07__outside_talking_pan_laughing.mp4 completed\n",
      "\n",
      "C:\\Users\\Tanish Garg\\.cache\\kagglehub\\datasets\\sanikatiwarekar\\deep-fake-detection-dfd-entire-original-dataset\\DFD_original sequences\\07__kitchen_still.mp4 completed\n",
      "\n",
      "C:\\Users\\Tanish Garg\\.cache\\kagglehub\\datasets\\sanikatiwarekar\\deep-fake-detection-dfd-entire-original-dataset\\DFD_original sequences\\26__walk_down_hall_angry.mp4 completed\n",
      "\n",
      "C:\\Users\\Tanish Garg\\.cache\\kagglehub\\datasets\\sanikatiwarekar\\deep-fake-detection-dfd-entire-original-dataset\\DFD_original sequences\\24__kitchen_still.mp4 completed\n",
      "\n"
     ]
    },
    {
     "name": "stderr",
     "output_type": "stream",
     "text": [
      "Processing videos:  10%|█████▉                                                        | 46/480 [05:21<34:23,  4.75s/it]"
     ]
    },
    {
     "name": "stdout",
     "output_type": "stream",
     "text": [
      "C:\\Users\\Tanish Garg\\.cache\\kagglehub\\datasets\\sanikatiwarekar\\deep-fake-detection-dfd-entire-original-dataset\\DFD_original sequences\\23__talking_angry_couch.mp4 completed\n",
      "\n"
     ]
    },
    {
     "name": "stderr",
     "output_type": "stream",
     "text": [
      "Processing videos:  10%|██████▏                                                       | 48/480 [05:29<33:33,  4.66s/it]"
     ]
    },
    {
     "name": "stdout",
     "output_type": "stream",
     "text": [
      "C:\\Users\\Tanish Garg\\.cache\\kagglehub\\datasets\\sanikatiwarekar\\deep-fake-detection-dfd-entire-original-dataset\\DFD_original sequences\\24__talking_angry_couch.mp4 completed\n",
      "\n",
      "C:\\Users\\Tanish Garg\\.cache\\kagglehub\\datasets\\sanikatiwarekar\\deep-fake-detection-dfd-entire-original-dataset\\DFD_original sequences\\28__outside_talking_still_laughing.mp4 completed\n",
      "\n",
      "C:\\Users\\Tanish Garg\\.cache\\kagglehub\\datasets\\sanikatiwarekar\\deep-fake-detection-dfd-entire-original-dataset\\DFD_manipulated_sequences\\16_08__hugging_happy__8Q7JCS95.mp4 completed\n",
      "\n"
     ]
    },
    {
     "name": "stderr",
     "output_type": "stream",
     "text": [
      "Processing videos:  11%|██████▌                                                       | 51/480 [05:34<27:20,  3.82s/it]"
     ]
    },
    {
     "name": "stdout",
     "output_type": "stream",
     "text": [
      "C:\\Users\\Tanish Garg\\.cache\\kagglehub\\datasets\\sanikatiwarekar\\deep-fake-detection-dfd-entire-original-dataset\\DFD_original sequences\\16__walking_outside_cafe_disgusted.mp4 completed\n",
      "\n",
      "C:\\Users\\Tanish Garg\\.cache\\kagglehub\\datasets\\sanikatiwarekar\\deep-fake-detection-dfd-entire-original-dataset\\DFD_manipulated_sequences\\25_12__walking_outside_cafe_disgusted__G26LG5N7.mp4 completed\n",
      "\n"
     ]
    },
    {
     "name": "stderr",
     "output_type": "stream",
     "text": [
      "Processing videos:  13%|████████                                                      | 62/480 [05:51<17:38,  2.53s/it]"
     ]
    },
    {
     "name": "stdout",
     "output_type": "stream",
     "text": [
      "C:\\Users\\Tanish Garg\\.cache\\kagglehub\\datasets\\sanikatiwarekar\\deep-fake-detection-dfd-entire-original-dataset\\DFD_original sequences\\03__outside_talking_still_laughing.mp4 completed\n",
      "\n"
     ]
    },
    {
     "name": "stderr",
     "output_type": "stream",
     "text": [
      "Processing videos:  13%|████████▏                                                     | 63/480 [05:56<18:36,  2.68s/it]"
     ]
    },
    {
     "name": "stdout",
     "output_type": "stream",
     "text": [
      "C:\\Users\\Tanish Garg\\.cache\\kagglehub\\datasets\\sanikatiwarekar\\deep-fake-detection-dfd-entire-original-dataset\\DFD_original sequences\\03__hugging_happy.mp4 completed\n",
      "\n",
      "C:\\Users\\Tanish Garg\\.cache\\kagglehub\\datasets\\sanikatiwarekar\\deep-fake-detection-dfd-entire-original-dataset\\DFD_original sequences\\01__walking_outside_cafe_disgusted.mp4 completed\n",
      "\n",
      "C:\\Users\\Tanish Garg\\.cache\\kagglehub\\datasets\\sanikatiwarekar\\deep-fake-detection-dfd-entire-original-dataset\\DFD_manipulated_sequences\\09_26__talking_against_wall__C3K20JOL.mp4 completed\n",
      "\n",
      "C:\\Users\\Tanish Garg\\.cache\\kagglehub\\datasets\\sanikatiwarekar\\deep-fake-detection-dfd-entire-original-dataset\\DFD_original sequences\\17__outside_talking_still_laughing.mp4 completed\n",
      "\n",
      "C:\\Users\\Tanish Garg\\.cache\\kagglehub\\datasets\\sanikatiwarekar\\deep-fake-detection-dfd-entire-original-dataset\\DFD_original sequences\\07__walk_down_hall_angry.mp4 completed\n",
      "\n"
     ]
    },
    {
     "name": "stderr",
     "output_type": "stream",
     "text": [
      "Processing videos:  13%|████████▎                                                     | 64/480 [06:23<33:35,  4.84s/it]"
     ]
    },
    {
     "name": "stdout",
     "output_type": "stream",
     "text": [
      "C:\\Users\\Tanish Garg\\.cache\\kagglehub\\datasets\\sanikatiwarekar\\deep-fake-detection-dfd-entire-original-dataset\\DFD_manipulated_sequences\\26_06__podium_speech_happy__L5BVR5L9.mp4 completed\n",
      "\n",
      "C:\\Users\\Tanish Garg\\.cache\\kagglehub\\datasets\\sanikatiwarekar\\deep-fake-detection-dfd-entire-original-dataset\\DFD_original sequences\\18__walking_outside_cafe_disgusted.mp4 completed\n",
      "\n",
      "C:\\Users\\Tanish Garg\\.cache\\kagglehub\\datasets\\sanikatiwarekar\\deep-fake-detection-dfd-entire-original-dataset\\DFD_manipulated_sequences\\14_03__exit_phone_room__0O9TTCJT.mp4 completed\n",
      "\n",
      "C:\\Users\\Tanish Garg\\.cache\\kagglehub\\datasets\\sanikatiwarekar\\deep-fake-detection-dfd-entire-original-dataset\\DFD_manipulated_sequences\\15_20__kitchen_pan__99NHTFBM.mp4 completed\n",
      "\n",
      "C:\\Users\\Tanish Garg\\.cache\\kagglehub\\datasets\\sanikatiwarekar\\deep-fake-detection-dfd-entire-original-dataset\\DFD_manipulated_sequences\\15_21__hugging_happy__87WSBJP3.mp4 completed\n",
      "\n"
     ]
    },
    {
     "name": "stderr",
     "output_type": "stream",
     "text": [
      "Processing videos:  14%|████████▋                                                     | 67/480 [06:54<44:26,  6.46s/it]"
     ]
    },
    {
     "name": "stdout",
     "output_type": "stream",
     "text": [
      "C:\\Users\\Tanish Garg\\.cache\\kagglehub\\datasets\\sanikatiwarekar\\deep-fake-detection-dfd-entire-original-dataset\\DFD_manipulated_sequences\\09_21__talking_angry_couch__Z8H2TRCI.mp4 completed\n",
      "\n",
      "C:\\Users\\Tanish Garg\\.cache\\kagglehub\\datasets\\sanikatiwarekar\\deep-fake-detection-dfd-entire-original-dataset\\DFD_original sequences\\04__podium_speech_happy.mp4 completed\n",
      "\n",
      "C:\\Users\\Tanish Garg\\.cache\\kagglehub\\datasets\\sanikatiwarekar\\deep-fake-detection-dfd-entire-original-dataset\\DFD_original sequences\\01__exit_phone_room.mp4 completed\n",
      "\n",
      "C:\\Users\\Tanish Garg\\.cache\\kagglehub\\datasets\\sanikatiwarekar\\deep-fake-detection-dfd-entire-original-dataset\\DFD_manipulated_sequences\\03_07__podium_speech_happy__6PHZRQ4H.mp4 completed\n",
      "\n"
     ]
    },
    {
     "name": "stderr",
     "output_type": "stream",
     "text": [
      "Processing videos:  14%|████████▉                                                     | 69/480 [07:09<45:30,  6.64s/it]"
     ]
    },
    {
     "name": "stdout",
     "output_type": "stream",
     "text": [
      "C:\\Users\\Tanish Garg\\.cache\\kagglehub\\datasets\\sanikatiwarekar\\deep-fake-detection-dfd-entire-original-dataset\\DFD_manipulated_sequences\\26_04__talking_against_wall__WX836VLY.mp4 completed\n",
      "\n",
      "C:\\Users\\Tanish Garg\\.cache\\kagglehub\\datasets\\sanikatiwarekar\\deep-fake-detection-dfd-entire-original-dataset\\DFD_original sequences\\25__outside_talking_pan_laughing.mp4 completed\n",
      "\n",
      "C:\\Users\\Tanish Garg\\.cache\\kagglehub\\datasets\\sanikatiwarekar\\deep-fake-detection-dfd-entire-original-dataset\\DFD_original sequences\\28__outside_talking_pan_laughing.mp4 completed\n",
      "\n"
     ]
    },
    {
     "name": "stderr",
     "output_type": "stream",
     "text": [
      "Processing videos:  15%|█████████▏                                                    | 71/480 [07:23<45:30,  6.68s/it]"
     ]
    },
    {
     "name": "stdout",
     "output_type": "stream",
     "text": [
      "C:\\Users\\Tanish Garg\\.cache\\kagglehub\\datasets\\sanikatiwarekar\\deep-fake-detection-dfd-entire-original-dataset\\DFD_manipulated_sequences\\15_02__talking_angry_couch__I8G2LWD1.mp4 completed\n",
      "\n",
      "C:\\Users\\Tanish Garg\\.cache\\kagglehub\\datasets\\sanikatiwarekar\\deep-fake-detection-dfd-entire-original-dataset\\DFD_original sequences\\20__walking_down_street_outside_angry.mp4 completed\n",
      "\n",
      "C:\\Users\\Tanish Garg\\.cache\\kagglehub\\datasets\\sanikatiwarekar\\deep-fake-detection-dfd-entire-original-dataset\\DFD_manipulated_sequences\\18_26__walking_down_street_outside_angry__UMEX6HWU.mp4 completed\n",
      "\n",
      "C:\\Users\\Tanish Garg\\.cache\\kagglehub\\datasets\\sanikatiwarekar\\deep-fake-detection-dfd-entire-original-dataset\\DFD_manipulated_sequences\\12_15__secret_conversation__RK17XFJ9.mp4 completed\n",
      "\n",
      "C:\\Users\\Tanish Garg\\.cache\\kagglehub\\datasets\\sanikatiwarekar\\deep-fake-detection-dfd-entire-original-dataset\\DFD_manipulated_sequences\\13_02__walking_down_street_outside_angry__2YSYT2N3.mp4 completed\n",
      "\n",
      "C:\\Users\\Tanish Garg\\.cache\\kagglehub\\datasets\\sanikatiwarekar\\deep-fake-detection-dfd-entire-original-dataset\\DFD_manipulated_sequences\\15_14__outside_talking_still_laughing__RNHLLKSQ.mp4 completed\n",
      "\n"
     ]
    },
    {
     "name": "stderr",
     "output_type": "stream",
     "text": [
      "Processing videos:  16%|█████████▋                                                    | 75/480 [07:38<36:11,  5.36s/it]"
     ]
    },
    {
     "name": "stdout",
     "output_type": "stream",
     "text": [
      "C:\\Users\\Tanish Garg\\.cache\\kagglehub\\datasets\\sanikatiwarekar\\deep-fake-detection-dfd-entire-original-dataset\\DFD_original sequences\\03__talking_angry_couch.mp4 completed\n",
      "\n",
      "C:\\Users\\Tanish Garg\\.cache\\kagglehub\\datasets\\sanikatiwarekar\\deep-fake-detection-dfd-entire-original-dataset\\DFD_original sequences\\17__walking_down_street_outside_angry.mp4 completed\n",
      "\n",
      "C:\\Users\\Tanish Garg\\.cache\\kagglehub\\datasets\\sanikatiwarekar\\deep-fake-detection-dfd-entire-original-dataset\\DFD_original sequences\\27__walk_down_hall_angry.mp4 completed\n",
      "\n",
      "C:\\Users\\Tanish Garg\\.cache\\kagglehub\\datasets\\sanikatiwarekar\\deep-fake-detection-dfd-entire-original-dataset\\DFD_original sequences\\10__podium_speech_happy.mp4 completed\n",
      "\n",
      "C:\\Users\\Tanish Garg\\.cache\\kagglehub\\datasets\\sanikatiwarekar\\deep-fake-detection-dfd-entire-original-dataset\\DFD_original sequences\\14__kitchen_still.mp4 completed\n",
      "\n"
     ]
    },
    {
     "name": "stderr",
     "output_type": "stream",
     "text": [
      "Processing videos:  16%|██████████▏                                                   | 79/480 [08:01<36:59,  5.53s/it]"
     ]
    },
    {
     "name": "stdout",
     "output_type": "stream",
     "text": [
      "C:\\Users\\Tanish Garg\\.cache\\kagglehub\\datasets\\sanikatiwarekar\\deep-fake-detection-dfd-entire-original-dataset\\DFD_manipulated_sequences\\25_11__podium_speech_happy__JX0SAMTC.mp4 completed\n",
      "\n",
      "C:\\Users\\Tanish Garg\\.cache\\kagglehub\\datasets\\sanikatiwarekar\\deep-fake-detection-dfd-entire-original-dataset\\DFD_manipulated_sequences\\12_13__kitchen_still__BFH4F0N8.mp4 completed\n",
      "\n",
      "C:\\Users\\Tanish Garg\\.cache\\kagglehub\\datasets\\sanikatiwarekar\\deep-fake-detection-dfd-entire-original-dataset\\DFD_manipulated_sequences\\01_20__walk_down_hall_angry__FW94AIMJ.mp4 completed\n",
      "\n",
      "C:\\Users\\Tanish Garg\\.cache\\kagglehub\\datasets\\sanikatiwarekar\\deep-fake-detection-dfd-entire-original-dataset\\DFD_manipulated_sequences\\20_26__kitchen_pan__34DJQS3E.mp4 completed\n",
      "\n",
      "C:\\Users\\Tanish Garg\\.cache\\kagglehub\\datasets\\sanikatiwarekar\\deep-fake-detection-dfd-entire-original-dataset\\DFD_manipulated_sequences\\01_03__podium_speech_happy__480LQD1C.mp4 completed\n",
      "\n",
      "C:\\Users\\Tanish Garg\\.cache\\kagglehub\\datasets\\sanikatiwarekar\\deep-fake-detection-dfd-entire-original-dataset\\DFD_original sequences\\05__talking_against_wall.mp4 completed\n",
      "\n",
      "C:\\Users\\Tanish Garg\\.cache\\kagglehub\\datasets\\sanikatiwarekar\\deep-fake-detection-dfd-entire-original-dataset\\DFD_manipulated_sequences\\03_18__podium_speech_happy__22UBC0BS.mp4 completed\n",
      "\n"
     ]
    },
    {
     "name": "stderr",
     "output_type": "stream",
     "text": [
      "Processing videos:  19%|███████████▉                                                  | 92/480 [08:40<24:48,  3.84s/it]"
     ]
    },
    {
     "name": "stdout",
     "output_type": "stream",
     "text": [
      "C:\\Users\\Tanish Garg\\.cache\\kagglehub\\datasets\\sanikatiwarekar\\deep-fake-detection-dfd-entire-original-dataset\\DFD_manipulated_sequences\\26_25__talking_against_wall__PQ41U3IJ.mp4 completed\n",
      "\n",
      "C:\\Users\\Tanish Garg\\.cache\\kagglehub\\datasets\\sanikatiwarekar\\deep-fake-detection-dfd-entire-original-dataset\\DFD_original sequences\\06__kitchen_pan.mp4 completed\n",
      "\n",
      "C:\\Users\\Tanish Garg\\.cache\\kagglehub\\datasets\\sanikatiwarekar\\deep-fake-detection-dfd-entire-original-dataset\\DFD_manipulated_sequences\\14_13__outside_talking_pan_laughing__KMQ3AW6A.mp4 completed\n",
      "\n",
      "C:\\Users\\Tanish Garg\\.cache\\kagglehub\\datasets\\sanikatiwarekar\\deep-fake-detection-dfd-entire-original-dataset\\DFD_manipulated_sequences\\24_19__outside_talking_pan_laughing__59PN7WZ2.mp4 completed\n",
      "\n",
      "C:\\Users\\Tanish Garg\\.cache\\kagglehub\\datasets\\sanikatiwarekar\\deep-fake-detection-dfd-entire-original-dataset\\DFD_original sequences\\04__walk_down_hall_angry.mp4 completed\n",
      "\n",
      "C:\\Users\\Tanish Garg\\.cache\\kagglehub\\datasets\\sanikatiwarekar\\deep-fake-detection-dfd-entire-original-dataset\\DFD_manipulated_sequences\\03_18__secret_conversation__32DBR8L4.mp4 completed\n",
      "\n",
      "C:\\Users\\Tanish Garg\\.cache\\kagglehub\\datasets\\sanikatiwarekar\\deep-fake-detection-dfd-entire-original-dataset\\DFD_original sequences\\17__exit_phone_room.mp4 completed\n",
      "\n"
     ]
    },
    {
     "name": "stderr",
     "output_type": "stream",
     "text": [
      "Processing videos:  20%|████████████▋                                                 | 98/480 [09:05<24:50,  3.90s/it]"
     ]
    },
    {
     "name": "stdout",
     "output_type": "stream",
     "text": [
      "C:\\Users\\Tanish Garg\\.cache\\kagglehub\\datasets\\sanikatiwarekar\\deep-fake-detection-dfd-entire-original-dataset\\DFD_original sequences\\22__walking_outside_cafe_disgusted.mp4 completed\n",
      "\n",
      "C:\\Users\\Tanish Garg\\.cache\\kagglehub\\datasets\\sanikatiwarekar\\deep-fake-detection-dfd-entire-original-dataset\\DFD_original sequences\\27__walking_and_outside_surprised.mp4 completed\n",
      "\n",
      "C:\\Users\\Tanish Garg\\.cache\\kagglehub\\datasets\\sanikatiwarekar\\deep-fake-detection-dfd-entire-original-dataset\\DFD_original sequences\\16__kitchen_still.mp4 completed\n",
      "\n",
      "C:\\Users\\Tanish Garg\\.cache\\kagglehub\\datasets\\sanikatiwarekar\\deep-fake-detection-dfd-entire-original-dataset\\DFD_original sequences\\22__outside_talking_still_laughing.mp4 completed\n",
      "\n"
     ]
    },
    {
     "name": "stderr",
     "output_type": "stream",
     "text": [
      "Processing videos:  22%|█████████████▎                                               | 105/480 [09:10<17:30,  2.80s/it]"
     ]
    },
    {
     "name": "stdout",
     "output_type": "stream",
     "text": [
      "C:\\Users\\Tanish Garg\\.cache\\kagglehub\\datasets\\sanikatiwarekar\\deep-fake-detection-dfd-entire-original-dataset\\DFD_original sequences\\12__hugging_happy.mp4 completed\n",
      "\n",
      "C:\\Users\\Tanish Garg\\.cache\\kagglehub\\datasets\\sanikatiwarekar\\deep-fake-detection-dfd-entire-original-dataset\\DFD_manipulated_sequences\\02_01__exit_phone_room__YVGY8LOK.mp4 completed\n",
      "\n"
     ]
    },
    {
     "name": "stderr",
     "output_type": "stream",
     "text": [
      "Processing videos:  23%|█████████████▊                                               | 109/480 [09:20<16:45,  2.71s/it]"
     ]
    },
    {
     "name": "stdout",
     "output_type": "stream",
     "text": [
      "C:\\Users\\Tanish Garg\\.cache\\kagglehub\\datasets\\sanikatiwarekar\\deep-fake-detection-dfd-entire-original-dataset\\DFD_manipulated_sequences\\15_14__walking_and_outside_surprised__OMLZILK3.mp4 completed\n",
      "\n",
      "C:\\Users\\Tanish Garg\\.cache\\kagglehub\\datasets\\sanikatiwarekar\\deep-fake-detection-dfd-entire-original-dataset\\DFD_manipulated_sequences\\09_13__walk_down_hall_angry__BVZGDFD8.mp4 completed\n",
      "\n",
      "C:\\Users\\Tanish Garg\\.cache\\kagglehub\\datasets\\sanikatiwarekar\\deep-fake-detection-dfd-entire-original-dataset\\DFD_original sequences\\14__hugging_happy.mp4 completed\n",
      "\n",
      "C:\\Users\\Tanish Garg\\.cache\\kagglehub\\datasets\\sanikatiwarekar\\deep-fake-detection-dfd-entire-original-dataset\\DFD_manipulated_sequences\\21_09__walk_down_hall_angry__WBPEX4CU.mp4 completed\n",
      "\n",
      "C:\\Users\\Tanish Garg\\.cache\\kagglehub\\datasets\\sanikatiwarekar\\deep-fake-detection-dfd-entire-original-dataset\\DFD_manipulated_sequences\\18_14__kitchen_still__A5A1Q467.mp4 completed\n",
      "\n"
     ]
    },
    {
     "name": "stderr",
     "output_type": "stream",
     "text": [
      "Processing videos:  23%|█████████████▉                                               | 110/480 [09:50<32:02,  5.20s/it]"
     ]
    },
    {
     "name": "stdout",
     "output_type": "stream",
     "text": [
      "C:\\Users\\Tanish Garg\\.cache\\kagglehub\\datasets\\sanikatiwarekar\\deep-fake-detection-dfd-entire-original-dataset\\DFD_manipulated_sequences\\04_11__outside_talking_still_laughing__JRQWOV1G.mp4 completed\n",
      "\n",
      "C:\\Users\\Tanish Garg\\.cache\\kagglehub\\datasets\\sanikatiwarekar\\deep-fake-detection-dfd-entire-original-dataset\\DFD_original sequences\\17__podium_speech_happy.mp4 completed\n",
      "\n",
      "C:\\Users\\Tanish Garg\\.cache\\kagglehub\\datasets\\sanikatiwarekar\\deep-fake-detection-dfd-entire-original-dataset\\DFD_manipulated_sequences\\03_14__exit_phone_room__H0VQHGS3.mp4 completed\n",
      "\n",
      "C:\\Users\\Tanish Garg\\.cache\\kagglehub\\datasets\\sanikatiwarekar\\deep-fake-detection-dfd-entire-original-dataset\\DFD_manipulated_sequences\\01_11__hugging_happy__P06JKA75.mp4 completed\n",
      "\n",
      "C:\\Users\\Tanish Garg\\.cache\\kagglehub\\datasets\\sanikatiwarekar\\deep-fake-detection-dfd-entire-original-dataset\\DFD_manipulated_sequences\\09_02__walking_down_street_outside_angry__6KUOFMZW.mp4 completed\n",
      "\n",
      "C:\\Users\\Tanish Garg\\.cache\\kagglehub\\datasets\\sanikatiwarekar\\deep-fake-detection-dfd-entire-original-dataset\\DFD_original sequences\\01__outside_talking_still_laughing.mp4 completed\n",
      "\n"
     ]
    },
    {
     "name": "stderr",
     "output_type": "stream",
     "text": [
      "Processing videos:  23%|██████████████                                               | 111/480 [10:08<40:48,  6.64s/it]"
     ]
    },
    {
     "name": "stdout",
     "output_type": "stream",
     "text": [
      "C:\\Users\\Tanish Garg\\.cache\\kagglehub\\datasets\\sanikatiwarekar\\deep-fake-detection-dfd-entire-original-dataset\\DFD_original sequences\\17__walking_and_outside_surprised.mp4 completed\n",
      "\n",
      "C:\\Users\\Tanish Garg\\.cache\\kagglehub\\datasets\\sanikatiwarekar\\deep-fake-detection-dfd-entire-original-dataset\\DFD_manipulated_sequences\\25_27__walk_down_hall_angry__GNIMW95Z.mp4 completed\n",
      "\n",
      "C:\\Users\\Tanish Garg\\.cache\\kagglehub\\datasets\\sanikatiwarekar\\deep-fake-detection-dfd-entire-original-dataset\\DFD_original sequences\\07__talking_against_wall.mp4 completed\n",
      "\n",
      "C:\\Users\\Tanish Garg\\.cache\\kagglehub\\datasets\\sanikatiwarekar\\deep-fake-detection-dfd-entire-original-dataset\\DFD_manipulated_sequences\\20_25__hugging_happy__RSCD7KXO.mp4 completed\n",
      "\n",
      "C:\\Users\\Tanish Garg\\.cache\\kagglehub\\datasets\\sanikatiwarekar\\deep-fake-detection-dfd-entire-original-dataset\\DFD_original sequences\\23__kitchen_pan.mp4 completed\n",
      "\n",
      "C:\\Users\\Tanish Garg\\.cache\\kagglehub\\datasets\\sanikatiwarekar\\deep-fake-detection-dfd-entire-original-dataset\\DFD_manipulated_sequences\\14_18__walking_down_indoor_hall_disgust__0YRBHIKG.mp4 completed\n",
      "\n",
      "C:\\Users\\Tanish Garg\\.cache\\kagglehub\\datasets\\sanikatiwarekar\\deep-fake-detection-dfd-entire-original-dataset\\DFD_original sequences\\25__outside_talking_still_laughing.mp4 completed\n",
      "\n",
      "C:\\Users\\Tanish Garg\\.cache\\kagglehub\\datasets\\sanikatiwarekar\\deep-fake-detection-dfd-entire-original-dataset\\DFD_original sequences\\24__walking_outside_cafe_disgusted.mp4 completed\n",
      "\n",
      "C:\\Users\\Tanish Garg\\.cache\\kagglehub\\datasets\\sanikatiwarekar\\deep-fake-detection-dfd-entire-original-dataset\\DFD_manipulated_sequences\\23_10__secret_conversation__CU6SNBFZ.mp4 completed\n",
      "\n",
      "C:\\Users\\Tanish Garg\\.cache\\kagglehub\\datasets\\sanikatiwarekar\\deep-fake-detection-dfd-entire-original-dataset\\DFD_original sequences\\16__kitchen_pan.mp4 completed\n",
      "\n"
     ]
    },
    {
     "name": "stderr",
     "output_type": "stream",
     "text": [
      "Processing videos:  25%|███████████████▌                                             | 122/480 [10:51<28:17,  4.74s/it]"
     ]
    },
    {
     "name": "stdout",
     "output_type": "stream",
     "text": [
      "C:\\Users\\Tanish Garg\\.cache\\kagglehub\\datasets\\sanikatiwarekar\\deep-fake-detection-dfd-entire-original-dataset\\DFD_original sequences\\22__walking_down_indoor_hall_disgust.mp4 completed\n",
      "\n",
      "C:\\Users\\Tanish Garg\\.cache\\kagglehub\\datasets\\sanikatiwarekar\\deep-fake-detection-dfd-entire-original-dataset\\DFD_original sequences\\01__kitchen_pan.mp4 completed\n",
      "\n",
      "C:\\Users\\Tanish Garg\\.cache\\kagglehub\\datasets\\sanikatiwarekar\\deep-fake-detection-dfd-entire-original-dataset\\DFD_manipulated_sequences\\14_07__walk_down_hall_angry__P9QFO50U.mp4 completed\n",
      "\n"
     ]
    },
    {
     "name": "stderr",
     "output_type": "stream",
     "text": [
      "Processing videos:  28%|█████████████████                                            | 134/480 [11:05<15:32,  2.70s/it]"
     ]
    },
    {
     "name": "stdout",
     "output_type": "stream",
     "text": [
      "C:\\Users\\Tanish Garg\\.cache\\kagglehub\\datasets\\sanikatiwarekar\\deep-fake-detection-dfd-entire-original-dataset\\DFD_original sequences\\11__secret_conversation.mp4 completed\n",
      "\n",
      "C:\\Users\\Tanish Garg\\.cache\\kagglehub\\datasets\\sanikatiwarekar\\deep-fake-detection-dfd-entire-original-dataset\\DFD_manipulated_sequences\\03_15__walking_and_outside_surprised__OY4I7ZU8.mp4 completed\n",
      "\n",
      "C:\\Users\\Tanish Garg\\.cache\\kagglehub\\datasets\\sanikatiwarekar\\deep-fake-detection-dfd-entire-original-dataset\\DFD_original sequences\\24__exit_phone_room.mp4 completed\n",
      "\n",
      "C:\\Users\\Tanish Garg\\.cache\\kagglehub\\datasets\\sanikatiwarekar\\deep-fake-detection-dfd-entire-original-dataset\\DFD_manipulated_sequences\\13_03__walking_outside_cafe_disgusted__GBYWJW06.mp4 completed\n",
      "\n"
     ]
    },
    {
     "name": "stderr",
     "output_type": "stream",
     "text": [
      "Processing videos:  28%|█████████████████▏                                           | 135/480 [11:26<22:05,  3.84s/it]"
     ]
    },
    {
     "name": "stdout",
     "output_type": "stream",
     "text": [
      "C:\\Users\\Tanish Garg\\.cache\\kagglehub\\datasets\\sanikatiwarekar\\deep-fake-detection-dfd-entire-original-dataset\\DFD_manipulated_sequences\\16_08__walking_down_indoor_hall_disgust__8Q7JCS95.mp4 completed\n",
      "\n",
      "C:\\Users\\Tanish Garg\\.cache\\kagglehub\\datasets\\sanikatiwarekar\\deep-fake-detection-dfd-entire-original-dataset\\DFD_manipulated_sequences\\18_20__outside_talking_pan_laughing__8BMQOD7S.mp4 completed\n",
      "\n",
      "C:\\Users\\Tanish Garg\\.cache\\kagglehub\\datasets\\sanikatiwarekar\\deep-fake-detection-dfd-entire-original-dataset\\DFD_manipulated_sequences\\25_21__walking_down_street_outside_angry__2R46UX3R.mp4 completed\n",
      "\n",
      "C:\\Users\\Tanish Garg\\.cache\\kagglehub\\datasets\\sanikatiwarekar\\deep-fake-detection-dfd-entire-original-dataset\\DFD_manipulated_sequences\\14_18__walking_and_outside_surprised__A5A1Q467.mp4 completed\n",
      "\n",
      "C:\\Users\\Tanish Garg\\.cache\\kagglehub\\datasets\\sanikatiwarekar\\deep-fake-detection-dfd-entire-original-dataset\\DFD_manipulated_sequences\\06_03__hugging_happy__4I8LRXWF.mp4 completed\n",
      "\n",
      "C:\\Users\\Tanish Garg\\.cache\\kagglehub\\datasets\\sanikatiwarekar\\deep-fake-detection-dfd-entire-original-dataset\\DFD_manipulated_sequences\\03_06__kitchen_pan__1IXGY2FK.mp4 completed\n",
      "\n",
      "C:\\Users\\Tanish Garg\\.cache\\kagglehub\\datasets\\sanikatiwarekar\\deep-fake-detection-dfd-entire-original-dataset\\DFD_original sequences\\02__meeting_serious.mp4 completed\n",
      "\n"
     ]
    },
    {
     "name": "stderr",
     "output_type": "stream",
     "text": [
      "Processing videos:  29%|█████████████████▌                                           | 138/480 [11:48<26:21,  4.62s/it]"
     ]
    },
    {
     "name": "stdout",
     "output_type": "stream",
     "text": [
      "C:\\Users\\Tanish Garg\\.cache\\kagglehub\\datasets\\sanikatiwarekar\\deep-fake-detection-dfd-entire-original-dataset\\DFD_original sequences\\03__walking_down_street_outside_angry.mp4 completed\n",
      "\n",
      "C:\\Users\\Tanish Garg\\.cache\\kagglehub\\datasets\\sanikatiwarekar\\deep-fake-detection-dfd-entire-original-dataset\\DFD_manipulated_sequences\\11_18__outside_talking_pan_laughing__KLKJ9FPE.mp4 completed\n",
      "\n",
      "C:\\Users\\Tanish Garg\\.cache\\kagglehub\\datasets\\sanikatiwarekar\\deep-fake-detection-dfd-entire-original-dataset\\DFD_original sequences\\06__walk_down_hall_angry.mp4 completed\n",
      "\n"
     ]
    },
    {
     "name": "stderr",
     "output_type": "stream",
     "text": [
      "Processing videos:  30%|██████████████████▍                                          | 145/480 [12:02<19:33,  3.50s/it]"
     ]
    },
    {
     "name": "stdout",
     "output_type": "stream",
     "text": [
      "C:\\Users\\Tanish Garg\\.cache\\kagglehub\\datasets\\sanikatiwarekar\\deep-fake-detection-dfd-entire-original-dataset\\DFD_original sequences\\22__talking_against_wall.mp4 completed\n",
      "\n"
     ]
    },
    {
     "name": "stderr",
     "output_type": "stream",
     "text": [
      "Processing videos:  30%|██████████████████▌                                          | 146/480 [12:13<22:45,  4.09s/it]"
     ]
    },
    {
     "name": "stdout",
     "output_type": "stream",
     "text": [
      "C:\\Users\\Tanish Garg\\.cache\\kagglehub\\datasets\\sanikatiwarekar\\deep-fake-detection-dfd-entire-original-dataset\\DFD_original sequences\\06__walking_and_outside_surprised.mp4 completed\n",
      "\n"
     ]
    },
    {
     "name": "stderr",
     "output_type": "stream",
     "text": [
      "Processing videos:  31%|██████████████████▋                                          | 147/480 [12:19<24:06,  4.34s/it]"
     ]
    },
    {
     "name": "stdout",
     "output_type": "stream",
     "text": [
      "C:\\Users\\Tanish Garg\\.cache\\kagglehub\\datasets\\sanikatiwarekar\\deep-fake-detection-dfd-entire-original-dataset\\DFD_manipulated_sequences\\02_18__walking_and_outside_surprised__B95S4G6F.mp4 completed\n",
      "\n",
      "C:\\Users\\Tanish Garg\\.cache\\kagglehub\\datasets\\sanikatiwarekar\\deep-fake-detection-dfd-entire-original-dataset\\DFD_manipulated_sequences\\14_15__outside_talking_still_laughing__4SO1CSAM.mp4 completed\n",
      "\n",
      "C:\\Users\\Tanish Garg\\.cache\\kagglehub\\datasets\\sanikatiwarekar\\deep-fake-detection-dfd-entire-original-dataset\\DFD_manipulated_sequences\\04_26__kitchen_pan__MS2MLJP1.mp4 completed\n",
      "\n",
      "C:\\Users\\Tanish Garg\\.cache\\kagglehub\\datasets\\sanikatiwarekar\\deep-fake-detection-dfd-entire-original-dataset\\DFD_manipulated_sequences\\01_20__walking_and_outside_surprised__6UBMLXK3.mp4 completed\n",
      "\n",
      "C:\\Users\\Tanish Garg\\.cache\\kagglehub\\datasets\\sanikatiwarekar\\deep-fake-detection-dfd-entire-original-dataset\\DFD_manipulated_sequences\\27_26__meeting_serious__IE9N0ZI9.mp4 completed\n",
      "\n",
      "C:\\Users\\Tanish Garg\\.cache\\kagglehub\\datasets\\sanikatiwarekar\\deep-fake-detection-dfd-entire-original-dataset\\DFD_manipulated_sequences\\21_25__walking_down_indoor_hall_disgust__2R46UX3R.mp4 completed\n",
      "\n",
      "C:\\Users\\Tanish Garg\\.cache\\kagglehub\\datasets\\sanikatiwarekar\\deep-fake-detection-dfd-entire-original-dataset\\DFD_original sequences\\23__exit_phone_room.mp4 completed\n",
      "\n",
      "C:\\Users\\Tanish Garg\\.cache\\kagglehub\\datasets\\sanikatiwarekar\\deep-fake-detection-dfd-entire-original-dataset\\DFD_original sequences\\23__talking_against_wall.mp4 completed\n",
      "\n"
     ]
    },
    {
     "name": "stderr",
     "output_type": "stream",
     "text": [
      "Processing videos:  32%|███████████████████▎                                         | 152/480 [13:05<34:42,  6.35s/it]"
     ]
    },
    {
     "name": "stdout",
     "output_type": "stream",
     "text": [
      "C:\\Users\\Tanish Garg\\.cache\\kagglehub\\datasets\\sanikatiwarekar\\deep-fake-detection-dfd-entire-original-dataset\\DFD_manipulated_sequences\\26_12__talking_angry_couch__OVOQACG8.mp4 completed\n",
      "\n",
      "C:\\Users\\Tanish Garg\\.cache\\kagglehub\\datasets\\sanikatiwarekar\\deep-fake-detection-dfd-entire-original-dataset\\DFD_original sequences\\28__walk_down_hall_angry.mp4 completed\n",
      "\n",
      "C:\\Users\\Tanish Garg\\.cache\\kagglehub\\datasets\\sanikatiwarekar\\deep-fake-detection-dfd-entire-original-dataset\\DFD_manipulated_sequences\\13_12__walking_down_indoor_hall_disgust__SIA5P4HL.mp4 completed\n",
      "\n"
     ]
    },
    {
     "name": "stderr",
     "output_type": "stream",
     "text": [
      "Processing videos:  33%|████████████████████                                         | 158/480 [13:10<21:41,  4.04s/it]"
     ]
    },
    {
     "name": "stdout",
     "output_type": "stream",
     "text": [
      "C:\\Users\\Tanish Garg\\.cache\\kagglehub\\datasets\\sanikatiwarekar\\deep-fake-detection-dfd-entire-original-dataset\\DFD_original sequences\\21__walking_and_outside_surprised.mp4 completed\n",
      "\n",
      "C:\\Users\\Tanish Garg\\.cache\\kagglehub\\datasets\\sanikatiwarekar\\deep-fake-detection-dfd-entire-original-dataset\\DFD_manipulated_sequences\\20_21__hugging_happy__ZCB5OMEW.mp4 completed\n",
      "\n",
      "C:\\Users\\Tanish Garg\\.cache\\kagglehub\\datasets\\sanikatiwarekar\\deep-fake-detection-dfd-entire-original-dataset\\DFD_manipulated_sequences\\27_01__podium_speech_happy__S2YCUY48.mp4 completed\n",
      "\n",
      "C:\\Users\\Tanish Garg\\.cache\\kagglehub\\datasets\\sanikatiwarekar\\deep-fake-detection-dfd-entire-original-dataset\\DFD_original sequences\\18__podium_speech_happy.mp4 completed\n",
      "\n",
      "C:\\Users\\Tanish Garg\\.cache\\kagglehub\\datasets\\sanikatiwarekar\\deep-fake-detection-dfd-entire-original-dataset\\DFD_manipulated_sequences\\04_02__outside_talking_pan_laughing__8CH7R4LW.mp4 completed\n",
      "\n",
      "C:\\Users\\Tanish Garg\\.cache\\kagglehub\\datasets\\sanikatiwarekar\\deep-fake-detection-dfd-entire-original-dataset\\DFD_manipulated_sequences\\15_07__podium_speech_happy__KM6M2TBT.mp4 completed\n",
      "\n",
      "C:\\Users\\Tanish Garg\\.cache\\kagglehub\\datasets\\sanikatiwarekar\\deep-fake-detection-dfd-entire-original-dataset\\DFD_manipulated_sequences\\20_14__secret_conversation__B014BKVO.mp4 completed\n",
      "\n",
      "C:\\Users\\Tanish Garg\\.cache\\kagglehub\\datasets\\sanikatiwarekar\\deep-fake-detection-dfd-entire-original-dataset\\DFD_original sequences\\11__walking_down_street_outside_angry.mp4 completed\n",
      "\n",
      "C:\\Users\\Tanish Garg\\.cache\\kagglehub\\datasets\\sanikatiwarekar\\deep-fake-detection-dfd-entire-original-dataset\\DFD_original sequences\\06__outside_talking_pan_laughing.mp4 completed\n",
      "\n",
      "C:\\Users\\Tanish Garg\\.cache\\kagglehub\\datasets\\sanikatiwarekar\\deep-fake-detection-dfd-entire-original-dataset\\DFD_manipulated_sequences\\14_18__exit_phone_room__0YRBHIKG.mp4 completed\n",
      "\n",
      "C:\\Users\\Tanish Garg\\.cache\\kagglehub\\datasets\\sanikatiwarekar\\deep-fake-detection-dfd-entire-original-dataset\\DFD_manipulated_sequences\\07_21__kitchen_still__K7KXUHMU.mp4 completed\n",
      "\n"
     ]
    },
    {
     "name": "stderr",
     "output_type": "stream",
     "text": [
      "Processing videos:  34%|████████████████████▍                                        | 161/480 [13:58<36:13,  6.81s/it]"
     ]
    },
    {
     "name": "stdout",
     "output_type": "stream",
     "text": [
      "C:\\Users\\Tanish Garg\\.cache\\kagglehub\\datasets\\sanikatiwarekar\\deep-fake-detection-dfd-entire-original-dataset\\DFD_original sequences\\20__talking_angry_couch.mp4 completed\n",
      "\n",
      "C:\\Users\\Tanish Garg\\.cache\\kagglehub\\datasets\\sanikatiwarekar\\deep-fake-detection-dfd-entire-original-dataset\\DFD_manipulated_sequences\\05_28__exit_phone_room__U9LRLJ6N.mp4 completed\n",
      "\n",
      "C:\\Users\\Tanish Garg\\.cache\\kagglehub\\datasets\\sanikatiwarekar\\deep-fake-detection-dfd-entire-original-dataset\\DFD_original sequences\\08__kitchen_pan.mp4 completed\n",
      "\n",
      "C:\\Users\\Tanish Garg\\.cache\\kagglehub\\datasets\\sanikatiwarekar\\deep-fake-detection-dfd-entire-original-dataset\\DFD_manipulated_sequences\\07_15__walk_down_hall_angry__KM6M2TBT.mp4 completed\n",
      "\n",
      "C:\\Users\\Tanish Garg\\.cache\\kagglehub\\datasets\\sanikatiwarekar\\deep-fake-detection-dfd-entire-original-dataset\\DFD_original sequences\\10__walking_down_street_outside_angry.mp4 completed\n",
      "\n",
      "C:\\Users\\Tanish Garg\\.cache\\kagglehub\\datasets\\sanikatiwarekar\\deep-fake-detection-dfd-entire-original-dataset\\DFD_original sequences\\10__walk_down_hall_angry.mp4 completed\n",
      "\n",
      "C:\\Users\\Tanish Garg\\.cache\\kagglehub\\datasets\\sanikatiwarekar\\deep-fake-detection-dfd-entire-original-dataset\\DFD_original sequences\\13__outside_talking_pan_laughing.mp4 completed\n",
      "\n",
      "C:\\Users\\Tanish Garg\\.cache\\kagglehub\\datasets\\sanikatiwarekar\\deep-fake-detection-dfd-entire-original-dataset\\DFD_manipulated_sequences\\20_13__walking_down_indoor_hall_disgust__VO2YZXLN.mp4 completed\n",
      "\n"
     ]
    },
    {
     "name": "stderr",
     "output_type": "stream",
     "text": [
      "Processing videos:  35%|█████████████████████▍                                       | 169/480 [14:31<28:40,  5.53s/it]"
     ]
    },
    {
     "name": "stdout",
     "output_type": "stream",
     "text": [
      "C:\\Users\\Tanish Garg\\.cache\\kagglehub\\datasets\\sanikatiwarekar\\deep-fake-detection-dfd-entire-original-dataset\\DFD_original sequences\\07__talking_angry_couch.mp4 completed\n",
      "\n"
     ]
    },
    {
     "name": "stderr",
     "output_type": "stream",
     "text": [
      "Processing videos:  38%|███████████████████████▎                                     | 183/480 [14:33<13:03,  2.64s/it]"
     ]
    },
    {
     "name": "stdout",
     "output_type": "stream",
     "text": [
      "C:\\Users\\Tanish Garg\\.cache\\kagglehub\\datasets\\sanikatiwarekar\\deep-fake-detection-dfd-entire-original-dataset\\DFD_original sequences\\18__walking_down_street_outside_angry.mp4 completed\n",
      "\n",
      "C:\\Users\\Tanish Garg\\.cache\\kagglehub\\datasets\\sanikatiwarekar\\deep-fake-detection-dfd-entire-original-dataset\\DFD_manipulated_sequences\\04_15__walk_down_hall_angry__7NW4Z6WZ.mp4 completed\n",
      "\n",
      "C:\\Users\\Tanish Garg\\.cache\\kagglehub\\datasets\\sanikatiwarekar\\deep-fake-detection-dfd-entire-original-dataset\\DFD_original sequences\\04__walking_down_street_outside_angry.mp4 completed\n",
      "\n",
      "C:\\Users\\Tanish Garg\\.cache\\kagglehub\\datasets\\sanikatiwarekar\\deep-fake-detection-dfd-entire-original-dataset\\DFD_manipulated_sequences\\02_12__outside_talking_pan_laughing__9D2ZHEKW.mp4 completed\n",
      "\n",
      "C:\\Users\\Tanish Garg\\.cache\\kagglehub\\datasets\\sanikatiwarekar\\deep-fake-detection-dfd-entire-original-dataset\\DFD_manipulated_sequences\\01_21__walk_down_hall_angry__03X7CELV.mp4 completed\n",
      "\n",
      "C:\\Users\\Tanish Garg\\.cache\\kagglehub\\datasets\\sanikatiwarekar\\deep-fake-detection-dfd-entire-original-dataset\\DFD_original sequences\\20__walk_down_hall_angry.mp4 completed\n",
      "\n",
      "C:\\Users\\Tanish Garg\\.cache\\kagglehub\\datasets\\sanikatiwarekar\\deep-fake-detection-dfd-entire-original-dataset\\DFD_manipulated_sequences\\25_02__talking_against_wall__Z7FQ69VP.mp4 completed\n",
      "\n",
      "C:\\Users\\Tanish Garg\\.cache\\kagglehub\\datasets\\sanikatiwarekar\\deep-fake-detection-dfd-entire-original-dataset\\DFD_manipulated_sequences\\24_19__kitchen_pan__QD5K7BP2.mp4 completed\n",
      "\n",
      "C:\\Users\\Tanish Garg\\.cache\\kagglehub\\datasets\\sanikatiwarekar\\deep-fake-detection-dfd-entire-original-dataset\\DFD_manipulated_sequences\\14_20__walk_down_hall_angry__B014BKVO.mp4 completed\n",
      "\n",
      "C:\\Users\\Tanish Garg\\.cache\\kagglehub\\datasets\\sanikatiwarekar\\deep-fake-detection-dfd-entire-original-dataset\\DFD_manipulated_sequences\\02_09__outside_talking_pan_laughing__HIH8YA82.mp4 completed\n",
      "\n"
     ]
    },
    {
     "name": "stderr",
     "output_type": "stream",
     "text": [
      "Processing videos:  38%|███████████████████████▍                                     | 184/480 [15:22<24:52,  5.04s/it]"
     ]
    },
    {
     "name": "stdout",
     "output_type": "stream",
     "text": [
      "C:\\Users\\Tanish Garg\\.cache\\kagglehub\\datasets\\sanikatiwarekar\\deep-fake-detection-dfd-entire-original-dataset\\DFD_manipulated_sequences\\14_06__podium_speech_happy__8U9ULZDT.mp4 completed\n",
      "\n",
      "C:\\Users\\Tanish Garg\\.cache\\kagglehub\\datasets\\sanikatiwarekar\\deep-fake-detection-dfd-entire-original-dataset\\DFD_original sequences\\21__outside_talking_still_laughing.mp4 completed\n",
      "\n",
      "C:\\Users\\Tanish Garg\\.cache\\kagglehub\\datasets\\sanikatiwarekar\\deep-fake-detection-dfd-entire-original-dataset\\DFD_original sequences\\13__kitchen_pan.mp4 completed\n",
      "\n",
      "C:\\Users\\Tanish Garg\\.cache\\kagglehub\\datasets\\sanikatiwarekar\\deep-fake-detection-dfd-entire-original-dataset\\DFD_manipulated_sequences\\25_20__outside_talking_still_laughing__NPM0ENKD.mp4 completed\n",
      "\n",
      "C:\\Users\\Tanish Garg\\.cache\\kagglehub\\datasets\\sanikatiwarekar\\deep-fake-detection-dfd-entire-original-dataset\\DFD_manipulated_sequences\\04_01__kitchen_pan__GBC7ZGDP.mp4 completed\n",
      "\n"
     ]
    },
    {
     "name": "stderr",
     "output_type": "stream",
     "text": [
      "Processing videos:  39%|███████████████████████▊                                     | 187/480 [15:29<22:18,  4.57s/it]"
     ]
    },
    {
     "name": "stdout",
     "output_type": "stream",
     "text": [
      "C:\\Users\\Tanish Garg\\.cache\\kagglehub\\datasets\\sanikatiwarekar\\deep-fake-detection-dfd-entire-original-dataset\\DFD_original sequences\\12__podium_speech_happy.mp4 completed\n",
      "\n"
     ]
    },
    {
     "name": "stderr",
     "output_type": "stream",
     "text": [
      "Processing videos:  39%|███████████████████████▉                                     | 188/480 [15:35<22:39,  4.66s/it]"
     ]
    },
    {
     "name": "stdout",
     "output_type": "stream",
     "text": [
      "C:\\Users\\Tanish Garg\\.cache\\kagglehub\\datasets\\sanikatiwarekar\\deep-fake-detection-dfd-entire-original-dataset\\DFD_manipulated_sequences\\09_20__podium_speech_happy__O5X0AWR9.mp4 completed\n",
      "\n",
      "C:\\Users\\Tanish Garg\\.cache\\kagglehub\\datasets\\sanikatiwarekar\\deep-fake-detection-dfd-entire-original-dataset\\DFD_original sequences\\12__exit_phone_room.mp4 completed\n",
      "\n",
      "C:\\Users\\Tanish Garg\\.cache\\kagglehub\\datasets\\sanikatiwarekar\\deep-fake-detection-dfd-entire-original-dataset\\DFD_manipulated_sequences\\13_12__secret_conversation__DJ7MF331.mp4 completed\n",
      "\n"
     ]
    },
    {
     "name": "stderr",
     "output_type": "stream",
     "text": [
      "Processing videos:  40%|████████████████████████▎                                    | 191/480 [15:57<25:48,  5.36s/it]"
     ]
    },
    {
     "name": "stdout",
     "output_type": "stream",
     "text": [
      "C:\\Users\\Tanish Garg\\.cache\\kagglehub\\datasets\\sanikatiwarekar\\deep-fake-detection-dfd-entire-original-dataset\\DFD_original sequences\\12__walking_down_indoor_hall_disgust.mp4 completed\n",
      "\n",
      "C:\\Users\\Tanish Garg\\.cache\\kagglehub\\datasets\\sanikatiwarekar\\deep-fake-detection-dfd-entire-original-dataset\\DFD_manipulated_sequences\\07_03__kitchen_pan__WPT3Z2KN.mp4 completed\n",
      "\n",
      "C:\\Users\\Tanish Garg\\.cache\\kagglehub\\datasets\\sanikatiwarekar\\deep-fake-detection-dfd-entire-original-dataset\\DFD_manipulated_sequences\\03_07__outside_talking_still_laughing__W3MXGEU9.mp4 completed\n",
      "\n"
     ]
    },
    {
     "name": "stderr",
     "output_type": "stream",
     "text": [
      "Processing videos:  41%|█████████████████████████▏                                   | 198/480 [16:10<17:45,  3.78s/it]"
     ]
    },
    {
     "name": "stdout",
     "output_type": "stream",
     "text": [
      "C:\\Users\\Tanish Garg\\.cache\\kagglehub\\datasets\\sanikatiwarekar\\deep-fake-detection-dfd-entire-original-dataset\\DFD_original sequences\\03__walking_and_outside_surprised.mp4 completed\n",
      "\n",
      "C:\\Users\\Tanish Garg\\.cache\\kagglehub\\datasets\\sanikatiwarekar\\deep-fake-detection-dfd-entire-original-dataset\\DFD_manipulated_sequences\\26_07__outside_talking_still_laughing__FGNGC2GT.mp4 completed\n",
      "\n",
      "C:\\Users\\Tanish Garg\\.cache\\kagglehub\\datasets\\sanikatiwarekar\\deep-fake-detection-dfd-entire-original-dataset\\DFD_original sequences\\09__outside_talking_pan_laughing.mp4 completed\n",
      "\n",
      "C:\\Users\\Tanish Garg\\.cache\\kagglehub\\datasets\\sanikatiwarekar\\deep-fake-detection-dfd-entire-original-dataset\\DFD_manipulated_sequences\\14_03__walk_down_hall_angry__7JPPCV50.mp4 completed\n",
      "\n"
     ]
    },
    {
     "name": "stderr",
     "output_type": "stream",
     "text": [
      "Processing videos:  42%|█████████████████████████▉                                   | 204/480 [16:15<12:19,  2.68s/it]"
     ]
    },
    {
     "name": "stdout",
     "output_type": "stream",
     "text": [
      "C:\\Users\\Tanish Garg\\.cache\\kagglehub\\datasets\\sanikatiwarekar\\deep-fake-detection-dfd-entire-original-dataset\\DFD_manipulated_sequences\\20_01__secret_conversation__6UBMLXK3.mp4 completed\n",
      "\n",
      "C:\\Users\\Tanish Garg\\.cache\\kagglehub\\datasets\\sanikatiwarekar\\deep-fake-detection-dfd-entire-original-dataset\\DFD_manipulated_sequences\\15_13__exit_phone_room__X0EIIJF7.mp4 completed\n",
      "\n"
     ]
    },
    {
     "name": "stderr",
     "output_type": "stream",
     "text": [
      "Processing videos:  43%|██████████████████████████▏                                  | 206/480 [16:26<14:08,  3.10s/it]"
     ]
    },
    {
     "name": "stdout",
     "output_type": "stream",
     "text": [
      "C:\\Users\\Tanish Garg\\.cache\\kagglehub\\datasets\\sanikatiwarekar\\deep-fake-detection-dfd-entire-original-dataset\\DFD_original sequences\\05__outside_talking_still_laughing.mp4 completed\n",
      "\n",
      "C:\\Users\\Tanish Garg\\.cache\\kagglehub\\datasets\\sanikatiwarekar\\deep-fake-detection-dfd-entire-original-dataset\\DFD_manipulated_sequences\\13_15__kitchen_still__X0EIIJF7.mp4 completed\n",
      "\n",
      "C:\\Users\\Tanish Garg\\.cache\\kagglehub\\datasets\\sanikatiwarekar\\deep-fake-detection-dfd-entire-original-dataset\\DFD_manipulated_sequences\\02_25__hugging_happy__Z7FQ69VP.mp4 completed\n",
      "\n",
      "C:\\Users\\Tanish Garg\\.cache\\kagglehub\\datasets\\sanikatiwarekar\\deep-fake-detection-dfd-entire-original-dataset\\DFD_manipulated_sequences\\07_11__hugging_happy__R7R86Z62.mp4 completed\n",
      "\n",
      "C:\\Users\\Tanish Garg\\.cache\\kagglehub\\datasets\\sanikatiwarekar\\deep-fake-detection-dfd-entire-original-dataset\\DFD_manipulated_sequences\\18_11__outside_talking_pan_laughing__PT4YKO2R.mp4 completed\n",
      "\n"
     ]
    },
    {
     "name": "stderr",
     "output_type": "stream",
     "text": [
      "Processing videos:  44%|██████████████████████████▋                                  | 210/480 [16:48<16:59,  3.78s/it]"
     ]
    },
    {
     "name": "stdout",
     "output_type": "stream",
     "text": [
      "C:\\Users\\Tanish Garg\\.cache\\kagglehub\\datasets\\sanikatiwarekar\\deep-fake-detection-dfd-entire-original-dataset\\DFD_manipulated_sequences\\09_21__talking_against_wall__PF4WD2KJ.mp4 completed\n",
      "\n",
      "C:\\Users\\Tanish Garg\\.cache\\kagglehub\\datasets\\sanikatiwarekar\\deep-fake-detection-dfd-entire-original-dataset\\DFD_original sequences\\03__outside_talking_pan_laughing.mp4 completed\n",
      "\n",
      "C:\\Users\\Tanish Garg\\.cache\\kagglehub\\datasets\\sanikatiwarekar\\deep-fake-detection-dfd-entire-original-dataset\\DFD_original sequences\\28__secret_conversation.mp4 completed\n",
      "\n",
      "C:\\Users\\Tanish Garg\\.cache\\kagglehub\\datasets\\sanikatiwarekar\\deep-fake-detection-dfd-entire-original-dataset\\DFD_manipulated_sequences\\09_20__walk_down_hall_angry__MKEWB4SM.mp4 completed\n",
      "\n",
      "C:\\Users\\Tanish Garg\\.cache\\kagglehub\\datasets\\sanikatiwarekar\\deep-fake-detection-dfd-entire-original-dataset\\DFD_original sequences\\25__walking_outside_cafe_disgusted.mp4 completed\n",
      "\n",
      "C:\\Users\\Tanish Garg\\.cache\\kagglehub\\datasets\\sanikatiwarekar\\deep-fake-detection-dfd-entire-original-dataset\\DFD_original sequences\\03__exit_phone_room.mp4 completed\n",
      "\n",
      "C:\\Users\\Tanish Garg\\.cache\\kagglehub\\datasets\\sanikatiwarekar\\deep-fake-detection-dfd-entire-original-dataset\\DFD_original sequences\\10__exit_phone_room.mp4 completed\n",
      "\n"
     ]
    },
    {
     "name": "stderr",
     "output_type": "stream",
     "text": [
      "Processing videos:  44%|███████████████████████████                                  | 213/480 [17:17<23:11,  5.21s/it]"
     ]
    },
    {
     "name": "stdout",
     "output_type": "stream",
     "text": [
      "C:\\Users\\Tanish Garg\\.cache\\kagglehub\\datasets\\sanikatiwarekar\\deep-fake-detection-dfd-entire-original-dataset\\DFD_original sequences\\25__talking_against_wall.mp4 completed\n",
      "\n"
     ]
    },
    {
     "name": "stderr",
     "output_type": "stream",
     "text": [
      "Processing videos:  46%|███████████████████████████▉                                 | 220/480 [17:20<13:18,  3.07s/it]"
     ]
    },
    {
     "name": "stdout",
     "output_type": "stream",
     "text": [
      "C:\\Users\\Tanish Garg\\.cache\\kagglehub\\datasets\\sanikatiwarekar\\deep-fake-detection-dfd-entire-original-dataset\\DFD_original sequences\\19__kitchen_pan.mp4 completed\n",
      "\n",
      "C:\\Users\\Tanish Garg\\.cache\\kagglehub\\datasets\\sanikatiwarekar\\deep-fake-detection-dfd-entire-original-dataset\\DFD_manipulated_sequences\\07_26__talking_against_wall__FGNGC2GT.mp4 completed\n",
      "\n"
     ]
    },
    {
     "name": "stderr",
     "output_type": "stream",
     "text": [
      "Processing videos:  46%|████████████████████████████                                 | 221/480 [17:42<20:15,  4.69s/it]"
     ]
    },
    {
     "name": "stdout",
     "output_type": "stream",
     "text": [
      "C:\\Users\\Tanish Garg\\.cache\\kagglehub\\datasets\\sanikatiwarekar\\deep-fake-detection-dfd-entire-original-dataset\\DFD_original sequences\\08__podium_speech_happy.mp4 completed\n",
      "\n",
      "C:\\Users\\Tanish Garg\\.cache\\kagglehub\\datasets\\sanikatiwarekar\\deep-fake-detection-dfd-entire-original-dataset\\DFD_manipulated_sequences\\19_23__kitchen_still__WHQ1229T.mp4 completed\n",
      "\n",
      "C:\\Users\\Tanish Garg\\.cache\\kagglehub\\datasets\\sanikatiwarekar\\deep-fake-detection-dfd-entire-original-dataset\\DFD_original sequences\\17__kitchen_still.mp4 completed\n",
      "\n",
      "C:\\Users\\Tanish Garg\\.cache\\kagglehub\\datasets\\sanikatiwarekar\\deep-fake-detection-dfd-entire-original-dataset\\DFD_original sequences\\15__talking_against_wall.mp4 completed\n",
      "\n"
     ]
    },
    {
     "name": "stderr",
     "output_type": "stream",
     "text": [
      "Processing videos:  46%|████████████████████████████▏                                | 222/480 [17:47<20:21,  4.74s/it]"
     ]
    },
    {
     "name": "stdout",
     "output_type": "stream",
     "text": [
      "C:\\Users\\Tanish Garg\\.cache\\kagglehub\\datasets\\sanikatiwarekar\\deep-fake-detection-dfd-entire-original-dataset\\DFD_original sequences\\23__podium_speech_happy.mp4 completed\n",
      "\n"
     ]
    },
    {
     "name": "stderr",
     "output_type": "stream",
     "text": [
      "Processing videos:  48%|████████████████████████████▉                                | 228/480 [17:49<10:52,  2.59s/it]"
     ]
    },
    {
     "name": "stdout",
     "output_type": "stream",
     "text": [
      "C:\\Users\\Tanish Garg\\.cache\\kagglehub\\datasets\\sanikatiwarekar\\deep-fake-detection-dfd-entire-original-dataset\\DFD_original sequences\\13__secret_conversation.mp4 completed\n",
      "\n",
      "C:\\Users\\Tanish Garg\\.cache\\kagglehub\\datasets\\sanikatiwarekar\\deep-fake-detection-dfd-entire-original-dataset\\DFD_manipulated_sequences\\19_23__walk_down_hall_angry__F7U8UY7V.mp4 completed\n",
      "\n",
      "C:\\Users\\Tanish Garg\\.cache\\kagglehub\\datasets\\sanikatiwarekar\\deep-fake-detection-dfd-entire-original-dataset\\DFD_manipulated_sequences\\19_10__walk_down_hall_angry__BVVPN5D5.mp4 completed\n",
      "\n",
      "C:\\Users\\Tanish Garg\\.cache\\kagglehub\\datasets\\sanikatiwarekar\\deep-fake-detection-dfd-entire-original-dataset\\DFD_original sequences\\24__outside_talking_pan_laughing.mp4 completed\n",
      "\n",
      "C:\\Users\\Tanish Garg\\.cache\\kagglehub\\datasets\\sanikatiwarekar\\deep-fake-detection-dfd-entire-original-dataset\\DFD_original sequences\\21__walking_down_street_outside_angry.mp4 completed\n",
      "\n",
      "C:\\Users\\Tanish Garg\\.cache\\kagglehub\\datasets\\sanikatiwarekar\\deep-fake-detection-dfd-entire-original-dataset\\DFD_original sequences\\12__outside_talking_pan_laughing.mp4 completed\n",
      "\n",
      "C:\\Users\\Tanish Garg\\.cache\\kagglehub\\datasets\\sanikatiwarekar\\deep-fake-detection-dfd-entire-original-dataset\\DFD_original sequences\\13__hugging_happy.mp4 completed\n",
      "\n",
      "C:\\Users\\Tanish Garg\\.cache\\kagglehub\\datasets\\sanikatiwarekar\\deep-fake-detection-dfd-entire-original-dataset\\DFD_manipulated_sequences\\09_21__walk_down_hall_angry__O9ER29Z6.mp4 completed\n",
      "\n",
      "C:\\Users\\Tanish Garg\\.cache\\kagglehub\\datasets\\sanikatiwarekar\\deep-fake-detection-dfd-entire-original-dataset\\DFD_manipulated_sequences\\01_11__walking_and_outside_surprised__18HYCC8C.mp4 completed\n",
      "\n",
      "C:\\Users\\Tanish Garg\\.cache\\kagglehub\\datasets\\sanikatiwarekar\\deep-fake-detection-dfd-entire-original-dataset\\DFD_manipulated_sequences\\06_26__talking_against_wall__L5BVR5L9.mp4 completed\n",
      "\n",
      "C:\\Users\\Tanish Garg\\.cache\\kagglehub\\datasets\\sanikatiwarekar\\deep-fake-detection-dfd-entire-original-dataset\\DFD_manipulated_sequences\\01_02__walking_and_outside_surprised__YVGY8LOK.mp4 completed\n",
      "\n"
     ]
    },
    {
     "name": "stderr",
     "output_type": "stream",
     "text": [
      "Processing videos:  48%|█████████████████████████████▍                               | 232/480 [18:51<27:37,  6.68s/it]"
     ]
    },
    {
     "name": "stdout",
     "output_type": "stream",
     "text": [
      "C:\\Users\\Tanish Garg\\.cache\\kagglehub\\datasets\\sanikatiwarekar\\deep-fake-detection-dfd-entire-original-dataset\\DFD_manipulated_sequences\\26_25__talking_angry_couch__GJT740J9.mp4 completed\n",
      "\n"
     ]
    },
    {
     "name": "stderr",
     "output_type": "stream",
     "text": [
      "Processing videos:  49%|█████████████████████████████▉                               | 236/480 [19:03<22:30,  5.54s/it]"
     ]
    },
    {
     "name": "stdout",
     "output_type": "stream",
     "text": [
      "C:\\Users\\Tanish Garg\\.cache\\kagglehub\\datasets\\sanikatiwarekar\\deep-fake-detection-dfd-entire-original-dataset\\DFD_manipulated_sequences\\03_01__talking_angry_couch__JZUXXFRB.mp4 completed\n",
      "\n",
      "C:\\Users\\Tanish Garg\\.cache\\kagglehub\\datasets\\sanikatiwarekar\\deep-fake-detection-dfd-entire-original-dataset\\DFD_manipulated_sequences\\12_15__kitchen_still__RK17XFJ9.mp4 completed\n",
      "\n",
      "C:\\Users\\Tanish Garg\\.cache\\kagglehub\\datasets\\sanikatiwarekar\\deep-fake-detection-dfd-entire-original-dataset\\DFD_manipulated_sequences\\18_26__secret_conversation__UMEX6HWU.mp4 completed\n",
      "\n",
      "C:\\Users\\Tanish Garg\\.cache\\kagglehub\\datasets\\sanikatiwarekar\\deep-fake-detection-dfd-entire-original-dataset\\DFD_manipulated_sequences\\10_19__outside_talking_still_laughing__O2IKR6YM.mp4 completed\n",
      "\n",
      "C:\\Users\\Tanish Garg\\.cache\\kagglehub\\datasets\\sanikatiwarekar\\deep-fake-detection-dfd-entire-original-dataset\\DFD_original sequences\\16__podium_speech_happy.mp4 completed\n",
      "\n",
      "C:\\Users\\Tanish Garg\\.cache\\kagglehub\\datasets\\sanikatiwarekar\\deep-fake-detection-dfd-entire-original-dataset\\DFD_original sequences\\11__kitchen_pan.mp4 completed\n",
      "\n"
     ]
    },
    {
     "name": "stderr",
     "output_type": "stream",
     "text": [
      "Processing videos:  50%|██████████████████████████████▋                              | 241/480 [19:35<23:17,  5.85s/it]"
     ]
    },
    {
     "name": "stdout",
     "output_type": "stream",
     "text": [
      "C:\\Users\\Tanish Garg\\.cache\\kagglehub\\datasets\\sanikatiwarekar\\deep-fake-detection-dfd-entire-original-dataset\\DFD_original sequences\\03__walking_down_indoor_hall_disgust.mp4 completed\n",
      "\n"
     ]
    },
    {
     "name": "stderr",
     "output_type": "stream",
     "text": [
      "Processing videos:  52%|███████████████████████████████▌                             | 248/480 [19:36<13:07,  3.39s/it]"
     ]
    },
    {
     "name": "stdout",
     "output_type": "stream",
     "text": [
      "C:\\Users\\Tanish Garg\\.cache\\kagglehub\\datasets\\sanikatiwarekar\\deep-fake-detection-dfd-entire-original-dataset\\DFD_original sequences\\20__podium_speech_happy.mp4 completed\n",
      "\n",
      "C:\\Users\\Tanish Garg\\.cache\\kagglehub\\datasets\\sanikatiwarekar\\deep-fake-detection-dfd-entire-original-dataset\\DFD_original sequences\\17__outside_talking_pan_laughing.mp4 completed\n",
      "\n",
      "C:\\Users\\Tanish Garg\\.cache\\kagglehub\\datasets\\sanikatiwarekar\\deep-fake-detection-dfd-entire-original-dataset\\DFD_original sequences\\03__kitchen_pan.mp4 completed\n",
      "\n",
      "C:\\Users\\Tanish Garg\\.cache\\kagglehub\\datasets\\sanikatiwarekar\\deep-fake-detection-dfd-entire-original-dataset\\DFD_original sequences\\16__walking_down_indoor_hall_disgust.mp4 completed\n",
      "\n",
      "C:\\Users\\Tanish Garg\\.cache\\kagglehub\\datasets\\sanikatiwarekar\\deep-fake-detection-dfd-entire-original-dataset\\DFD_original sequences\\10__kitchen_pan.mp4 completed\n",
      "\n",
      "C:\\Users\\Tanish Garg\\.cache\\kagglehub\\datasets\\sanikatiwarekar\\deep-fake-detection-dfd-entire-original-dataset\\DFD_original sequences\\12__walking_outside_cafe_disgusted.mp4 completed\n",
      "\n",
      "C:\\Users\\Tanish Garg\\.cache\\kagglehub\\datasets\\sanikatiwarekar\\deep-fake-detection-dfd-entire-original-dataset\\DFD_original sequences\\12__secret_conversation.mp4 completed\n",
      "\n",
      "C:\\Users\\Tanish Garg\\.cache\\kagglehub\\datasets\\sanikatiwarekar\\deep-fake-detection-dfd-entire-original-dataset\\DFD_original sequences\\23__walking_down_street_outside_angry.mp4 completed\n",
      "\n",
      "C:\\Users\\Tanish Garg\\.cache\\kagglehub\\datasets\\sanikatiwarekar\\deep-fake-detection-dfd-entire-original-dataset\\DFD_manipulated_sequences\\12_13__walking_and_outside_surprised__Q442U52P.mp4 completed\n",
      "\n",
      "C:\\Users\\Tanish Garg\\.cache\\kagglehub\\datasets\\sanikatiwarekar\\deep-fake-detection-dfd-entire-original-dataset\\DFD_manipulated_sequences\\02_07__hugging_happy__1JCLEEBQ.mp4 completed\n",
      "\n",
      "C:\\Users\\Tanish Garg\\.cache\\kagglehub\\datasets\\sanikatiwarekar\\deep-fake-detection-dfd-entire-original-dataset\\DFD_manipulated_sequences\\11_18__secret_conversation__PT4YKO2R.mp4 completed\n",
      "\n",
      "C:\\Users\\Tanish Garg\\.cache\\kagglehub\\datasets\\sanikatiwarekar\\deep-fake-detection-dfd-entire-original-dataset\\DFD_original sequences\\20__exit_phone_room.mp4 completed\n",
      "\n",
      "C:\\Users\\Tanish Garg\\.cache\\kagglehub\\datasets\\sanikatiwarekar\\deep-fake-detection-dfd-entire-original-dataset\\DFD_manipulated_sequences\\26_07__kitchen_still__FGNGC2GT.mp4 completed\n",
      "\n"
     ]
    },
    {
     "name": "stderr",
     "output_type": "stream",
     "text": [
      "Processing videos:  52%|███████████████████████████████▊                             | 250/480 [20:16<24:52,  6.49s/it]"
     ]
    },
    {
     "name": "stdout",
     "output_type": "stream",
     "text": [
      "C:\\Users\\Tanish Garg\\.cache\\kagglehub\\datasets\\sanikatiwarekar\\deep-fake-detection-dfd-entire-original-dataset\\DFD_original sequences\\11__talking_angry_couch.mp4 completed\n",
      "\n",
      "C:\\Users\\Tanish Garg\\.cache\\kagglehub\\datasets\\sanikatiwarekar\\deep-fake-detection-dfd-entire-original-dataset\\DFD_manipulated_sequences\\14_03__exit_phone_room__7JPPCV50.mp4 completed\n",
      "\n",
      "C:\\Users\\Tanish Garg\\.cache\\kagglehub\\datasets\\sanikatiwarekar\\deep-fake-detection-dfd-entire-original-dataset\\DFD_manipulated_sequences\\02_06__walking_outside_cafe_disgusted__GH8TGTBS.mp4 completed\n",
      "\n",
      "C:\\Users\\Tanish Garg\\.cache\\kagglehub\\datasets\\sanikatiwarekar\\deep-fake-detection-dfd-entire-original-dataset\\DFD_original sequences\\02__outside_talking_pan_laughing.mp4 completed\n",
      "\n",
      "C:\\Users\\Tanish Garg\\.cache\\kagglehub\\datasets\\sanikatiwarekar\\deep-fake-detection-dfd-entire-original-dataset\\DFD_original sequences\\02__exit_phone_room.mp4 completed\n",
      "\n"
     ]
    },
    {
     "name": "stderr",
     "output_type": "stream",
     "text": [
      "Processing videos:  55%|█████████████████████████████████▍                           | 263/480 [20:37<12:20,  3.41s/it]"
     ]
    },
    {
     "name": "stdout",
     "output_type": "stream",
     "text": [
      "C:\\Users\\Tanish Garg\\.cache\\kagglehub\\datasets\\sanikatiwarekar\\deep-fake-detection-dfd-entire-original-dataset\\DFD_original sequences\\23__outside_talking_still_laughing.mp4 completed\n",
      "\n"
     ]
    },
    {
     "name": "stderr",
     "output_type": "stream",
     "text": [
      "Processing videos:  55%|█████████████████████████████████▌                           | 264/480 [20:51<14:49,  4.12s/it]"
     ]
    },
    {
     "name": "stdout",
     "output_type": "stream",
     "text": [
      "C:\\Users\\Tanish Garg\\.cache\\kagglehub\\datasets\\sanikatiwarekar\\deep-fake-detection-dfd-entire-original-dataset\\DFD_original sequences\\14__secret_conversation.mp4 completed\n",
      "\n",
      "C:\\Users\\Tanish Garg\\.cache\\kagglehub\\datasets\\sanikatiwarekar\\deep-fake-detection-dfd-entire-original-dataset\\DFD_manipulated_sequences\\07_02__walk_down_hall_angry__1JCLEEBQ.mp4 completed\n",
      "\n"
     ]
    },
    {
     "name": "stderr",
     "output_type": "stream",
     "text": [
      "Processing videos:  56%|██████████████████████████████████                           | 268/480 [20:53<11:02,  3.13s/it]"
     ]
    },
    {
     "name": "stdout",
     "output_type": "stream",
     "text": [
      "C:\\Users\\Tanish Garg\\.cache\\kagglehub\\datasets\\sanikatiwarekar\\deep-fake-detection-dfd-entire-original-dataset\\DFD_manipulated_sequences\\03_02__secret_conversation__QH3Y0IG0.mp4 completed\n",
      "\n",
      "C:\\Users\\Tanish Garg\\.cache\\kagglehub\\datasets\\sanikatiwarekar\\deep-fake-detection-dfd-entire-original-dataset\\DFD_manipulated_sequences\\21_11__walking_outside_cafe_disgusted__T7DK03O1.mp4 completed\n",
      "\n"
     ]
    },
    {
     "name": "stderr",
     "output_type": "stream",
     "text": [
      "Processing videos:  56%|██████████████████████████████████▏                          | 269/480 [21:09<14:47,  4.21s/it]"
     ]
    },
    {
     "name": "stdout",
     "output_type": "stream",
     "text": [
      "C:\\Users\\Tanish Garg\\.cache\\kagglehub\\datasets\\sanikatiwarekar\\deep-fake-detection-dfd-entire-original-dataset\\DFD_original sequences\\19__podium_speech_happy.mp4 completed\n",
      "\n",
      "C:\\Users\\Tanish Garg\\.cache\\kagglehub\\datasets\\sanikatiwarekar\\deep-fake-detection-dfd-entire-original-dataset\\DFD_manipulated_sequences\\22_24__walking_down_street_outside_angry__XL557XC6.mp4 completed\n",
      "\n",
      "C:\\Users\\Tanish Garg\\.cache\\kagglehub\\datasets\\sanikatiwarekar\\deep-fake-detection-dfd-entire-original-dataset\\DFD_original sequences\\20__kitchen_still.mp4 completed\n",
      "\n",
      "C:\\Users\\Tanish Garg\\.cache\\kagglehub\\datasets\\sanikatiwarekar\\deep-fake-detection-dfd-entire-original-dataset\\DFD_original sequences\\01__talking_against_wall.mp4 completed\n",
      "\n",
      "C:\\Users\\Tanish Garg\\.cache\\kagglehub\\datasets\\sanikatiwarekar\\deep-fake-detection-dfd-entire-original-dataset\\DFD_original sequences\\08__walk_down_hall_angry.mp4 completed\n",
      "\n",
      "C:\\Users\\Tanish Garg\\.cache\\kagglehub\\datasets\\sanikatiwarekar\\deep-fake-detection-dfd-entire-original-dataset\\DFD_manipulated_sequences\\23_24__secret_conversation__MDSDXSNU.mp4 completed\n",
      "\n"
     ]
    },
    {
     "name": "stderr",
     "output_type": "stream",
     "text": [
      "Processing videos:  57%|██████████████████████████████████▋                          | 273/480 [21:24<13:41,  3.97s/it]"
     ]
    },
    {
     "name": "stdout",
     "output_type": "stream",
     "text": [
      "C:\\Users\\Tanish Garg\\.cache\\kagglehub\\datasets\\sanikatiwarekar\\deep-fake-detection-dfd-entire-original-dataset\\DFD_original sequences\\23__walking_and_outside_surprised.mp4 completed\n",
      "\n",
      "C:\\Users\\Tanish Garg\\.cache\\kagglehub\\datasets\\sanikatiwarekar\\deep-fake-detection-dfd-entire-original-dataset\\DFD_original sequences\\14__walking_outside_cafe_disgusted.mp4 completed\n",
      "\n"
     ]
    },
    {
     "name": "stderr",
     "output_type": "stream",
     "text": [
      "Processing videos:  58%|███████████████████████████████████▍                         | 279/480 [21:29<07:41,  2.30s/it]"
     ]
    },
    {
     "name": "stdout",
     "output_type": "stream",
     "text": [
      "C:\\Users\\Tanish Garg\\.cache\\kagglehub\\datasets\\sanikatiwarekar\\deep-fake-detection-dfd-entire-original-dataset\\DFD_original sequences\\22__kitchen_still.mp4 completed\n",
      "\n",
      "C:\\Users\\Tanish Garg\\.cache\\kagglehub\\datasets\\sanikatiwarekar\\deep-fake-detection-dfd-entire-original-dataset\\DFD_manipulated_sequences\\01_11__hugging_happy__4OJNJLOO.mp4 completed\n",
      "\n",
      "C:\\Users\\Tanish Garg\\.cache\\kagglehub\\datasets\\sanikatiwarekar\\deep-fake-detection-dfd-entire-original-dataset\\DFD_original sequences\\07__hugging_happy.mp4 completed\n",
      "\n",
      "C:\\Users\\Tanish Garg\\.cache\\kagglehub\\datasets\\sanikatiwarekar\\deep-fake-detection-dfd-entire-original-dataset\\DFD_original sequences\\11__walk_down_hall_angry.mp4 completed\n",
      "\n",
      "C:\\Users\\Tanish Garg\\.cache\\kagglehub\\datasets\\sanikatiwarekar\\deep-fake-detection-dfd-entire-original-dataset\\DFD_manipulated_sequences\\21_18__outside_talking_pan_laughing__PQFTWVRQ.mp4 completed\n",
      "\n"
     ]
    },
    {
     "name": "stderr",
     "output_type": "stream",
     "text": [
      "Processing videos:  58%|███████████████████████████████████▌                         | 280/480 [21:54<18:06,  5.43s/it]"
     ]
    },
    {
     "name": "stdout",
     "output_type": "stream",
     "text": [
      "C:\\Users\\Tanish Garg\\.cache\\kagglehub\\datasets\\sanikatiwarekar\\deep-fake-detection-dfd-entire-original-dataset\\DFD_manipulated_sequences\\21_06__walking_down_indoor_hall_disgust__058I9NIZ.mp4 completed\n",
      "\n",
      "C:\\Users\\Tanish Garg\\.cache\\kagglehub\\datasets\\sanikatiwarekar\\deep-fake-detection-dfd-entire-original-dataset\\DFD_original sequences\\09__walking_down_street_outside_angry.mp4 completed\n",
      "\n",
      "C:\\Users\\Tanish Garg\\.cache\\kagglehub\\datasets\\sanikatiwarekar\\deep-fake-detection-dfd-entire-original-dataset\\DFD_original sequences\\18__outside_talking_still_laughing.mp4 completed\n",
      "\n",
      "C:\\Users\\Tanish Garg\\.cache\\kagglehub\\datasets\\sanikatiwarekar\\deep-fake-detection-dfd-entire-original-dataset\\DFD_manipulated_sequences\\25_09__walking_outside_cafe_disgusted__ODAQ7BZL.mp4 completed\n",
      "\n",
      "C:\\Users\\Tanish Garg\\.cache\\kagglehub\\datasets\\sanikatiwarekar\\deep-fake-detection-dfd-entire-original-dataset\\DFD_manipulated_sequences\\06_02__walking_down_street_outside_angry__37DH75GQ.mp4 completed\n",
      "\n",
      "C:\\Users\\Tanish Garg\\.cache\\kagglehub\\datasets\\sanikatiwarekar\\deep-fake-detection-dfd-entire-original-dataset\\DFD_manipulated_sequences\\11_01__talking_against_wall__4OJNJLOO.mp4 completed\n",
      "\n",
      "C:\\Users\\Tanish Garg\\.cache\\kagglehub\\datasets\\sanikatiwarekar\\deep-fake-detection-dfd-entire-original-dataset\\DFD_manipulated_sequences\\15_03__exit_phone_room__OY4I7ZU8.mp4 completed\n",
      "\n",
      "C:\\Users\\Tanish Garg\\.cache\\kagglehub\\datasets\\sanikatiwarekar\\deep-fake-detection-dfd-entire-original-dataset\\DFD_original sequences\\07__walking_outside_cafe_disgusted.mp4 completed\n",
      "\n",
      "C:\\Users\\Tanish Garg\\.cache\\kagglehub\\datasets\\sanikatiwarekar\\deep-fake-detection-dfd-entire-original-dataset\\DFD_manipulated_sequences\\15_20__outside_talking_pan_laughing__99NHTFBM.mp4 completed\n",
      "\n"
     ]
    },
    {
     "name": "stderr",
     "output_type": "stream",
     "text": [
      "Processing videos:  59%|████████████████████████████████████▏                        | 285/480 [22:36<22:32,  6.93s/it]"
     ]
    },
    {
     "name": "stdout",
     "output_type": "stream",
     "text": [
      "C:\\Users\\Tanish Garg\\.cache\\kagglehub\\datasets\\sanikatiwarekar\\deep-fake-detection-dfd-entire-original-dataset\\DFD_original sequences\\15__podium_speech_happy.mp4 completed\n",
      "\n",
      "C:\\Users\\Tanish Garg\\.cache\\kagglehub\\datasets\\sanikatiwarekar\\deep-fake-detection-dfd-entire-original-dataset\\DFD_manipulated_sequences\\15_13__walking_down_street_outside_angry__X0EIIJF7.mp4 completed\n",
      "\n"
     ]
    },
    {
     "name": "stderr",
     "output_type": "stream",
     "text": [
      "Processing videos:  60%|████████████████████████████████████▊                        | 290/480 [22:42<14:23,  4.54s/it]"
     ]
    },
    {
     "name": "stdout",
     "output_type": "stream",
     "text": [
      "C:\\Users\\Tanish Garg\\.cache\\kagglehub\\datasets\\sanikatiwarekar\\deep-fake-detection-dfd-entire-original-dataset\\DFD_original sequences\\20__walking_and_outside_surprised.mp4 completed\n",
      "\n",
      "C:\\Users\\Tanish Garg\\.cache\\kagglehub\\datasets\\sanikatiwarekar\\deep-fake-detection-dfd-entire-original-dataset\\DFD_manipulated_sequences\\27_25__walk_down_hall_angry__GNIMW95Z.mp4 completed\n",
      "\n",
      "C:\\Users\\Tanish Garg\\.cache\\kagglehub\\datasets\\sanikatiwarekar\\deep-fake-detection-dfd-entire-original-dataset\\DFD_manipulated_sequences\\28_05__exit_phone_room__U9LRLJ6N.mp4 completed\n",
      "\n",
      "C:\\Users\\Tanish Garg\\.cache\\kagglehub\\datasets\\sanikatiwarekar\\deep-fake-detection-dfd-entire-original-dataset\\DFD_original sequences\\15__walking_down_street_outside_angry.mp4 completed\n",
      "\n",
      "C:\\Users\\Tanish Garg\\.cache\\kagglehub\\datasets\\sanikatiwarekar\\deep-fake-detection-dfd-entire-original-dataset\\DFD_original sequences\\11__walking_outside_cafe_disgusted.mp4 completed\n",
      "\n",
      "C:\\Users\\Tanish Garg\\.cache\\kagglehub\\datasets\\sanikatiwarekar\\deep-fake-detection-dfd-entire-original-dataset\\DFD_original sequences\\01__walking_down_indoor_hall_disgust.mp4 completed\n",
      "\n",
      "C:\\Users\\Tanish Garg\\.cache\\kagglehub\\datasets\\sanikatiwarekar\\deep-fake-detection-dfd-entire-original-dataset\\DFD_original sequences\\27__walking_outside_cafe_disgusted.mp4 completed\n",
      "\n",
      "C:\\Users\\Tanish Garg\\.cache\\kagglehub\\datasets\\sanikatiwarekar\\deep-fake-detection-dfd-entire-original-dataset\\DFD_manipulated_sequences\\02_01__hugging_happy__YVGY8LOK.mp4 completed\n",
      "\n",
      "C:\\Users\\Tanish Garg\\.cache\\kagglehub\\datasets\\sanikatiwarekar\\deep-fake-detection-dfd-entire-original-dataset\\DFD_original sequences\\07__outside_talking_still_laughing.mp4 completed\n",
      "\n",
      "C:\\Users\\Tanish Garg\\.cache\\kagglehub\\datasets\\sanikatiwarekar\\deep-fake-detection-dfd-entire-original-dataset\\DFD_original sequences\\19__talking_against_wall.mp4 completed\n",
      "\n",
      "C:\\Users\\Tanish Garg\\.cache\\kagglehub\\datasets\\sanikatiwarekar\\deep-fake-detection-dfd-entire-original-dataset\\DFD_original sequences\\15__outside_talking_still_laughing.mp4 completed\n",
      "\n",
      "C:\\Users\\Tanish Garg\\.cache\\kagglehub\\datasets\\sanikatiwarekar\\deep-fake-detection-dfd-entire-original-dataset\\DFD_manipulated_sequences\\11_01__outside_talking_still_laughing__9229VVZ3.mp4 completed\n",
      "\n",
      "C:\\Users\\Tanish Garg\\.cache\\kagglehub\\datasets\\sanikatiwarekar\\deep-fake-detection-dfd-entire-original-dataset\\DFD_original sequences\\26__outside_talking_pan_laughing.mp4 completed\n",
      "\n"
     ]
    },
    {
     "name": "stderr",
     "output_type": "stream",
     "text": [
      "Processing videos:  61%|█████████████████████████████████████▍                       | 295/480 [23:22<18:05,  5.87s/it]"
     ]
    },
    {
     "name": "stdout",
     "output_type": "stream",
     "text": [
      "C:\\Users\\Tanish Garg\\.cache\\kagglehub\\datasets\\sanikatiwarekar\\deep-fake-detection-dfd-entire-original-dataset\\DFD_original sequences\\27__walking_down_indoor_hall_disgust.mp4 completed\n",
      "\n"
     ]
    },
    {
     "name": "stderr",
     "output_type": "stream",
     "text": [
      "Processing videos:  64%|███████████████████████████████████████▏                     | 308/480 [23:23<07:11,  2.51s/it]"
     ]
    },
    {
     "name": "stdout",
     "output_type": "stream",
     "text": [
      "C:\\Users\\Tanish Garg\\.cache\\kagglehub\\datasets\\sanikatiwarekar\\deep-fake-detection-dfd-entire-original-dataset\\DFD_original sequences\\26__kitchen_pan.mp4 completed\n",
      "\n",
      "C:\\Users\\Tanish Garg\\.cache\\kagglehub\\datasets\\sanikatiwarekar\\deep-fake-detection-dfd-entire-original-dataset\\DFD_original sequences\\08__walking_outside_cafe_disgusted.mp4 completed\n",
      "\n"
     ]
    },
    {
     "name": "stderr",
     "output_type": "stream",
     "text": [
      "Processing videos:  65%|███████████████████████████████████████▋                     | 312/480 [23:40<08:00,  2.86s/it]"
     ]
    },
    {
     "name": "stdout",
     "output_type": "stream",
     "text": [
      "C:\\Users\\Tanish Garg\\.cache\\kagglehub\\datasets\\sanikatiwarekar\\deep-fake-detection-dfd-entire-original-dataset\\DFD_manipulated_sequences\\27_07__kitchen_pan__B5S6XY2L.mp4 completed\n",
      "\n",
      "C:\\Users\\Tanish Garg\\.cache\\kagglehub\\datasets\\sanikatiwarekar\\deep-fake-detection-dfd-entire-original-dataset\\DFD_manipulated_sequences\\21_11__kitchen_still__T7DK03O1.mp4 completed\n",
      "\n",
      "C:\\Users\\Tanish Garg\\.cache\\kagglehub\\datasets\\sanikatiwarekar\\deep-fake-detection-dfd-entire-original-dataset\\DFD_manipulated_sequences\\03_14__exit_phone_room__0O9TTCJT.mp4 completed\n",
      "\n",
      "C:\\Users\\Tanish Garg\\.cache\\kagglehub\\datasets\\sanikatiwarekar\\deep-fake-detection-dfd-entire-original-dataset\\DFD_original sequences\\19__walking_outside_cafe_disgusted.mp4 completed\n",
      "\n"
     ]
    },
    {
     "name": "stderr",
     "output_type": "stream",
     "text": [
      "Processing videos:  65%|███████████████████████████████████████▉                     | 314/480 [24:00<10:03,  3.63s/it]"
     ]
    },
    {
     "name": "stdout",
     "output_type": "stream",
     "text": [
      "C:\\Users\\Tanish Garg\\.cache\\kagglehub\\datasets\\sanikatiwarekar\\deep-fake-detection-dfd-entire-original-dataset\\DFD_original sequences\\23__kitchen_still.mp4 completed\n",
      "\n"
     ]
    },
    {
     "name": "stderr",
     "output_type": "stream",
     "text": [
      "Processing videos:  66%|████████████████████████████████████████                     | 315/480 [24:00<08:54,  3.24s/it]"
     ]
    },
    {
     "name": "stdout",
     "output_type": "stream",
     "text": [
      "C:\\Users\\Tanish Garg\\.cache\\kagglehub\\datasets\\sanikatiwarekar\\deep-fake-detection-dfd-entire-original-dataset\\DFD_manipulated_sequences\\20_25__exit_phone_room__MUS0X71T.mp4 completed\n",
      "\n",
      "C:\\Users\\Tanish Garg\\.cache\\kagglehub\\datasets\\sanikatiwarekar\\deep-fake-detection-dfd-entire-original-dataset\\DFD_manipulated_sequences\\06_18__outside_talking_still_laughing__M36D0OJT.mp4 completed\n",
      "\n",
      "C:\\Users\\Tanish Garg\\.cache\\kagglehub\\datasets\\sanikatiwarekar\\deep-fake-detection-dfd-entire-original-dataset\\DFD_manipulated_sequences\\13_02__secret_conversation__PLNVLO74.mp4 completed\n",
      "\n"
     ]
    },
    {
     "name": "stderr",
     "output_type": "stream",
     "text": [
      "Processing videos:  66%|████████████████████████████████████████▎                    | 317/480 [24:17<12:15,  4.51s/it]"
     ]
    },
    {
     "name": "stdout",
     "output_type": "stream",
     "text": [
      "C:\\Users\\Tanish Garg\\.cache\\kagglehub\\datasets\\sanikatiwarekar\\deep-fake-detection-dfd-entire-original-dataset\\DFD_original sequences\\22__podium_speech_happy.mp4 completed\n",
      "\n",
      "C:\\Users\\Tanish Garg\\.cache\\kagglehub\\datasets\\sanikatiwarekar\\deep-fake-detection-dfd-entire-original-dataset\\DFD_original sequences\\23__walk_down_hall_angry.mp4 completed\n",
      "\n",
      "C:\\Users\\Tanish Garg\\.cache\\kagglehub\\datasets\\sanikatiwarekar\\deep-fake-detection-dfd-entire-original-dataset\\DFD_original sequences\\11__talking_against_wall.mp4 completed\n",
      "\n",
      "C:\\Users\\Tanish Garg\\.cache\\kagglehub\\datasets\\sanikatiwarekar\\deep-fake-detection-dfd-entire-original-dataset\\DFD_manipulated_sequences\\03_26__walk_down_hall_angry__WBSXBL82.mp4 completed\n",
      "\n",
      "C:\\Users\\Tanish Garg\\.cache\\kagglehub\\datasets\\sanikatiwarekar\\deep-fake-detection-dfd-entire-original-dataset\\DFD_manipulated_sequences\\12_04__kitchen_pan__B6YJ9IW1.mp4 completed\n",
      "\n",
      "C:\\Users\\Tanish Garg\\.cache\\kagglehub\\datasets\\sanikatiwarekar\\deep-fake-detection-dfd-entire-original-dataset\\DFD_manipulated_sequences\\02_07__meeting_serious__O4SXNLRL.mp4 completed\n",
      "\n",
      "C:\\Users\\Tanish Garg\\.cache\\kagglehub\\datasets\\sanikatiwarekar\\deep-fake-detection-dfd-entire-original-dataset\\DFD_original sequences\\17__kitchen_pan.mp4 completed\n",
      "\n",
      "C:\\Users\\Tanish Garg\\.cache\\kagglehub\\datasets\\sanikatiwarekar\\deep-fake-detection-dfd-entire-original-dataset\\DFD_original sequences\\23__walking_down_indoor_hall_disgust.mp4 completed\n",
      "\n"
     ]
    },
    {
     "name": "stderr",
     "output_type": "stream",
     "text": [
      "Processing videos:  67%|████████████████████████████████████████▋                    | 320/480 [24:52<17:34,  6.59s/it]"
     ]
    },
    {
     "name": "stdout",
     "output_type": "stream",
     "text": [
      "C:\\Users\\Tanish Garg\\.cache\\kagglehub\\datasets\\sanikatiwarekar\\deep-fake-detection-dfd-entire-original-dataset\\DFD_original sequences\\21__talking_angry_couch.mp4 completed\n",
      "\n",
      "C:\\Users\\Tanish Garg\\.cache\\kagglehub\\datasets\\sanikatiwarekar\\deep-fake-detection-dfd-entire-original-dataset\\DFD_manipulated_sequences\\26_12__kitchen_pan__BFBNM8FR.mp4 completed\n",
      "\n"
     ]
    },
    {
     "name": "stderr",
     "output_type": "stream",
     "text": [
      "Processing videos:  68%|█████████████████████████████████████████▋                   | 328/480 [24:56<07:04,  2.79s/it]"
     ]
    },
    {
     "name": "stdout",
     "output_type": "stream",
     "text": [
      "C:\\Users\\Tanish Garg\\.cache\\kagglehub\\datasets\\sanikatiwarekar\\deep-fake-detection-dfd-entire-original-dataset\\DFD_manipulated_sequences\\23_22__outside_talking_still_laughing__W9MT3Q5K.mp4 completed\n",
      "\n"
     ]
    },
    {
     "name": "stderr",
     "output_type": "stream",
     "text": [
      "Processing videos:  69%|█████████████████████████████████████████▊                   | 329/480 [25:01<07:31,  2.99s/it]"
     ]
    },
    {
     "name": "stdout",
     "output_type": "stream",
     "text": [
      "C:\\Users\\Tanish Garg\\.cache\\kagglehub\\datasets\\sanikatiwarekar\\deep-fake-detection-dfd-entire-original-dataset\\DFD_original sequences\\13__walking_and_outside_surprised.mp4 completed\n",
      "\n",
      "C:\\Users\\Tanish Garg\\.cache\\kagglehub\\datasets\\sanikatiwarekar\\deep-fake-detection-dfd-entire-original-dataset\\DFD_manipulated_sequences\\21_07__exit_phone_room__K7KXUHMU.mp4 completed\n",
      "\n",
      "C:\\Users\\Tanish Garg\\.cache\\kagglehub\\datasets\\sanikatiwarekar\\deep-fake-detection-dfd-entire-original-dataset\\DFD_manipulated_sequences\\18_04__walking_outside_cafe_disgusted__6J3ZFEJQ.mp4 completed\n",
      "\n"
     ]
    },
    {
     "name": "stderr",
     "output_type": "stream",
     "text": [
      "Processing videos:  69%|██████████████████████████████████████████                   | 331/480 [25:09<07:29,  3.02s/it]"
     ]
    },
    {
     "name": "stdout",
     "output_type": "stream",
     "text": [
      "C:\\Users\\Tanish Garg\\.cache\\kagglehub\\datasets\\sanikatiwarekar\\deep-fake-detection-dfd-entire-original-dataset\\DFD_original sequences\\05__podium_speech_happy.mp4 completed\n",
      "\n",
      "C:\\Users\\Tanish Garg\\.cache\\kagglehub\\datasets\\sanikatiwarekar\\deep-fake-detection-dfd-entire-original-dataset\\DFD_manipulated_sequences\\11_13__talking_against_wall__61T622EK.mp4 completed\n",
      "\n",
      "C:\\Users\\Tanish Garg\\.cache\\kagglehub\\datasets\\sanikatiwarekar\\deep-fake-detection-dfd-entire-original-dataset\\DFD_manipulated_sequences\\26_03__walking_outside_cafe_disgusted__WBSXBL82.mp4 completed\n",
      "\n"
     ]
    },
    {
     "name": "stderr",
     "output_type": "stream",
     "text": [
      "Processing videos:  70%|██████████████████████████████████████████▍                  | 334/480 [25:30<11:20,  4.66s/it]"
     ]
    },
    {
     "name": "stdout",
     "output_type": "stream",
     "text": [
      "C:\\Users\\Tanish Garg\\.cache\\kagglehub\\datasets\\sanikatiwarekar\\deep-fake-detection-dfd-entire-original-dataset\\DFD_original sequences\\25__secret_conversation.mp4 completed\n",
      "\n",
      "C:\\Users\\Tanish Garg\\.cache\\kagglehub\\datasets\\sanikatiwarekar\\deep-fake-detection-dfd-entire-original-dataset\\DFD_manipulated_sequences\\06_03__kitchen_pan__2XWC5JED.mp4 completed\n",
      "\n",
      "C:\\Users\\Tanish Garg\\.cache\\kagglehub\\datasets\\sanikatiwarekar\\deep-fake-detection-dfd-entire-original-dataset\\DFD_manipulated_sequences\\25_20__walking_outside_cafe_disgusted__RSCD7KXO.mp4 completed\n",
      "\n"
     ]
    },
    {
     "name": "stderr",
     "output_type": "stream",
     "text": [
      "Processing videos:  70%|██████████████████████████████████████████▌                  | 335/480 [25:42<14:07,  5.85s/it]"
     ]
    },
    {
     "name": "stdout",
     "output_type": "stream",
     "text": [
      "C:\\Users\\Tanish Garg\\.cache\\kagglehub\\datasets\\sanikatiwarekar\\deep-fake-detection-dfd-entire-original-dataset\\DFD_manipulated_sequences\\20_12__talking_against_wall__GHPWDH3C.mp4 completed\n",
      "\n",
      "C:\\Users\\Tanish Garg\\.cache\\kagglehub\\datasets\\sanikatiwarekar\\deep-fake-detection-dfd-entire-original-dataset\\DFD_manipulated_sequences\\22_24__walking_and_outside_surprised__7E3GY85F.mp4 completed\n",
      "\n",
      "C:\\Users\\Tanish Garg\\.cache\\kagglehub\\datasets\\sanikatiwarekar\\deep-fake-detection-dfd-entire-original-dataset\\DFD_manipulated_sequences\\19_24__walking_down_street_outside_angry__59PN7WZ2.mp4 completed\n",
      "\n",
      "C:\\Users\\Tanish Garg\\.cache\\kagglehub\\datasets\\sanikatiwarekar\\deep-fake-detection-dfd-entire-original-dataset\\DFD_manipulated_sequences\\18_25__outside_talking_pan_laughing__41UL3HO6.mp4 completed\n",
      "\n",
      "C:\\Users\\Tanish Garg\\.cache\\kagglehub\\datasets\\sanikatiwarekar\\deep-fake-detection-dfd-entire-original-dataset\\DFD_original sequences\\22__walk_down_hall_angry.mp4 completed\n",
      "\n",
      "C:\\Users\\Tanish Garg\\.cache\\kagglehub\\datasets\\sanikatiwarekar\\deep-fake-detection-dfd-entire-original-dataset\\DFD_original sequences\\02__walking_and_outside_surprised.mp4 completed\n",
      "\n",
      "C:\\Users\\Tanish Garg\\.cache\\kagglehub\\datasets\\sanikatiwarekar\\deep-fake-detection-dfd-entire-original-dataset\\DFD_manipulated_sequences\\20_25__outside_talking_still_laughing__RSCD7KXO.mp4 completed\n",
      "\n",
      "C:\\Users\\Tanish Garg\\.cache\\kagglehub\\datasets\\sanikatiwarekar\\deep-fake-detection-dfd-entire-original-dataset\\DFD_original sequences\\06__kitchen_still.mp4 completed\n",
      "\n",
      "C:\\Users\\Tanish Garg\\.cache\\kagglehub\\datasets\\sanikatiwarekar\\deep-fake-detection-dfd-entire-original-dataset\\DFD_original sequences\\tmp51ews_lu completed\n",
      "\n",
      "C:\\Users\\Tanish Garg\\.cache\\kagglehub\\datasets\\sanikatiwarekar\\deep-fake-detection-dfd-entire-original-dataset\\DFD_original sequences\\27__talking_angry_couch.mp4 completed\n",
      "\n"
     ]
    },
    {
     "name": "stderr",
     "output_type": "stream",
     "text": [
      "Processing videos:  70%|██████████████████████████████████████████▊                  | 337/480 [26:26<25:51, 10.85s/it]"
     ]
    },
    {
     "name": "stdout",
     "output_type": "stream",
     "text": [
      "C:\\Users\\Tanish Garg\\.cache\\kagglehub\\datasets\\sanikatiwarekar\\deep-fake-detection-dfd-entire-original-dataset\\DFD_original sequences\\14__talking_angry_couch.mp4 completed\n",
      "\n",
      "C:\\Users\\Tanish Garg\\.cache\\kagglehub\\datasets\\sanikatiwarekar\\deep-fake-detection-dfd-entire-original-dataset\\DFD_manipulated_sequences\\27_02__kitchen_pan__78M8S6M6.mp4 completed\n",
      "\n",
      "C:\\Users\\Tanish Garg\\.cache\\kagglehub\\datasets\\sanikatiwarekar\\deep-fake-detection-dfd-entire-original-dataset\\DFD_original sequences\\12__outside_talking_still_laughing.mp4 completed\n",
      "\n",
      "C:\\Users\\Tanish Garg\\.cache\\kagglehub\\datasets\\sanikatiwarekar\\deep-fake-detection-dfd-entire-original-dataset\\DFD_manipulated_sequences\\14_15__hugging_happy__OMLZILK3.mp4 completed\n",
      "\n",
      "C:\\Users\\Tanish Garg\\.cache\\kagglehub\\datasets\\sanikatiwarekar\\deep-fake-detection-dfd-entire-original-dataset\\DFD_original sequences\\27__exit_phone_room.mp4 completed\n",
      "\n",
      "C:\\Users\\Tanish Garg\\.cache\\kagglehub\\datasets\\sanikatiwarekar\\deep-fake-detection-dfd-entire-original-dataset\\DFD_original sequences\\06__outside_talking_still_laughing.mp4 completed\n",
      "\n",
      "C:\\Users\\Tanish Garg\\.cache\\kagglehub\\datasets\\sanikatiwarekar\\deep-fake-detection-dfd-entire-original-dataset\\DFD_original sequences\\19__outside_talking_still_laughing.mp4 completed\n",
      "\n"
     ]
    },
    {
     "name": "stderr",
     "output_type": "stream",
     "text": [
      "Processing videos:  72%|███████████████████████████████████████████▉                 | 346/480 [26:37<09:33,  4.28s/it]"
     ]
    },
    {
     "name": "stdout",
     "output_type": "stream",
     "text": [
      "C:\\Users\\Tanish Garg\\.cache\\kagglehub\\datasets\\sanikatiwarekar\\deep-fake-detection-dfd-entire-original-dataset\\DFD_original sequences\\21__walking_down_indoor_hall_disgust.mp4 completed\n",
      "\n",
      "C:\\Users\\Tanish Garg\\.cache\\kagglehub\\datasets\\sanikatiwarekar\\deep-fake-detection-dfd-entire-original-dataset\\DFD_original sequences\\05__kitchen_pan.mp4 completed\n",
      "\n"
     ]
    },
    {
     "name": "stderr",
     "output_type": "stream",
     "text": [
      "Processing videos:  73%|████████████████████████████████████████████▋                | 352/480 [26:45<06:10,  2.90s/it]"
     ]
    },
    {
     "name": "stdout",
     "output_type": "stream",
     "text": [
      "C:\\Users\\Tanish Garg\\.cache\\kagglehub\\datasets\\sanikatiwarekar\\deep-fake-detection-dfd-entire-original-dataset\\DFD_original sequences\\10__walking_outside_cafe_disgusted.mp4 completed\n",
      "\n",
      "C:\\Users\\Tanish Garg\\.cache\\kagglehub\\datasets\\sanikatiwarekar\\deep-fake-detection-dfd-entire-original-dataset\\DFD_manipulated_sequences\\13_15__kitchen_pan__X0EIIJF7.mp4 completed\n",
      "\n"
     ]
    },
    {
     "name": "stderr",
     "output_type": "stream",
     "text": [
      "Processing videos:  75%|█████████████████████████████████████████████▍               | 358/480 [27:06<06:26,  3.17s/it]"
     ]
    },
    {
     "name": "stdout",
     "output_type": "stream",
     "text": [
      "C:\\Users\\Tanish Garg\\.cache\\kagglehub\\datasets\\sanikatiwarekar\\deep-fake-detection-dfd-entire-original-dataset\\DFD_original sequences\\27__kitchen_still.mp4 completed\n",
      "\n"
     ]
    },
    {
     "name": "stderr",
     "output_type": "stream",
     "text": [
      "Processing videos:  75%|█████████████████████████████████████████████▊               | 360/480 [27:18<07:14,  3.62s/it]"
     ]
    },
    {
     "name": "stdout",
     "output_type": "stream",
     "text": [
      "C:\\Users\\Tanish Garg\\.cache\\kagglehub\\datasets\\sanikatiwarekar\\deep-fake-detection-dfd-entire-original-dataset\\DFD_manipulated_sequences\\06_14__walking_and_outside_surprised__8U9ULZDT.mp4 completed\n",
      "\n",
      "C:\\Users\\Tanish Garg\\.cache\\kagglehub\\datasets\\sanikatiwarekar\\deep-fake-detection-dfd-entire-original-dataset\\DFD_manipulated_sequences\\14_07__exit_phone_room__P9QFO50U.mp4 completed\n",
      "\n",
      "C:\\Users\\Tanish Garg\\.cache\\kagglehub\\datasets\\sanikatiwarekar\\deep-fake-detection-dfd-entire-original-dataset\\DFD_manipulated_sequences\\15_02__talking_against_wall__TSRK8QS4.mp4 completed\n",
      "\n"
     ]
    },
    {
     "name": "stderr",
     "output_type": "stream",
     "text": [
      "Processing videos:  76%|██████████████████████████████████████████████▏              | 363/480 [27:22<05:43,  2.93s/it]"
     ]
    },
    {
     "name": "stdout",
     "output_type": "stream",
     "text": [
      "C:\\Users\\Tanish Garg\\.cache\\kagglehub\\datasets\\sanikatiwarekar\\deep-fake-detection-dfd-entire-original-dataset\\DFD_original sequences\\02__talking_against_wall.mp4 completed\n",
      "\n"
     ]
    },
    {
     "name": "stderr",
     "output_type": "stream",
     "text": [
      "Processing videos:  76%|██████████████████████████████████████████████▎              | 364/480 [27:22<04:53,  2.53s/it]"
     ]
    },
    {
     "name": "stdout",
     "output_type": "stream",
     "text": [
      "C:\\Users\\Tanish Garg\\.cache\\kagglehub\\datasets\\sanikatiwarekar\\deep-fake-detection-dfd-entire-original-dataset\\DFD_original sequences\\04__exit_phone_room.mp4 completed\n",
      "\n",
      "C:\\Users\\Tanish Garg\\.cache\\kagglehub\\datasets\\sanikatiwarekar\\deep-fake-detection-dfd-entire-original-dataset\\DFD_original sequences\\01__walk_down_hall_angry.mp4 completed\n",
      "\n",
      "C:\\Users\\Tanish Garg\\.cache\\kagglehub\\datasets\\sanikatiwarekar\\deep-fake-detection-dfd-entire-original-dataset\\DFD_original sequences\\07__exit_phone_room.mp4 completed\n",
      "\n",
      "C:\\Users\\Tanish Garg\\.cache\\kagglehub\\datasets\\sanikatiwarekar\\deep-fake-detection-dfd-entire-original-dataset\\DFD_manipulated_sequences\\13_12__walk_down_hall_angry__Q442U52P.mp4 completed\n",
      "\n"
     ]
    },
    {
     "name": "stderr",
     "output_type": "stream",
     "text": [
      "Processing videos:  76%|██████████████████████████████████████████████▍              | 365/480 [27:44<11:11,  5.84s/it]"
     ]
    },
    {
     "name": "stdout",
     "output_type": "stream",
     "text": [
      "C:\\Users\\Tanish Garg\\.cache\\kagglehub\\datasets\\sanikatiwarekar\\deep-fake-detection-dfd-entire-original-dataset\\DFD_original sequences\\16__talking_against_wall.mp4 completed\n",
      "\n"
     ]
    },
    {
     "name": "stderr",
     "output_type": "stream",
     "text": [
      "Processing videos:  77%|██████████████████████████████████████████████▊              | 368/480 [27:46<06:16,  3.36s/it]"
     ]
    },
    {
     "name": "stdout",
     "output_type": "stream",
     "text": [
      "C:\\Users\\Tanish Garg\\.cache\\kagglehub\\datasets\\sanikatiwarekar\\deep-fake-detection-dfd-entire-original-dataset\\DFD_manipulated_sequences\\05_28__hugging_happy__VR9127O1.mp4 completed\n",
      "\n",
      "C:\\Users\\Tanish Garg\\.cache\\kagglehub\\datasets\\sanikatiwarekar\\deep-fake-detection-dfd-entire-original-dataset\\DFD_manipulated_sequences\\06_03__kitchen_pan__KIWCEATU.mp4 completed\n",
      "\n",
      "C:\\Users\\Tanish Garg\\.cache\\kagglehub\\datasets\\sanikatiwarekar\\deep-fake-detection-dfd-entire-original-dataset\\DFD_original sequences\\11__kitchen_still.mp4 completed\n",
      "\n",
      "C:\\Users\\Tanish Garg\\.cache\\kagglehub\\datasets\\sanikatiwarekar\\deep-fake-detection-dfd-entire-original-dataset\\DFD_original sequences\\28__kitchen_still.mp4 completed\n",
      "\n",
      "C:\\Users\\Tanish Garg\\.cache\\kagglehub\\datasets\\sanikatiwarekar\\deep-fake-detection-dfd-entire-original-dataset\\DFD_manipulated_sequences\\20_25__hugging_happy__M86GQTHK.mp4 completed\n",
      "\n"
     ]
    },
    {
     "name": "stderr",
     "output_type": "stream",
     "text": [
      "Processing videos:  77%|███████████████████████████████████████████████              | 370/480 [27:57<07:11,  3.92s/it]"
     ]
    },
    {
     "name": "stdout",
     "output_type": "stream",
     "text": [
      "C:\\Users\\Tanish Garg\\.cache\\kagglehub\\datasets\\sanikatiwarekar\\deep-fake-detection-dfd-entire-original-dataset\\DFD_original sequences\\17__talking_against_wall.mp4 completed\n",
      "\n",
      "C:\\Users\\Tanish Garg\\.cache\\kagglehub\\datasets\\sanikatiwarekar\\deep-fake-detection-dfd-entire-original-dataset\\DFD_manipulated_sequences\\02_04__walk_down_hall_angry__SUIZOXAJ.mp4 completed\n",
      "\n",
      "C:\\Users\\Tanish Garg\\.cache\\kagglehub\\datasets\\sanikatiwarekar\\deep-fake-detection-dfd-entire-original-dataset\\DFD_manipulated_sequences\\02_07__walk_down_hall_angry__U7DEOZNV.mp4 completed\n",
      "\n",
      "C:\\Users\\Tanish Garg\\.cache\\kagglehub\\datasets\\sanikatiwarekar\\deep-fake-detection-dfd-entire-original-dataset\\DFD_manipulated_sequences\\21_20__kitchen_still__ZCB5OMEW.mp4 completed\n",
      "\n",
      "C:\\Users\\Tanish Garg\\.cache\\kagglehub\\datasets\\sanikatiwarekar\\deep-fake-detection-dfd-entire-original-dataset\\DFD_manipulated_sequences\\25_09__outside_talking_still_laughing__ODAQ7BZL.mp4 completed\n",
      "\n",
      "C:\\Users\\Tanish Garg\\.cache\\kagglehub\\datasets\\sanikatiwarekar\\deep-fake-detection-dfd-entire-original-dataset\\DFD_manipulated_sequences\\18_03__outside_talking_pan_laughing__22UBC0BS.mp4 completed\n",
      "\n",
      "C:\\Users\\Tanish Garg\\.cache\\kagglehub\\datasets\\sanikatiwarekar\\deep-fake-detection-dfd-entire-original-dataset\\DFD_original sequences\\21__walk_down_hall_angry.mp4 completed\n",
      "\n",
      "C:\\Users\\Tanish Garg\\.cache\\kagglehub\\datasets\\sanikatiwarekar\\deep-fake-detection-dfd-entire-original-dataset\\DFD_original sequences\\06__talking_angry_couch.mp4 completed\n",
      "\n",
      "C:\\Users\\Tanish Garg\\.cache\\kagglehub\\datasets\\sanikatiwarekar\\deep-fake-detection-dfd-entire-original-dataset\\DFD_manipulated_sequences\\15_02__walking_down_street_outside_angry__I8G2LWD1.mp4 completed\n",
      "\n"
     ]
    },
    {
     "name": "stderr",
     "output_type": "stream",
     "text": [
      "Processing videos:  78%|███████████████████████████████████████████████▎             | 372/480 [28:46<21:39, 12.04s/it]"
     ]
    },
    {
     "name": "stdout",
     "output_type": "stream",
     "text": [
      "C:\\Users\\Tanish Garg\\.cache\\kagglehub\\datasets\\sanikatiwarekar\\deep-fake-detection-dfd-entire-original-dataset\\DFD_original sequences\\01__talking_angry_couch.mp4 completed\n",
      "\n",
      "C:\\Users\\Tanish Garg\\.cache\\kagglehub\\datasets\\sanikatiwarekar\\deep-fake-detection-dfd-entire-original-dataset\\DFD_manipulated_sequences\\03_15__outside_talking_pan_laughing__AIOM1U5V.mp4 completed\n",
      "\n"
     ]
    },
    {
     "name": "stderr",
     "output_type": "stream",
     "text": [
      "Processing videos:  80%|████████████████████████████████████████████████▌            | 382/480 [28:53<06:02,  3.70s/it]"
     ]
    },
    {
     "name": "stdout",
     "output_type": "stream",
     "text": [
      "C:\\Users\\Tanish Garg\\.cache\\kagglehub\\datasets\\sanikatiwarekar\\deep-fake-detection-dfd-entire-original-dataset\\DFD_manipulated_sequences\\20_14__podium_speech_happy__R7SPX6OK.mp4 completed\n",
      "\n",
      "C:\\Users\\Tanish Garg\\.cache\\kagglehub\\datasets\\sanikatiwarekar\\deep-fake-detection-dfd-entire-original-dataset\\DFD_manipulated_sequences\\09_26__walk_down_hall_angry__XXGYLT82.mp4 completed\n",
      "\n",
      "C:\\Users\\Tanish Garg\\.cache\\kagglehub\\datasets\\sanikatiwarekar\\deep-fake-detection-dfd-entire-original-dataset\\DFD_original sequences\\04__kitchen_pan.mp4 completed\n",
      "\n",
      "C:\\Users\\Tanish Garg\\.cache\\kagglehub\\datasets\\sanikatiwarekar\\deep-fake-detection-dfd-entire-original-dataset\\DFD_manipulated_sequences\\07_03__walking_outside_cafe_disgusted__IFSURI9X.mp4 completed\n",
      "\n",
      "C:\\Users\\Tanish Garg\\.cache\\kagglehub\\datasets\\sanikatiwarekar\\deep-fake-detection-dfd-entire-original-dataset\\DFD_original sequences\\21__outside_talking_pan_laughing.mp4 completed\n",
      "\n",
      "C:\\Users\\Tanish Garg\\.cache\\kagglehub\\datasets\\sanikatiwarekar\\deep-fake-detection-dfd-entire-original-dataset\\DFD_manipulated_sequences\\05_08__talking_against_wall__PRBCE28Z.mp4 completed\n",
      "\n",
      "C:\\Users\\Tanish Garg\\.cache\\kagglehub\\datasets\\sanikatiwarekar\\deep-fake-detection-dfd-entire-original-dataset\\DFD_original sequences\\10__kitchen_still.mp4 completed\n",
      "\n"
     ]
    },
    {
     "name": "stderr",
     "output_type": "stream",
     "text": [
      "Processing videos:  81%|█████████████████████████████████████████████████▍           | 389/480 [29:17<05:14,  3.45s/it]"
     ]
    },
    {
     "name": "stdout",
     "output_type": "stream",
     "text": [
      "C:\\Users\\Tanish Garg\\.cache\\kagglehub\\datasets\\sanikatiwarekar\\deep-fake-detection-dfd-entire-original-dataset\\DFD_manipulated_sequences\\03_09__outside_talking_still_laughing__8DTEGQ54.mp4 completed\n",
      "\n",
      "C:\\Users\\Tanish Garg\\.cache\\kagglehub\\datasets\\sanikatiwarekar\\deep-fake-detection-dfd-entire-original-dataset\\DFD_original sequences\\16__walk_down_hall_angry.mp4 completed\n",
      "\n",
      "C:\\Users\\Tanish Garg\\.cache\\kagglehub\\datasets\\sanikatiwarekar\\deep-fake-detection-dfd-entire-original-dataset\\DFD_original sequences\\15__exit_phone_room.mp4 completed\n",
      "\n",
      "C:\\Users\\Tanish Garg\\.cache\\kagglehub\\datasets\\sanikatiwarekar\\deep-fake-detection-dfd-entire-original-dataset\\DFD_original sequences\\14__walking_and_outside_surprised.mp4 completed\n",
      "\n",
      "C:\\Users\\Tanish Garg\\.cache\\kagglehub\\datasets\\sanikatiwarekar\\deep-fake-detection-dfd-entire-original-dataset\\DFD_manipulated_sequences\\10_19__walking_outside_cafe_disgusted__BVVPN5D5.mp4 completed\n",
      "\n",
      "C:\\Users\\Tanish Garg\\.cache\\kagglehub\\datasets\\sanikatiwarekar\\deep-fake-detection-dfd-entire-original-dataset\\DFD_manipulated_sequences\\02_07__talking_against_wall__1ZE4HC06.mp4 completed\n",
      "\n",
      "C:\\Users\\Tanish Garg\\.cache\\kagglehub\\datasets\\sanikatiwarekar\\deep-fake-detection-dfd-entire-original-dataset\\DFD_manipulated_sequences\\07_02__outside_talking_still_laughing__1ZE4HC06.mp4 completed\n",
      "\n"
     ]
    },
    {
     "name": "stderr",
     "output_type": "stream",
     "text": [
      "Processing videos:  82%|█████████████████████████████████████████████████▉           | 393/480 [29:43<06:27,  4.45s/it]"
     ]
    },
    {
     "name": "stdout",
     "output_type": "stream",
     "text": [
      "C:\\Users\\Tanish Garg\\.cache\\kagglehub\\datasets\\sanikatiwarekar\\deep-fake-detection-dfd-entire-original-dataset\\DFD_manipulated_sequences\\13_03__talking_angry_couch__GBYWJW06.mp4 completed\n",
      "\n",
      "C:\\Users\\Tanish Garg\\.cache\\kagglehub\\datasets\\sanikatiwarekar\\deep-fake-detection-dfd-entire-original-dataset\\DFD_manipulated_sequences\\25_07__walking_down_street_outside_angry__IKMKYKPG.mp4 completed\n",
      "\n",
      "C:\\Users\\Tanish Garg\\.cache\\kagglehub\\datasets\\sanikatiwarekar\\deep-fake-detection-dfd-entire-original-dataset\\DFD_original sequences\\07__walking_down_street_outside_angry.mp4 completed\n",
      "\n",
      "C:\\Users\\Tanish Garg\\.cache\\kagglehub\\datasets\\sanikatiwarekar\\deep-fake-detection-dfd-entire-original-dataset\\DFD_original sequences\\18__walk_down_hall_angry.mp4 completed\n",
      "\n",
      "C:\\Users\\Tanish Garg\\.cache\\kagglehub\\datasets\\sanikatiwarekar\\deep-fake-detection-dfd-entire-original-dataset\\DFD_manipulated_sequences\\07_06__outside_talking_pan_laughing__NMGYPBXE.mp4 completed\n",
      "\n",
      "C:\\Users\\Tanish Garg\\.cache\\kagglehub\\datasets\\sanikatiwarekar\\deep-fake-detection-dfd-entire-original-dataset\\DFD_original sequences\\25__walk_down_hall_angry.mp4 completed\n",
      "\n",
      "C:\\Users\\Tanish Garg\\.cache\\kagglehub\\datasets\\sanikatiwarekar\\deep-fake-detection-dfd-entire-original-dataset\\DFD_original sequences\\02__walk_down_hall_angry.mp4 completed\n",
      "\n",
      "C:\\Users\\Tanish Garg\\.cache\\kagglehub\\datasets\\sanikatiwarekar\\deep-fake-detection-dfd-entire-original-dataset\\DFD_manipulated_sequences\\26_04__kitchen_still__WX836VLY.mp4 completed\n",
      "\n",
      "C:\\Users\\Tanish Garg\\.cache\\kagglehub\\datasets\\sanikatiwarekar\\deep-fake-detection-dfd-entire-original-dataset\\DFD_manipulated_sequences\\25_20__exit_phone_room__FZHCQNKV.mp4 completed\n",
      "\n"
     ]
    },
    {
     "name": "stderr",
     "output_type": "stream",
     "text": [
      "Processing videos:  83%|██████████████████████████████████████████████████▋          | 399/480 [30:27<07:36,  5.63s/it]"
     ]
    },
    {
     "name": "stdout",
     "output_type": "stream",
     "text": [
      "C:\\Users\\Tanish Garg\\.cache\\kagglehub\\datasets\\sanikatiwarekar\\deep-fake-detection-dfd-entire-original-dataset\\DFD_original sequences\\21__podium_speech_happy.mp4 completed\n",
      "\n"
     ]
    },
    {
     "name": "stderr",
     "output_type": "stream",
     "text": [
      "Processing videos:  84%|███████████████████████████████████████████████████▏         | 403/480 [30:29<05:25,  4.23s/it]"
     ]
    },
    {
     "name": "stdout",
     "output_type": "stream",
     "text": [
      "C:\\Users\\Tanish Garg\\.cache\\kagglehub\\datasets\\sanikatiwarekar\\deep-fake-detection-dfd-entire-original-dataset\\DFD_manipulated_sequences\\14_26__podium_speech_happy__ILLP29ZH.mp4 completed\n",
      "C:\\Users\\Tanish Garg\\.cache\\kagglehub\\datasets\\sanikatiwarekar\\deep-fake-detection-dfd-entire-original-dataset\\DFD_manipulated_sequences\\25_18__walking_outside_cafe_disgusted__SEGFKFJG.mp4 completed\n",
      "\n",
      "\n",
      "C:\\Users\\Tanish Garg\\.cache\\kagglehub\\datasets\\sanikatiwarekar\\deep-fake-detection-dfd-entire-original-dataset\\DFD_manipulated_sequences\\04_01__walk_down_hall_angry__GBC7ZGDP.mp4 completed\n",
      "\n"
     ]
    },
    {
     "name": "stderr",
     "output_type": "stream",
     "text": [
      "Processing videos:  86%|████████████████████████████████████████████████████▏        | 411/480 [30:45<03:43,  3.24s/it]"
     ]
    },
    {
     "name": "stdout",
     "output_type": "stream",
     "text": [
      "C:\\Users\\Tanish Garg\\.cache\\kagglehub\\datasets\\sanikatiwarekar\\deep-fake-detection-dfd-entire-original-dataset\\DFD_original sequences\\22__secret_conversation.mp4 completed\n",
      "\n",
      "C:\\Users\\Tanish Garg\\.cache\\kagglehub\\datasets\\sanikatiwarekar\\deep-fake-detection-dfd-entire-original-dataset\\DFD_original sequences\\15__kitchen_pan.mp4 completed\n",
      "\n",
      "C:\\Users\\Tanish Garg\\.cache\\kagglehub\\datasets\\sanikatiwarekar\\deep-fake-detection-dfd-entire-original-dataset\\DFD_manipulated_sequences\\14_06__outside_talking_still_laughing__8U9ULZDT.mp4 completed\n",
      "\n",
      "C:\\Users\\Tanish Garg\\.cache\\kagglehub\\datasets\\sanikatiwarekar\\deep-fake-detection-dfd-entire-original-dataset\\DFD_manipulated_sequences\\03_21__kitchen_still__YCSEBZO4.mp4 completed\n",
      "\n",
      "C:\\Users\\Tanish Garg\\.cache\\kagglehub\\datasets\\sanikatiwarekar\\deep-fake-detection-dfd-entire-original-dataset\\DFD_original sequences\\10__talking_against_wall.mp4 completed\n",
      "\n",
      "C:\\Users\\Tanish Garg\\.cache\\kagglehub\\datasets\\sanikatiwarekar\\deep-fake-detection-dfd-entire-original-dataset\\DFD_original sequences\\27__hugging_happy.mp4 completed\n",
      "\n",
      "C:\\Users\\Tanish Garg\\.cache\\kagglehub\\datasets\\sanikatiwarekar\\deep-fake-detection-dfd-entire-original-dataset\\DFD_manipulated_sequences\\14_26__walking_outside_cafe_disgusted__ILLP29ZH.mp4 completed\n",
      "\n",
      "C:\\Users\\Tanish Garg\\.cache\\kagglehub\\datasets\\sanikatiwarekar\\deep-fake-detection-dfd-entire-original-dataset\\DFD_manipulated_sequences\\02_15__talking_against_wall__HTG660F8.mp4 completed\n",
      "\n"
     ]
    },
    {
     "name": "stderr",
     "output_type": "stream",
     "text": [
      "Processing videos:  86%|████████████████████████████████████████████████████▎        | 412/480 [31:24<06:39,  5.88s/it]"
     ]
    },
    {
     "name": "stdout",
     "output_type": "stream",
     "text": [
      "C:\\Users\\Tanish Garg\\.cache\\kagglehub\\datasets\\sanikatiwarekar\\deep-fake-detection-dfd-entire-original-dataset\\DFD_manipulated_sequences\\11_13__talking_angry_couch__61T622EK.mp4 completed\n",
      "\n",
      "C:\\Users\\Tanish Garg\\.cache\\kagglehub\\datasets\\sanikatiwarekar\\deep-fake-detection-dfd-entire-original-dataset\\DFD_manipulated_sequences\\26_25__podium_speech_happy__0UFFR3U1.mp4 completed\n",
      "\n"
     ]
    },
    {
     "name": "stderr",
     "output_type": "stream",
     "text": [
      "Processing videos:  89%|██████████████████████████████████████████████████████       | 425/480 [31:27<02:19,  2.53s/it]"
     ]
    },
    {
     "name": "stdout",
     "output_type": "stream",
     "text": [
      "C:\\Users\\Tanish Garg\\.cache\\kagglehub\\datasets\\sanikatiwarekar\\deep-fake-detection-dfd-entire-original-dataset\\DFD_manipulated_sequences\\15_02__talking_against_wall__P2FAY3DR.mp4 completed\n",
      "\n"
     ]
    },
    {
     "name": "stderr",
     "output_type": "stream",
     "text": [
      "Processing videos:  89%|██████████████████████████████████████████████████████▏      | 426/480 [31:32<02:30,  2.78s/it]"
     ]
    },
    {
     "name": "stdout",
     "output_type": "stream",
     "text": [
      "C:\\Users\\Tanish Garg\\.cache\\kagglehub\\datasets\\sanikatiwarekar\\deep-fake-detection-dfd-entire-original-dataset\\DFD_original sequences\\10__outside_talking_still_laughing.mp4 completed\n",
      "\n",
      "C:\\Users\\Tanish Garg\\.cache\\kagglehub\\datasets\\sanikatiwarekar\\deep-fake-detection-dfd-entire-original-dataset\\DFD_manipulated_sequences\\02_07__walk_down_hall_angry__1JCLEEBQ.mp4 completed\n",
      "\n",
      "C:\\Users\\Tanish Garg\\.cache\\kagglehub\\datasets\\sanikatiwarekar\\deep-fake-detection-dfd-entire-original-dataset\\DFD_original sequences\\15__walk_down_hall_angry.mp4 completed\n",
      "\n",
      "C:\\Users\\Tanish Garg\\.cache\\kagglehub\\datasets\\sanikatiwarekar\\deep-fake-detection-dfd-entire-original-dataset\\DFD_manipulated_sequences\\11_21__secret_conversation__T7DK03O1.mp4 completed\n",
      "\n",
      "C:\\Users\\Tanish Garg\\.cache\\kagglehub\\datasets\\sanikatiwarekar\\deep-fake-detection-dfd-entire-original-dataset\\DFD_manipulated_sequences\\06_11__talking_against_wall__C8C4FW99.mp4 completed\n",
      "\n",
      "C:\\Users\\Tanish Garg\\.cache\\kagglehub\\datasets\\sanikatiwarekar\\deep-fake-detection-dfd-entire-original-dataset\\DFD_manipulated_sequences\\04_12__kitchen_still__B6YJ9IW1.mp4 completed\n",
      "\n"
     ]
    },
    {
     "name": "stderr",
     "output_type": "stream",
     "text": [
      "Processing videos:  89%|██████████████████████████████████████████████████████▎      | 427/480 [32:00<04:44,  5.37s/it]"
     ]
    },
    {
     "name": "stdout",
     "output_type": "stream",
     "text": [
      "C:\\Users\\Tanish Garg\\.cache\\kagglehub\\datasets\\sanikatiwarekar\\deep-fake-detection-dfd-entire-original-dataset\\DFD_manipulated_sequences\\03_07__walking_and_outside_surprised__IFSURI9X.mp4 completed\n",
      "\n",
      "C:\\Users\\Tanish Garg\\.cache\\kagglehub\\datasets\\sanikatiwarekar\\deep-fake-detection-dfd-entire-original-dataset\\DFD_manipulated_sequences\\14_27__outside_talking_pan_laughing__0KSONKQ2.mp4 completed\n",
      "\n",
      "C:\\Users\\Tanish Garg\\.cache\\kagglehub\\datasets\\sanikatiwarekar\\deep-fake-detection-dfd-entire-original-dataset\\DFD_original sequences\\20__kitchen_pan.mp4 completed\n",
      "\n",
      "C:\\Users\\Tanish Garg\\.cache\\kagglehub\\datasets\\sanikatiwarekar\\deep-fake-detection-dfd-entire-original-dataset\\DFD_original sequences\\18__secret_conversation.mp4 completed\n",
      "\n",
      "C:\\Users\\Tanish Garg\\.cache\\kagglehub\\datasets\\sanikatiwarekar\\deep-fake-detection-dfd-entire-original-dataset\\DFD_manipulated_sequences\\11_03__outside_talking_pan_laughing__P08VGHTA.mp4 completed\n",
      "\n",
      "C:\\Users\\Tanish Garg\\.cache\\kagglehub\\datasets\\sanikatiwarekar\\deep-fake-detection-dfd-entire-original-dataset\\DFD_original sequences\\21__exit_phone_room.mp4 completed\n",
      "\n",
      "C:\\Users\\Tanish Garg\\.cache\\kagglehub\\datasets\\sanikatiwarekar\\deep-fake-detection-dfd-entire-original-dataset\\DFD_original sequences\\03__secret_conversation.mp4 completed\n",
      "\n",
      "C:\\Users\\Tanish Garg\\.cache\\kagglehub\\datasets\\sanikatiwarekar\\deep-fake-detection-dfd-entire-original-dataset\\DFD_manipulated_sequences\\13_26__walking_outside_cafe_disgusted__SU8J9CBG.mp4 completed\n",
      "\n"
     ]
    },
    {
     "name": "stderr",
     "output_type": "stream",
     "text": [
      "Processing videos:  90%|██████████████████████████████████████████████████████▋      | 430/480 [32:27<05:11,  6.23s/it]"
     ]
    },
    {
     "name": "stdout",
     "output_type": "stream",
     "text": [
      "C:\\Users\\Tanish Garg\\.cache\\kagglehub\\datasets\\sanikatiwarekar\\deep-fake-detection-dfd-entire-original-dataset\\DFD_original sequences\\26__talking_against_wall.mp4 completed\n",
      "\n"
     ]
    },
    {
     "name": "stderr",
     "output_type": "stream",
     "text": [
      "Processing videos:  90%|██████████████████████████████████████████████████████▊      | 431/480 [32:27<04:15,  5.21s/it]"
     ]
    },
    {
     "name": "stdout",
     "output_type": "stream",
     "text": [
      "C:\\Users\\Tanish Garg\\.cache\\kagglehub\\datasets\\sanikatiwarekar\\deep-fake-detection-dfd-entire-original-dataset\\DFD_manipulated_sequences\\27_25__hugging_happy__1KU29EUL.mp4 completed\n",
      "\n"
     ]
    },
    {
     "name": "stderr",
     "output_type": "stream",
     "text": [
      "Processing videos:  90%|███████████████████████████████████████████████████████▏     | 434/480 [32:36<03:17,  4.30s/it]"
     ]
    },
    {
     "name": "stdout",
     "output_type": "stream",
     "text": [
      "C:\\Users\\Tanish Garg\\.cache\\kagglehub\\datasets\\sanikatiwarekar\\deep-fake-detection-dfd-entire-original-dataset\\DFD_original sequences\\26__podium_speech_happy.mp4 completed\n",
      "\n",
      "C:\\Users\\Tanish Garg\\.cache\\kagglehub\\datasets\\sanikatiwarekar\\deep-fake-detection-dfd-entire-original-dataset\\DFD_original sequences\\16__hugging_happy.mp4 completed\n",
      "\n",
      "C:\\Users\\Tanish Garg\\.cache\\kagglehub\\datasets\\sanikatiwarekar\\deep-fake-detection-dfd-entire-original-dataset\\DFD_manipulated_sequences\\18_03__kitchen_pan__22UBC0BS.mp4 completed\n",
      "\n",
      "C:\\Users\\Tanish Garg\\.cache\\kagglehub\\datasets\\sanikatiwarekar\\deep-fake-detection-dfd-entire-original-dataset\\DFD_manipulated_sequences\\21_01__outside_talking_pan_laughing__03X7CELV.mp4 completed\n",
      "\n",
      "C:\\Users\\Tanish Garg\\.cache\\kagglehub\\datasets\\sanikatiwarekar\\deep-fake-detection-dfd-entire-original-dataset\\DFD_manipulated_sequences\\25_12__walking_down_street_outside_angry__MA71PDNV.mp4 completed\n",
      "\n",
      "C:\\Users\\Tanish Garg\\.cache\\kagglehub\\datasets\\sanikatiwarekar\\deep-fake-detection-dfd-entire-original-dataset\\DFD_original sequences\\13__podium_speech_happy.mp4 completed\n",
      "\n",
      "C:\\Users\\Tanish Garg\\.cache\\kagglehub\\datasets\\sanikatiwarekar\\deep-fake-detection-dfd-entire-original-dataset\\DFD_original sequences\\18__talking_against_wall.mp4 completed\n",
      "\n"
     ]
    },
    {
     "name": "stderr",
     "output_type": "stream",
     "text": [
      "Processing videos:  92%|████████████████████████████████████████████████████████▏    | 442/480 [33:16<02:59,  4.72s/it]"
     ]
    },
    {
     "name": "stdout",
     "output_type": "stream",
     "text": [
      "C:\\Users\\Tanish Garg\\.cache\\kagglehub\\datasets\\sanikatiwarekar\\deep-fake-detection-dfd-entire-original-dataset\\DFD_original sequences\\20__talking_against_wall.mp4 completed\n",
      "\n",
      "C:\\Users\\Tanish Garg\\.cache\\kagglehub\\datasets\\sanikatiwarekar\\deep-fake-detection-dfd-entire-original-dataset\\DFD_original sequences\\11__exit_phone_room.mp4 completed\n",
      "\n",
      "C:\\Users\\Tanish Garg\\.cache\\kagglehub\\datasets\\sanikatiwarekar\\deep-fake-detection-dfd-entire-original-dataset\\DFD_manipulated_sequences\\18_03__walk_down_hall_angry__22UBC0BS.mp4 completed\n",
      "\n",
      "C:\\Users\\Tanish Garg\\.cache\\kagglehub\\datasets\\sanikatiwarekar\\deep-fake-detection-dfd-entire-original-dataset\\DFD_original sequences\\13__walking_down_street_outside_angry.mp4 completed\n",
      "\n",
      "C:\\Users\\Tanish Garg\\.cache\\kagglehub\\datasets\\sanikatiwarekar\\deep-fake-detection-dfd-entire-original-dataset\\DFD_original sequences\\24__outside_talking_still_laughing.mp4 completed\n",
      "\n"
     ]
    },
    {
     "name": "stderr",
     "output_type": "stream",
     "text": [
      "Processing videos:  92%|████████████████████████████████████████████████████████▍    | 444/480 [33:34<03:17,  5.48s/it]"
     ]
    },
    {
     "name": "stdout",
     "output_type": "stream",
     "text": [
      "C:\\Users\\Tanish Garg\\.cache\\kagglehub\\datasets\\sanikatiwarekar\\deep-fake-detection-dfd-entire-original-dataset\\DFD_original sequences\\09__talking_angry_couch.mp4 completed\n",
      "\n",
      "C:\\Users\\Tanish Garg\\.cache\\kagglehub\\datasets\\sanikatiwarekar\\deep-fake-detection-dfd-entire-original-dataset\\DFD_manipulated_sequences\\20_15__kitchen_pan__99NHTFBM.mp4 completed\n",
      "\n"
     ]
    },
    {
     "name": "stderr",
     "output_type": "stream",
     "text": [
      "Processing videos:  94%|█████████████████████████████████████████████████████████▌   | 453/480 [33:44<01:24,  3.13s/it]"
     ]
    },
    {
     "name": "stdout",
     "output_type": "stream",
     "text": [
      "C:\\Users\\Tanish Garg\\.cache\\kagglehub\\datasets\\sanikatiwarekar\\deep-fake-detection-dfd-entire-original-dataset\\DFD_original sequences\\02__hugging_happy.mp4 completed\n",
      "\n",
      "C:\\Users\\Tanish Garg\\.cache\\kagglehub\\datasets\\sanikatiwarekar\\deep-fake-detection-dfd-entire-original-dataset\\DFD_manipulated_sequences\\06_15__exit_phone_room__QRCD27P8.mp4 completed\n",
      "\n",
      "C:\\Users\\Tanish Garg\\.cache\\kagglehub\\datasets\\sanikatiwarekar\\deep-fake-detection-dfd-entire-original-dataset\\DFD_manipulated_sequences\\27_01__outside_talking_still_laughing__ZYCZ30C0.mp4 completed\n",
      "\n",
      "C:\\Users\\Tanish Garg\\.cache\\kagglehub\\datasets\\sanikatiwarekar\\deep-fake-detection-dfd-entire-original-dataset\\DFD_original sequences\\21__kitchen_still.mp4 completed\n",
      "\n",
      "C:\\Users\\Tanish Garg\\.cache\\kagglehub\\datasets\\sanikatiwarekar\\deep-fake-detection-dfd-entire-original-dataset\\DFD_original sequences\\09__talking_against_wall.mp4 completed\n",
      "\n",
      "C:\\Users\\Tanish Garg\\.cache\\kagglehub\\datasets\\sanikatiwarekar\\deep-fake-detection-dfd-entire-original-dataset\\DFD_manipulated_sequences\\04_11__walking_outside_cafe_disgusted__8FD8U22M.mp4 completed\n",
      "\n"
     ]
    },
    {
     "name": "stderr",
     "output_type": "stream",
     "text": [
      "Processing videos:  95%|█████████████████████████████████████████████████████████▋   | 454/480 [34:14<02:17,  5.27s/it]"
     ]
    },
    {
     "name": "stdout",
     "output_type": "stream",
     "text": [
      "C:\\Users\\Tanish Garg\\.cache\\kagglehub\\datasets\\sanikatiwarekar\\deep-fake-detection-dfd-entire-original-dataset\\DFD_original sequences\\11__podium_speech_happy.mp4 completed\n",
      "\n",
      "C:\\Users\\Tanish Garg\\.cache\\kagglehub\\datasets\\sanikatiwarekar\\deep-fake-detection-dfd-entire-original-dataset\\DFD_original sequences\\12__walking_and_outside_surprised.mp4 completed\n",
      "\n",
      "C:\\Users\\Tanish Garg\\.cache\\kagglehub\\datasets\\sanikatiwarekar\\deep-fake-detection-dfd-entire-original-dataset\\DFD_manipulated_sequences\\20_13__hugging_happy__EV1V4ZQV.mp4 completed\n",
      "\n"
     ]
    },
    {
     "name": "stderr",
     "output_type": "stream",
     "text": [
      "Processing videos:  96%|██████████████████████████████████████████████████████████▌  | 461/480 [34:34<01:19,  4.18s/it]"
     ]
    },
    {
     "name": "stdout",
     "output_type": "stream",
     "text": [
      "C:\\Users\\Tanish Garg\\.cache\\kagglehub\\datasets\\sanikatiwarekar\\deep-fake-detection-dfd-entire-original-dataset\\DFD_manipulated_sequences\\20_09__walking_down_indoor_hall_disgust__9OJQX9KV.mp4 completed\n",
      "\n"
     ]
    },
    {
     "name": "stderr",
     "output_type": "stream",
     "text": [
      "Processing videos:  96%|██████████████████████████████████████████████████████████▊  | 463/480 [34:34<01:01,  3.59s/it]"
     ]
    },
    {
     "name": "stdout",
     "output_type": "stream",
     "text": [
      "C:\\Users\\Tanish Garg\\.cache\\kagglehub\\datasets\\sanikatiwarekar\\deep-fake-detection-dfd-entire-original-dataset\\DFD_manipulated_sequences\\20_03__talking_against_wall__9NFWR304.mp4 completed\n",
      "\n",
      "C:\\Users\\Tanish Garg\\.cache\\kagglehub\\datasets\\sanikatiwarekar\\deep-fake-detection-dfd-entire-original-dataset\\DFD_manipulated_sequences\\01_26__exit_phone_room__BTVMWLG6.mp4 completed\n",
      "\n",
      "C:\\Users\\Tanish Garg\\.cache\\kagglehub\\datasets\\sanikatiwarekar\\deep-fake-detection-dfd-entire-original-dataset\\DFD_manipulated_sequences\\20_14__walking_down_street_outside_angry__3HWOJRAM.mp4 completed\n",
      "\n",
      "C:\\Users\\Tanish Garg\\.cache\\kagglehub\\datasets\\sanikatiwarekar\\deep-fake-detection-dfd-entire-original-dataset\\DFD_manipulated_sequences\\01_15__kitchen_pan__02HILKYO.mp4 completed\n",
      "\n",
      "C:\\Users\\Tanish Garg\\.cache\\kagglehub\\datasets\\sanikatiwarekar\\deep-fake-detection-dfd-entire-original-dataset\\DFD_manipulated_sequences\\23_22__secret_conversation__AKZRL2QD.mp4 completed\n",
      "\n",
      "C:\\Users\\Tanish Garg\\.cache\\kagglehub\\datasets\\sanikatiwarekar\\deep-fake-detection-dfd-entire-original-dataset\\DFD_manipulated_sequences\\02_14__podium_speech_happy__3IUBEKCT.mp4 completed\n",
      "\n",
      "C:\\Users\\Tanish Garg\\.cache\\kagglehub\\datasets\\sanikatiwarekar\\deep-fake-detection-dfd-entire-original-dataset\\DFD_original sequences\\22__outside_talking_pan_laughing.mp4 completed\n",
      "\n",
      "C:\\Users\\Tanish Garg\\.cache\\kagglehub\\datasets\\sanikatiwarekar\\deep-fake-detection-dfd-entire-original-dataset\\DFD_original sequences\\03__podium_speech_happy.mp4 completed\n",
      "\n",
      "C:\\Users\\Tanish Garg\\.cache\\kagglehub\\datasets\\sanikatiwarekar\\deep-fake-detection-dfd-entire-original-dataset\\DFD_original sequences\\12__walking_down_street_outside_angry.mp4 completed\n",
      "\n",
      "C:\\Users\\Tanish Garg\\.cache\\kagglehub\\datasets\\sanikatiwarekar\\deep-fake-detection-dfd-entire-original-dataset\\DFD_original sequences\\26__kitchen_still.mp4 completed\n",
      "\n"
     ]
    },
    {
     "name": "stderr",
     "output_type": "stream",
     "text": [
      "Processing videos:  97%|███████████████████████████████████████████████████████████▏ | 466/480 [34:44<00:49,  3.53s/it]"
     ]
    },
    {
     "name": "stdout",
     "output_type": "stream",
     "text": [
      "C:\\Users\\Tanish Garg\\.cache\\kagglehub\\datasets\\sanikatiwarekar\\deep-fake-detection-dfd-entire-original-dataset\\DFD_original sequences\\13__talking_angry_couch.mp4 completed\n",
      "\n",
      "C:\\Users\\Tanish Garg\\.cache\\kagglehub\\datasets\\sanikatiwarekar\\deep-fake-detection-dfd-entire-original-dataset\\DFD_manipulated_sequences\\18_11__talking_against_wall__R1NMCHKG.mp4 completed\n",
      "\n",
      "C:\\Users\\Tanish Garg\\.cache\\kagglehub\\datasets\\sanikatiwarekar\\deep-fake-detection-dfd-entire-original-dataset\\DFD_original sequences\\18__outside_talking_pan_laughing.mp4 completed\n",
      "\n"
     ]
    },
    {
     "name": "stderr",
     "output_type": "stream",
     "text": [
      "Processing videos:  98%|███████████████████████████████████████████████████████████▊ | 471/480 [34:45<00:20,  2.29s/it]"
     ]
    },
    {
     "name": "stdout",
     "output_type": "stream",
     "text": [
      "C:\\Users\\Tanish Garg\\.cache\\kagglehub\\datasets\\sanikatiwarekar\\deep-fake-detection-dfd-entire-original-dataset\\DFD_original sequences\\14__podium_speech_happy.mp4 completed\n",
      "\n"
     ]
    },
    {
     "name": "stderr",
     "output_type": "stream",
     "text": [
      "Processing videos: 100%|█████████████████████████████████████████████████████████████| 480/480 [34:46<00:00,  4.35s/it]\n"
     ]
    },
    {
     "name": "stdout",
     "output_type": "stream",
     "text": [
      "C:\\Users\\Tanish Garg\\.cache\\kagglehub\\datasets\\sanikatiwarekar\\deep-fake-detection-dfd-entire-original-dataset\\DFD_original sequences\\03__meeting_serious.mp4 completed\n",
      "\n"
     ]
    },
    {
     "name": "stderr",
     "output_type": "stream",
     "text": [
      "Processing videos:   0%|                                                                       | 0/120 [00:00<?, ?it/s]"
     ]
    },
    {
     "name": "stdout",
     "output_type": "stream",
     "text": [
      "C:\\Users\\Tanish Garg\\.cache\\kagglehub\\datasets\\sanikatiwarekar\\deep-fake-detection-dfd-entire-original-dataset\\DFD_manipulated_sequences\\18_06__secret_conversation__DEA1TCLN.mp4 completed\n",
      "\n",
      "C:\\Users\\Tanish Garg\\.cache\\kagglehub\\datasets\\sanikatiwarekar\\deep-fake-detection-dfd-entire-original-dataset\\DFD_manipulated_sequences\\21_04__outside_talking_pan_laughing__HY1VWEJK.mp4 completed\n",
      "\n",
      "C:\\Users\\Tanish Garg\\.cache\\kagglehub\\datasets\\sanikatiwarekar\\deep-fake-detection-dfd-entire-original-dataset\\DFD_manipulated_sequences\\02_13__walking_outside_cafe_disgusted__CP5HFV3K.mp4 completed\n",
      "\n"
     ]
    },
    {
     "name": "stderr",
     "output_type": "stream",
     "text": [
      "Processing videos:   1%|▌                                                            | 1/120 [01:11<2:22:09, 71.68s/it]"
     ]
    },
    {
     "name": "stdout",
     "output_type": "stream",
     "text": [
      "C:\\Users\\Tanish Garg\\.cache\\kagglehub\\datasets\\sanikatiwarekar\\deep-fake-detection-dfd-entire-original-dataset\\DFD_manipulated_sequences\\26_20__walking_outside_cafe_disgusted__C8GN41DU.mp4 completed\n",
      "\n"
     ]
    },
    {
     "name": "stderr",
     "output_type": "stream",
     "text": [
      "Processing videos:   2%|█                                                            | 2/120 [01:14<1:00:51, 30.95s/it]"
     ]
    },
    {
     "name": "stdout",
     "output_type": "stream",
     "text": [
      "C:\\Users\\Tanish Garg\\.cache\\kagglehub\\datasets\\sanikatiwarekar\\deep-fake-detection-dfd-entire-original-dataset\\DFD_manipulated_sequences\\22_10__outside_talking_still_laughing__J2HR5HKH.mp4 completed\n",
      "\n",
      "C:\\Users\\Tanish Garg\\.cache\\kagglehub\\datasets\\sanikatiwarekar\\deep-fake-detection-dfd-entire-original-dataset\\DFD_manipulated_sequences\\01_27__hugging_happy__ZYCZ30C0.mp4 completed\n",
      "\n"
     ]
    },
    {
     "name": "stderr",
     "output_type": "stream",
     "text": [
      "Processing videos:   2%|█▌                                                             | 3/120 [01:17<35:34, 18.24s/it]"
     ]
    },
    {
     "name": "stdout",
     "output_type": "stream",
     "text": [
      "C:\\Users\\Tanish Garg\\.cache\\kagglehub\\datasets\\sanikatiwarekar\\deep-fake-detection-dfd-entire-original-dataset\\DFD_original sequences\\13__exit_phone_room.mp4 completed\n",
      "\n",
      "C:\\Users\\Tanish Garg\\.cache\\kagglehub\\datasets\\sanikatiwarekar\\deep-fake-detection-dfd-entire-original-dataset\\DFD_original sequences\\08__walking_down_street_outside_angry.mp4 completed\n",
      "\n",
      "C:\\Users\\Tanish Garg\\.cache\\kagglehub\\datasets\\sanikatiwarekar\\deep-fake-detection-dfd-entire-original-dataset\\DFD_manipulated_sequences\\14_20__walking_outside_cafe_disgusted__3HWOJRAM.mp4 completed\n",
      "\n",
      "C:\\Users\\Tanish Garg\\.cache\\kagglehub\\datasets\\sanikatiwarekar\\deep-fake-detection-dfd-entire-original-dataset\\DFD_original sequences\\15__outside_talking_pan_laughing.mp4 completed\n",
      "\n",
      "C:\\Users\\Tanish Garg\\.cache\\kagglehub\\datasets\\sanikatiwarekar\\deep-fake-detection-dfd-entire-original-dataset\\DFD_manipulated_sequences\\11_03__exit_phone_room__P08VGHTA.mp4 completed\n",
      "\n",
      "C:\\Users\\Tanish Garg\\.cache\\kagglehub\\datasets\\sanikatiwarekar\\deep-fake-detection-dfd-entire-original-dataset\\DFD_original sequences\\06__walking_down_street_outside_angry.mp4 completed\n",
      "\n"
     ]
    },
    {
     "name": "stderr",
     "output_type": "stream",
     "text": [
      "Processing videos:   3%|██                                                             | 4/120 [01:32<32:44, 16.93s/it]"
     ]
    },
    {
     "name": "stdout",
     "output_type": "stream",
     "text": [
      "C:\\Users\\Tanish Garg\\.cache\\kagglehub\\datasets\\sanikatiwarekar\\deep-fake-detection-dfd-entire-original-dataset\\DFD_original sequences\\02__kitchen_still.mp4 completed\n",
      "\n",
      "C:\\Users\\Tanish Garg\\.cache\\kagglehub\\datasets\\sanikatiwarekar\\deep-fake-detection-dfd-entire-original-dataset\\DFD_original sequences\\18__kitchen_pan.mp4 completed\n",
      "\n",
      "C:\\Users\\Tanish Garg\\.cache\\kagglehub\\datasets\\sanikatiwarekar\\deep-fake-detection-dfd-entire-original-dataset\\DFD_manipulated_sequences\\26_20__kitchen_still__34DJQS3E.mp4 completed\n",
      "\n",
      "C:\\Users\\Tanish Garg\\.cache\\kagglehub\\datasets\\sanikatiwarekar\\deep-fake-detection-dfd-entire-original-dataset\\DFD_original sequences\\15__kitchen_still.mp4 completed\n",
      "\n",
      "C:\\Users\\Tanish Garg\\.cache\\kagglehub\\datasets\\sanikatiwarekar\\deep-fake-detection-dfd-entire-original-dataset\\DFD_original sequences\\13__outside_talking_still_laughing.mp4 completed\n",
      "\n",
      "C:\\Users\\Tanish Garg\\.cache\\kagglehub\\datasets\\sanikatiwarekar\\deep-fake-detection-dfd-entire-original-dataset\\DFD_manipulated_sequences\\21_20__walking_down_indoor_hall_disgust__ZCB5OMEW.mp4 completed\n",
      "\n",
      "C:\\Users\\Tanish Garg\\.cache\\kagglehub\\datasets\\sanikatiwarekar\\deep-fake-detection-dfd-entire-original-dataset\\DFD_original sequences\\20__secret_conversation.mp4 completed\n",
      "\n"
     ]
    },
    {
     "name": "stderr",
     "output_type": "stream",
     "text": [
      "Processing videos:   5%|███▏                                                           | 6/120 [01:51<25:01, 13.17s/it]"
     ]
    },
    {
     "name": "stdout",
     "output_type": "stream",
     "text": [
      "C:\\Users\\Tanish Garg\\.cache\\kagglehub\\datasets\\sanikatiwarekar\\deep-fake-detection-dfd-entire-original-dataset\\DFD_original sequences\\02__podium_speech_happy.mp4 completed\n",
      "\n",
      "C:\\Users\\Tanish Garg\\.cache\\kagglehub\\datasets\\sanikatiwarekar\\deep-fake-detection-dfd-entire-original-dataset\\DFD_manipulated_sequences\\03_01__kitchen_pan__JZUXXFRB.mp4 completed\n",
      "\n",
      "C:\\Users\\Tanish Garg\\.cache\\kagglehub\\datasets\\sanikatiwarekar\\deep-fake-detection-dfd-entire-original-dataset\\DFD_original sequences\\28__walking_outside_cafe_disgusted.mp4 completed\n",
      "\n",
      "C:\\Users\\Tanish Garg\\.cache\\kagglehub\\datasets\\sanikatiwarekar\\deep-fake-detection-dfd-entire-original-dataset\\DFD_manipulated_sequences\\19_24__secret_conversation__DL7X7M6I.mp4 completed\n",
      "\n",
      "C:\\Users\\Tanish Garg\\.cache\\kagglehub\\datasets\\sanikatiwarekar\\deep-fake-detection-dfd-entire-original-dataset\\DFD_manipulated_sequences\\15_02__exit_phone_room__MZWH8ATN.mp4 completed\n",
      "\n",
      "C:\\Users\\Tanish Garg\\.cache\\kagglehub\\datasets\\sanikatiwarekar\\deep-fake-detection-dfd-entire-original-dataset\\DFD_original sequences\\25__exit_phone_room.mp4 completed\n",
      "\n",
      "C:\\Users\\Tanish Garg\\.cache\\kagglehub\\datasets\\sanikatiwarekar\\deep-fake-detection-dfd-entire-original-dataset\\DFD_original sequences\\11__outside_talking_still_laughing.mp4 completed\n",
      "\n"
     ]
    },
    {
     "name": "stderr",
     "output_type": "stream",
     "text": [
      "Processing videos:  18%|██████████▊                                                   | 21/120 [02:44<08:10,  4.96s/it]"
     ]
    },
    {
     "name": "stdout",
     "output_type": "stream",
     "text": [
      "C:\\Users\\Tanish Garg\\.cache\\kagglehub\\datasets\\sanikatiwarekar\\deep-fake-detection-dfd-entire-original-dataset\\DFD_manipulated_sequences\\03_01__walking_and_outside_surprised__JZUXXFRB.mp4 completed\n",
      "\n"
     ]
    },
    {
     "name": "stderr",
     "output_type": "stream",
     "text": [
      "Processing videos:  18%|███████████▎                                                  | 22/120 [02:44<07:31,  4.60s/it]"
     ]
    },
    {
     "name": "stdout",
     "output_type": "stream",
     "text": [
      "C:\\Users\\Tanish Garg\\.cache\\kagglehub\\datasets\\sanikatiwarekar\\deep-fake-detection-dfd-entire-original-dataset\\DFD_original sequences\\14__kitchen_pan.mp4 completed\n",
      "\n",
      "C:\\Users\\Tanish Garg\\.cache\\kagglehub\\datasets\\sanikatiwarekar\\deep-fake-detection-dfd-entire-original-dataset\\DFD_manipulated_sequences\\04_12__walking_down_street_outside_angry__B6YJ9IW1.mp4 completed\n",
      "\n",
      "C:\\Users\\Tanish Garg\\.cache\\kagglehub\\datasets\\sanikatiwarekar\\deep-fake-detection-dfd-entire-original-dataset\\DFD_original sequences\\14__walk_down_hall_angry.mp4 completed\n",
      "\n",
      "C:\\Users\\Tanish Garg\\.cache\\kagglehub\\datasets\\sanikatiwarekar\\deep-fake-detection-dfd-entire-original-dataset\\DFD_original sequences\\03__talking_against_wall.mp4 completed\n",
      "\n",
      "C:\\Users\\Tanish Garg\\.cache\\kagglehub\\datasets\\sanikatiwarekar\\deep-fake-detection-dfd-entire-original-dataset\\DFD_original sequences\\27__podium_speech_happy.mp4 completed\n",
      "\n",
      "C:\\Users\\Tanish Garg\\.cache\\kagglehub\\datasets\\sanikatiwarekar\\deep-fake-detection-dfd-entire-original-dataset\\DFD_original sequences\\05__kitchen_still.mp4 completed\n",
      "\n",
      "C:\\Users\\Tanish Garg\\.cache\\kagglehub\\datasets\\sanikatiwarekar\\deep-fake-detection-dfd-entire-original-dataset\\DFD_manipulated_sequences\\18_14__secret_conversation__HYMNQ00Q.mp4 completed\n",
      "\n",
      "C:\\Users\\Tanish Garg\\.cache\\kagglehub\\datasets\\sanikatiwarekar\\deep-fake-detection-dfd-entire-original-dataset\\DFD_original sequences\\02__outside_talking_still_laughing.mp4 completed\n",
      "\n",
      "C:\\Users\\Tanish Garg\\.cache\\kagglehub\\datasets\\sanikatiwarekar\\deep-fake-detection-dfd-entire-original-dataset\\DFD_manipulated_sequences\\27_06__talking_against_wall__S3T7SK9O.mp4 completed\n",
      "\n",
      "C:\\Users\\Tanish Garg\\.cache\\kagglehub\\datasets\\sanikatiwarekar\\deep-fake-detection-dfd-entire-original-dataset\\DFD_manipulated_sequences\\13_02__outside_talking_pan_laughing__2YSYT2N3.mp4 completed\n",
      "\n",
      "C:\\Users\\Tanish Garg\\.cache\\kagglehub\\datasets\\sanikatiwarekar\\deep-fake-detection-dfd-entire-original-dataset\\DFD_original sequences\\07__secret_conversation.mp4 completed\n",
      "\n",
      "C:\\Users\\Tanish Garg\\.cache\\kagglehub\\datasets\\sanikatiwarekar\\deep-fake-detection-dfd-entire-original-dataset\\DFD_original sequences\\23__secret_conversation.mp4 completed\n",
      "\n",
      "C:\\Users\\Tanish Garg\\.cache\\kagglehub\\datasets\\sanikatiwarekar\\deep-fake-detection-dfd-entire-original-dataset\\DFD_manipulated_sequences\\13_04__kitchen_pan__00T3UYOR.mp4 completed\n",
      "\n",
      "C:\\Users\\Tanish Garg\\.cache\\kagglehub\\datasets\\sanikatiwarekar\\deep-fake-detection-dfd-entire-original-dataset\\DFD_manipulated_sequences\\02_13__talking_angry_couch__CP5HFV3K.mp4 completed\n",
      "\n"
     ]
    },
    {
     "name": "stderr",
     "output_type": "stream",
     "text": [
      "Processing videos:  21%|████████████▉                                                 | 25/120 [03:37<12:17,  7.76s/it]"
     ]
    },
    {
     "name": "stdout",
     "output_type": "stream",
     "text": [
      "C:\\Users\\Tanish Garg\\.cache\\kagglehub\\datasets\\sanikatiwarekar\\deep-fake-detection-dfd-entire-original-dataset\\DFD_original sequences\\14__walking_down_street_outside_angry.mp4 completed\n",
      "\n",
      "C:\\Users\\Tanish Garg\\.cache\\kagglehub\\datasets\\sanikatiwarekar\\deep-fake-detection-dfd-entire-original-dataset\\DFD_manipulated_sequences\\22_10__walking_down_indoor_hall_disgust__8YQ2EUQP.mp4 completed\n",
      "\n",
      "C:\\Users\\Tanish Garg\\.cache\\kagglehub\\datasets\\sanikatiwarekar\\deep-fake-detection-dfd-entire-original-dataset\\DFD_manipulated_sequences\\12_13__walking_and_outside_surprised__SIA5P4HL.mp4 completed\n",
      "\n"
     ]
    },
    {
     "name": "stderr",
     "output_type": "stream",
     "text": [
      "Processing videos:  34%|█████████████████████▏                                        | 41/120 [04:04<05:00,  3.80s/it]"
     ]
    },
    {
     "name": "stdout",
     "output_type": "stream",
     "text": [
      "C:\\Users\\Tanish Garg\\.cache\\kagglehub\\datasets\\sanikatiwarekar\\deep-fake-detection-dfd-entire-original-dataset\\DFD_manipulated_sequences\\26_04__secret_conversation__WX836VLY.mp4 completed\n",
      "\n",
      "C:\\Users\\Tanish Garg\\.cache\\kagglehub\\datasets\\sanikatiwarekar\\deep-fake-detection-dfd-entire-original-dataset\\DFD_original sequences\\02__kitchen_pan.mp4 completed\n",
      "\n"
     ]
    },
    {
     "name": "stderr",
     "output_type": "stream",
     "text": [
      "Processing videos:  38%|███████████████████████▎                                      | 45/120 [04:08<04:05,  3.28s/it]"
     ]
    },
    {
     "name": "stdout",
     "output_type": "stream",
     "text": [
      "C:\\Users\\Tanish Garg\\.cache\\kagglehub\\datasets\\sanikatiwarekar\\deep-fake-detection-dfd-entire-original-dataset\\DFD_original sequences\\24__walking_down_street_outside_angry.mp4 completed\n",
      "\n",
      "C:\\Users\\Tanish Garg\\.cache\\kagglehub\\datasets\\sanikatiwarekar\\deep-fake-detection-dfd-entire-original-dataset\\DFD_manipulated_sequences\\19_24__exit_phone_room__59PN7WZ2.mp4 completed\n",
      "\n",
      "C:\\Users\\Tanish Garg\\.cache\\kagglehub\\datasets\\sanikatiwarekar\\deep-fake-detection-dfd-entire-original-dataset\\DFD_manipulated_sequences\\12_18__walking_outside_cafe_disgusted__IKH1LBBY.mp4 completed\n",
      "\n",
      "C:\\Users\\Tanish Garg\\.cache\\kagglehub\\datasets\\sanikatiwarekar\\deep-fake-detection-dfd-entire-original-dataset\\DFD_manipulated_sequences\\22_23__walking_and_outside_surprised__TU7RHG0S.mp4 completed\n",
      "\n",
      "C:\\Users\\Tanish Garg\\.cache\\kagglehub\\datasets\\sanikatiwarekar\\deep-fake-detection-dfd-entire-original-dataset\\DFD_manipulated_sequences\\24_19__walking_down_street_outside_angry__59PN7WZ2.mp4 completed\n",
      "\n"
     ]
    },
    {
     "name": "stderr",
     "output_type": "stream",
     "text": [
      "Processing videos:  39%|████████████████████████▎                                     | 47/120 [04:31<05:10,  4.25s/it]"
     ]
    },
    {
     "name": "stdout",
     "output_type": "stream",
     "text": [
      "C:\\Users\\Tanish Garg\\.cache\\kagglehub\\datasets\\sanikatiwarekar\\deep-fake-detection-dfd-entire-original-dataset\\DFD_manipulated_sequences\\07_14__podium_speech_happy__VOX29AK0.mp4 completed\n",
      "\n",
      "C:\\Users\\Tanish Garg\\.cache\\kagglehub\\datasets\\sanikatiwarekar\\deep-fake-detection-dfd-entire-original-dataset\\DFD_original sequences\\19__walking_down_street_outside_angry.mp4 completed\n",
      "\n",
      "C:\\Users\\Tanish Garg\\.cache\\kagglehub\\datasets\\sanikatiwarekar\\deep-fake-detection-dfd-entire-original-dataset\\DFD_manipulated_sequences\\01_20__outside_talking_pan_laughing__6UBMLXK3.mp4 completed\n",
      "\n",
      "C:\\Users\\Tanish Garg\\.cache\\kagglehub\\datasets\\sanikatiwarekar\\deep-fake-detection-dfd-entire-original-dataset\\DFD_manipulated_sequences\\25_12__walk_down_hall_angry__I2X1XTCC.mp4 completed\n",
      "\n",
      "C:\\Users\\Tanish Garg\\.cache\\kagglehub\\datasets\\sanikatiwarekar\\deep-fake-detection-dfd-entire-original-dataset\\DFD_manipulated_sequences\\11_20__secret_conversation__B2H95QXV.mp4 completed\n",
      "\n",
      "C:\\Users\\Tanish Garg\\.cache\\kagglehub\\datasets\\sanikatiwarekar\\deep-fake-detection-dfd-entire-original-dataset\\DFD_original sequences\\20__outside_talking_still_laughing.mp4 completed\n",
      "\n",
      "C:\\Users\\Tanish Garg\\.cache\\kagglehub\\datasets\\sanikatiwarekar\\deep-fake-detection-dfd-entire-original-dataset\\DFD_original sequences\\06__talking_against_wall.mp4 completed\n",
      "\n",
      "C:\\Users\\Tanish Garg\\.cache\\kagglehub\\datasets\\sanikatiwarekar\\deep-fake-detection-dfd-entire-original-dataset\\DFD_manipulated_sequences\\03_06__walking_down_indoor_hall_disgust__1IXGY2FK.mp4 completed\n",
      "\n"
     ]
    },
    {
     "name": "stderr",
     "output_type": "stream",
     "text": [
      "Processing videos:  42%|█████████████████████████▊                                    | 50/120 [05:04<06:33,  5.62s/it]"
     ]
    },
    {
     "name": "stdout",
     "output_type": "stream",
     "text": [
      "C:\\Users\\Tanish Garg\\.cache\\kagglehub\\datasets\\sanikatiwarekar\\deep-fake-detection-dfd-entire-original-dataset\\DFD_original sequences\\28__talking_angry_couch.mp4 completed\n",
      "\n",
      "C:\\Users\\Tanish Garg\\.cache\\kagglehub\\datasets\\sanikatiwarekar\\deep-fake-detection-dfd-entire-original-dataset\\DFD_original sequences\\24__walk_down_hall_angry.mp4 completed\n",
      "\n",
      "C:\\Users\\Tanish Garg\\.cache\\kagglehub\\datasets\\sanikatiwarekar\\deep-fake-detection-dfd-entire-original-dataset\\DFD_original sequences\\04__talking_against_wall.mp4 completed\n",
      "\n"
     ]
    },
    {
     "name": "stderr",
     "output_type": "stream",
     "text": [
      "Processing videos:  46%|████████████████████████████▍                                 | 55/120 [05:24<05:33,  5.13s/it]"
     ]
    },
    {
     "name": "stdout",
     "output_type": "stream",
     "text": [
      "C:\\Users\\Tanish Garg\\.cache\\kagglehub\\datasets\\sanikatiwarekar\\deep-fake-detection-dfd-entire-original-dataset\\DFD_original sequences\\20__walking_down_indoor_hall_disgust.mp4 completed\n",
      "\n"
     ]
    },
    {
     "name": "stderr",
     "output_type": "stream",
     "text": [
      "Processing videos:  52%|████████████████████████████████▌                             | 63/120 [05:27<02:56,  3.10s/it]"
     ]
    },
    {
     "name": "stdout",
     "output_type": "stream",
     "text": [
      "C:\\Users\\Tanish Garg\\.cache\\kagglehub\\datasets\\sanikatiwarekar\\deep-fake-detection-dfd-entire-original-dataset\\DFD_original sequences\\22__exit_phone_room.mp4 completed\n",
      "\n",
      "C:\\Users\\Tanish Garg\\.cache\\kagglehub\\datasets\\sanikatiwarekar\\deep-fake-detection-dfd-entire-original-dataset\\DFD_manipulated_sequences\\18_14__exit_phone_room__6SB2BR0A.mp4 completed\n",
      "\n",
      "C:\\Users\\Tanish Garg\\.cache\\kagglehub\\datasets\\sanikatiwarekar\\deep-fake-detection-dfd-entire-original-dataset\\DFD_manipulated_sequences\\21_07__kitchen_still__MKU99DVX.mp4 completed\n",
      "\n",
      "C:\\Users\\Tanish Garg\\.cache\\kagglehub\\datasets\\sanikatiwarekar\\deep-fake-detection-dfd-entire-original-dataset\\DFD_manipulated_sequences\\03_07__outside_talking_pan_laughing__IFSURI9X.mp4 completed\n",
      "\n",
      "C:\\Users\\Tanish Garg\\.cache\\kagglehub\\datasets\\sanikatiwarekar\\deep-fake-detection-dfd-entire-original-dataset\\DFD_original sequences\\23__walking_outside_cafe_disgusted.mp4 completed\n",
      "\n",
      "C:\\Users\\Tanish Garg\\.cache\\kagglehub\\datasets\\sanikatiwarekar\\deep-fake-detection-dfd-entire-original-dataset\\DFD_original sequences\\26__outside_talking_still_laughing.mp4 completed\n",
      "\n",
      "C:\\Users\\Tanish Garg\\.cache\\kagglehub\\datasets\\sanikatiwarekar\\deep-fake-detection-dfd-entire-original-dataset\\DFD_original sequences\\02__secret_conversation.mp4 completed\n",
      "\n",
      "C:\\Users\\Tanish Garg\\.cache\\kagglehub\\datasets\\sanikatiwarekar\\deep-fake-detection-dfd-entire-original-dataset\\DFD_manipulated_sequences\\21_15__hugging_happy__87WSBJP3.mp4 completed\n",
      "\n",
      "C:\\Users\\Tanish Garg\\.cache\\kagglehub\\datasets\\sanikatiwarekar\\deep-fake-detection-dfd-entire-original-dataset\\DFD_manipulated_sequences\\20_27__walking_and_outside_surprised__LM907ECA.mp4 completed\n",
      "\n",
      "C:\\Users\\Tanish Garg\\.cache\\kagglehub\\datasets\\sanikatiwarekar\\deep-fake-detection-dfd-entire-original-dataset\\DFD_original sequences\\06__walking_down_indoor_hall_disgust.mp4 completed\n",
      "\n"
     ]
    },
    {
     "name": "stderr",
     "output_type": "stream",
     "text": [
      "Processing videos:  53%|█████████████████████████████████                             | 64/120 [06:09<05:25,  5.82s/it]"
     ]
    },
    {
     "name": "stdout",
     "output_type": "stream",
     "text": [
      "C:\\Users\\Tanish Garg\\.cache\\kagglehub\\datasets\\sanikatiwarekar\\deep-fake-detection-dfd-entire-original-dataset\\DFD_original sequences\\01__secret_conversation.mp4 completed\n",
      "\n",
      "C:\\Users\\Tanish Garg\\.cache\\kagglehub\\datasets\\sanikatiwarekar\\deep-fake-detection-dfd-entire-original-dataset\\DFD_original sequences\\04__secret_conversation.mp4 completed\n",
      "\n",
      "C:\\Users\\Tanish Garg\\.cache\\kagglehub\\datasets\\sanikatiwarekar\\deep-fake-detection-dfd-entire-original-dataset\\DFD_manipulated_sequences\\06_02__talking_against_wall__GH8TGTBS.mp4 completed\n",
      "\n",
      "C:\\Users\\Tanish Garg\\.cache\\kagglehub\\datasets\\sanikatiwarekar\\deep-fake-detection-dfd-entire-original-dataset\\DFD_original sequences\\27__outside_talking_pan_laughing.mp4 completed\n",
      "\n",
      "C:\\Users\\Tanish Garg\\.cache\\kagglehub\\datasets\\sanikatiwarekar\\deep-fake-detection-dfd-entire-original-dataset\\DFD_manipulated_sequences\\06_18__kitchen_pan__XJ76YU5A.mp4 completed\n",
      "\n"
     ]
    },
    {
     "name": "stderr",
     "output_type": "stream",
     "text": [
      "Processing videos:  59%|████████████████████████████████████▋                         | 71/120 [06:38<04:07,  5.04s/it]"
     ]
    },
    {
     "name": "stdout",
     "output_type": "stream",
     "text": [
      "C:\\Users\\Tanish Garg\\.cache\\kagglehub\\datasets\\sanikatiwarekar\\deep-fake-detection-dfd-entire-original-dataset\\DFD_original sequences\\04__talking_angry_couch.mp4 completed\n",
      "\n"
     ]
    },
    {
     "name": "stderr",
     "output_type": "stream",
     "text": [
      "Processing videos:  65%|████████████████████████████████████████▎                     | 78/120 [06:49<02:13,  3.18s/it]"
     ]
    },
    {
     "name": "stdout",
     "output_type": "stream",
     "text": [
      "C:\\Users\\Tanish Garg\\.cache\\kagglehub\\datasets\\sanikatiwarekar\\deep-fake-detection-dfd-entire-original-dataset\\DFD_original sequences\\22__walking_down_street_outside_angry.mp4 completed\n",
      "\n",
      "C:\\Users\\Tanish Garg\\.cache\\kagglehub\\datasets\\sanikatiwarekar\\deep-fake-detection-dfd-entire-original-dataset\\DFD_manipulated_sequences\\09_01__outside_talking_still_laughing__SJZRV69J.mp4 completed\n",
      "\n"
     ]
    },
    {
     "name": "stderr",
     "output_type": "stream",
     "text": [
      "Processing videos:  68%|█████████████████████████████████████████▊                    | 81/120 [06:59<02:01,  3.12s/it]"
     ]
    },
    {
     "name": "stdout",
     "output_type": "stream",
     "text": [
      "C:\\Users\\Tanish Garg\\.cache\\kagglehub\\datasets\\sanikatiwarekar\\deep-fake-detection-dfd-entire-original-dataset\\DFD_manipulated_sequences\\06_18__talking_angry_couch__DEA1TCLN.mp4 completed\n",
      "\n",
      "C:\\Users\\Tanish Garg\\.cache\\kagglehub\\datasets\\sanikatiwarekar\\deep-fake-detection-dfd-entire-original-dataset\\DFD_manipulated_sequences\\06_27__talking_against_wall__S3T7SK9O.mp4 completed\n",
      "\n",
      "C:\\Users\\Tanish Garg\\.cache\\kagglehub\\datasets\\sanikatiwarekar\\deep-fake-detection-dfd-entire-original-dataset\\DFD_manipulated_sequences\\13_14__walking_outside_cafe_disgusted__KMQ3AW6A.mp4 completed\n",
      "\n",
      "C:\\Users\\Tanish Garg\\.cache\\kagglehub\\datasets\\sanikatiwarekar\\deep-fake-detection-dfd-entire-original-dataset\\DFD_manipulated_sequences\\12_07__outside_talking_still_laughing__0VN0A2T3.mp4 completed\n",
      "\n"
     ]
    },
    {
     "name": "stderr",
     "output_type": "stream",
     "text": [
      "Processing videos:  68%|██████████████████████████████████████████▎                   | 82/120 [07:03<02:05,  3.29s/it]"
     ]
    },
    {
     "name": "stdout",
     "output_type": "stream",
     "text": [
      "C:\\Users\\Tanish Garg\\.cache\\kagglehub\\datasets\\sanikatiwarekar\\deep-fake-detection-dfd-entire-original-dataset\\DFD_original sequences\\26__secret_conversation.mp4 completed\n",
      "\n",
      "C:\\Users\\Tanish Garg\\.cache\\kagglehub\\datasets\\sanikatiwarekar\\deep-fake-detection-dfd-entire-original-dataset\\DFD_original sequences\\09__exit_phone_room.mp4 completed\n",
      "\n",
      "C:\\Users\\Tanish Garg\\.cache\\kagglehub\\datasets\\sanikatiwarekar\\deep-fake-detection-dfd-entire-original-dataset\\DFD_original sequences\\06__exit_phone_room.mp4 completed\n",
      "\n",
      "C:\\Users\\Tanish Garg\\.cache\\kagglehub\\datasets\\sanikatiwarekar\\deep-fake-detection-dfd-entire-original-dataset\\DFD_manipulated_sequences\\11_20__kitchen_still__GNK9UR8K.mp4 completed\n",
      "\n",
      "C:\\Users\\Tanish Garg\\.cache\\kagglehub\\datasets\\sanikatiwarekar\\deep-fake-detection-dfd-entire-original-dataset\\DFD_original sequences\\14__talking_against_wall.mp4 completed\n",
      "\n",
      "C:\\Users\\Tanish Garg\\.cache\\kagglehub\\datasets\\sanikatiwarekar\\deep-fake-detection-dfd-entire-original-dataset\\DFD_manipulated_sequences\\03_07__meeting_serious__W3MXGEU9.mp4 completed\n",
      "\n"
     ]
    },
    {
     "name": "stderr",
     "output_type": "stream",
     "text": [
      "Processing videos:  70%|███████████████████████████████████████████▍                  | 84/120 [07:31<03:50,  6.41s/it]"
     ]
    },
    {
     "name": "stdout",
     "output_type": "stream",
     "text": [
      "C:\\Users\\Tanish Garg\\.cache\\kagglehub\\datasets\\sanikatiwarekar\\deep-fake-detection-dfd-entire-original-dataset\\DFD_manipulated_sequences\\14_02__podium_speech_happy__3IUBEKCT.mp4 completed\n",
      "\n"
     ]
    },
    {
     "name": "stderr",
     "output_type": "stream",
     "text": [
      "Processing videos:  75%|██████████████████████████████████████████████▌               | 90/120 [07:34<01:31,  3.07s/it]"
     ]
    },
    {
     "name": "stdout",
     "output_type": "stream",
     "text": [
      "C:\\Users\\Tanish Garg\\.cache\\kagglehub\\datasets\\sanikatiwarekar\\deep-fake-detection-dfd-entire-original-dataset\\DFD_original sequences\\08__kitchen_still.mp4 completed\n",
      "\n",
      "C:\\Users\\Tanish Garg\\.cache\\kagglehub\\datasets\\sanikatiwarekar\\deep-fake-detection-dfd-entire-original-dataset\\DFD_manipulated_sequences\\13_03__exit_phone_room__GBYWJW06.mp4 completed\n",
      "\n",
      "C:\\Users\\Tanish Garg\\.cache\\kagglehub\\datasets\\sanikatiwarekar\\deep-fake-detection-dfd-entire-original-dataset\\DFD_original sequences\\01__podium_speech_happy.mp4 completed\n",
      "\n"
     ]
    },
    {
     "name": "stderr",
     "output_type": "stream",
     "text": [
      "Processing videos:  76%|███████████████████████████████████████████████               | 91/120 [07:53<02:24,  4.97s/it]"
     ]
    },
    {
     "name": "stdout",
     "output_type": "stream",
     "text": [
      "C:\\Users\\Tanish Garg\\.cache\\kagglehub\\datasets\\sanikatiwarekar\\deep-fake-detection-dfd-entire-original-dataset\\DFD_original sequences\\01__walking_and_outside_surprised.mp4 completed\n",
      "\n",
      "C:\\Users\\Tanish Garg\\.cache\\kagglehub\\datasets\\sanikatiwarekar\\deep-fake-detection-dfd-entire-original-dataset\\DFD_manipulated_sequences\\04_01__exit_phone_room__0XUW13RW.mp4 completed\n",
      "\n",
      "C:\\Users\\Tanish Garg\\.cache\\kagglehub\\datasets\\sanikatiwarekar\\deep-fake-detection-dfd-entire-original-dataset\\DFD_manipulated_sequences\\22_23__outside_talking_pan_laughing__TU7RHG0S.mp4 completed\n",
      "\n",
      "C:\\Users\\Tanish Garg\\.cache\\kagglehub\\datasets\\sanikatiwarekar\\deep-fake-detection-dfd-entire-original-dataset\\DFD_manipulated_sequences\\21_14__walking_down_street_outside_angry__N0WM4GSV.mp4 completed\n",
      "\n",
      "C:\\Users\\Tanish Garg\\.cache\\kagglehub\\datasets\\sanikatiwarekar\\deep-fake-detection-dfd-entire-original-dataset\\DFD_original sequences\\09__walk_down_hall_angry.mp4 completed\n",
      "\n",
      "C:\\Users\\Tanish Garg\\.cache\\kagglehub\\datasets\\sanikatiwarekar\\deep-fake-detection-dfd-entire-original-dataset\\DFD_manipulated_sequences\\13_20__secret_conversation__4RU7I77X.mp4 completed\n",
      "\n",
      "C:\\Users\\Tanish Garg\\.cache\\kagglehub\\datasets\\sanikatiwarekar\\deep-fake-detection-dfd-entire-original-dataset\\DFD_original sequences\\17__walking_down_indoor_hall_disgust.mp4 completed\n",
      "\n",
      "C:\\Users\\Tanish Garg\\.cache\\kagglehub\\datasets\\sanikatiwarekar\\deep-fake-detection-dfd-entire-original-dataset\\DFD_original sequences\\02__walking_down_indoor_hall_disgust.mp4 completed\n",
      "\n",
      "C:\\Users\\Tanish Garg\\.cache\\kagglehub\\datasets\\sanikatiwarekar\\deep-fake-detection-dfd-entire-original-dataset\\DFD_manipulated_sequences\\06_02__podium_speech_happy__N8OSN8P6.mp4 completed\n",
      "\n",
      "C:\\Users\\Tanish Garg\\.cache\\kagglehub\\datasets\\sanikatiwarekar\\deep-fake-detection-dfd-entire-original-dataset\\DFD_original sequences\\13__walking_outside_cafe_disgusted.mp4 completed\n",
      "\n",
      "C:\\Users\\Tanish Garg\\.cache\\kagglehub\\datasets\\sanikatiwarekar\\deep-fake-detection-dfd-entire-original-dataset\\DFD_manipulated_sequences\\07_25__hugging_happy__IKMKYKPG.mp4 completed\n",
      "\n",
      "C:\\Users\\Tanish Garg\\.cache\\kagglehub\\datasets\\sanikatiwarekar\\deep-fake-detection-dfd-entire-original-dataset\\DFD_original sequences\\17__hugging_happy.mp4 completed\n",
      "\n",
      "C:\\Users\\Tanish Garg\\.cache\\kagglehub\\datasets\\sanikatiwarekar\\deep-fake-detection-dfd-entire-original-dataset\\DFD_original sequences\\27__outside_talking_still_laughing.mp4 completed\n",
      "\n",
      "C:\\Users\\Tanish Garg\\.cache\\kagglehub\\datasets\\sanikatiwarekar\\deep-fake-detection-dfd-entire-original-dataset\\DFD_manipulated_sequences\\03_15__outside_talking_still_laughing__DNUJD8M2.mp4 completed\n",
      "\n"
     ]
    },
    {
     "name": "stderr",
     "output_type": "stream",
     "text": [
      "Processing videos:  77%|███████████████████████████████████████████████▌              | 92/120 [08:31<04:31,  9.69s/it]"
     ]
    },
    {
     "name": "stdout",
     "output_type": "stream",
     "text": [
      "C:\\Users\\Tanish Garg\\.cache\\kagglehub\\datasets\\sanikatiwarekar\\deep-fake-detection-dfd-entire-original-dataset\\DFD_original sequences\\25__podium_speech_happy.mp4 completed\n",
      "\n"
     ]
    },
    {
     "name": "stderr",
     "output_type": "stream",
     "text": [
      "Processing videos:  91%|███████████████████████████████████████████████████████▍     | 109/120 [08:32<00:24,  2.22s/it]"
     ]
    },
    {
     "name": "stdout",
     "output_type": "stream",
     "text": [
      "C:\\Users\\Tanish Garg\\.cache\\kagglehub\\datasets\\sanikatiwarekar\\deep-fake-detection-dfd-entire-original-dataset\\DFD_manipulated_sequences\\15_02__talking_against_wall__TN2CWM3K.mp4 completed\n",
      "\n",
      "C:\\Users\\Tanish Garg\\.cache\\kagglehub\\datasets\\sanikatiwarekar\\deep-fake-detection-dfd-entire-original-dataset\\DFD_manipulated_sequences\\18_06__walking_down_street_outside_angry__MVXBDKGB.mp4 completed\n",
      "\n",
      "C:\\Users\\Tanish Garg\\.cache\\kagglehub\\datasets\\sanikatiwarekar\\deep-fake-detection-dfd-entire-original-dataset\\DFD_original sequences\\28__exit_phone_room.mp4 completed\n",
      "\n",
      "C:\\Users\\Tanish Garg\\.cache\\kagglehub\\datasets\\sanikatiwarekar\\deep-fake-detection-dfd-entire-original-dataset\\DFD_manipulated_sequences\\12_07__talking_against_wall__0VN0A2T3.mp4 completed\n",
      "\n",
      "C:\\Users\\Tanish Garg\\.cache\\kagglehub\\datasets\\sanikatiwarekar\\deep-fake-detection-dfd-entire-original-dataset\\DFD_manipulated_sequences\\02_07__walking_and_outside_surprised__1VMZUH1W.mp4 completed\n",
      "\n"
     ]
    },
    {
     "name": "stderr",
     "output_type": "stream",
     "text": [
      "Processing videos:  92%|████████████████████████████████████████████████████████▍    | 111/120 [08:43<00:23,  2.57s/it]"
     ]
    },
    {
     "name": "stdout",
     "output_type": "stream",
     "text": [
      "C:\\Users\\Tanish Garg\\.cache\\kagglehub\\datasets\\sanikatiwarekar\\deep-fake-detection-dfd-entire-original-dataset\\DFD_original sequences\\08__talking_against_wall.mp4 completed\n",
      "\n"
     ]
    },
    {
     "name": "stderr",
     "output_type": "stream",
     "text": [
      "Processing videos:  96%|██████████████████████████████████████████████████████████▍  | 115/120 [08:43<00:09,  1.97s/it]"
     ]
    },
    {
     "name": "stdout",
     "output_type": "stream",
     "text": [
      "C:\\Users\\Tanish Garg\\.cache\\kagglehub\\datasets\\sanikatiwarekar\\deep-fake-detection-dfd-entire-original-dataset\\DFD_original sequences\\12__talking_against_wall.mp4 completed\n",
      "\n"
     ]
    },
    {
     "name": "stderr",
     "output_type": "stream",
     "text": [
      "Processing videos:  98%|███████████████████████████████████████████████████████████▍ | 117/120 [08:46<00:05,  1.85s/it]"
     ]
    },
    {
     "name": "stdout",
     "output_type": "stream",
     "text": [
      "C:\\Users\\Tanish Garg\\.cache\\kagglehub\\datasets\\sanikatiwarekar\\deep-fake-detection-dfd-entire-original-dataset\\DFD_original sequences\\03__kitchen_still.mp4 completed\n",
      "\n",
      "C:\\Users\\Tanish Garg\\.cache\\kagglehub\\datasets\\sanikatiwarekar\\deep-fake-detection-dfd-entire-original-dataset\\DFD_manipulated_sequences\\03_06__meeting_serious__1IXGY2FK.mp4 completed\n",
      "\n"
     ]
    },
    {
     "name": "stderr",
     "output_type": "stream",
     "text": [
      "Processing videos: 100%|█████████████████████████████████████████████████████████████| 120/120 [08:48<00:00,  4.41s/it]"
     ]
    },
    {
     "name": "stdout",
     "output_type": "stream",
     "text": [
      "C:\\Users\\Tanish Garg\\.cache\\kagglehub\\datasets\\sanikatiwarekar\\deep-fake-detection-dfd-entire-original-dataset\\DFD_original sequences\\12__talking_angry_couch.mp4 completed\n",
      "\n",
      "Frame features in train set: (480, 20, 2048)\n",
      "Frame masks in train set: (480, 20)\n"
     ]
    },
    {
     "name": "stderr",
     "output_type": "stream",
     "text": [
      "\n"
     ]
    }
   ],
   "source": [
    "from concurrent.futures import ThreadPoolExecutor\n",
    "from tqdm import tqdm\n",
    "import numpy as np\n",
    "\n",
    "def process_video(video_path):\n",
    "    \"\"\"\n",
    "    Process a single video to extract features and create masks.\n",
    "    Args:\n",
    "        video_path (str): Full path to the video file.\n",
    "    Returns:\n",
    "        tuple: Extracted frame features and frame mask.\n",
    "    \"\"\"\n",
    "    frames = load_video(video_path)\n",
    "    frames = frames[None, ...]\n",
    "\n",
    "    temp_frame_mask = np.zeros(\n",
    "        shape=(\n",
    "            1,\n",
    "            MAX_SEQ_LENGTH,\n",
    "        ),\n",
    "        dtype=\"bool\",\n",
    "    )\n",
    "    temp_frame_features = np.zeros(\n",
    "        shape=(1, MAX_SEQ_LENGTH, NUM_FEATURES), dtype=\"float32\"\n",
    "    )\n",
    "\n",
    "    for i, batch in enumerate(frames):\n",
    "        video_length = batch.shape[0]\n",
    "        length = min(MAX_SEQ_LENGTH, video_length)\n",
    "        for j in range(length):\n",
    "            temp_frame_features[i, j, :] = feature_extractor.predict(\n",
    "                batch[None, j, :], verbose=0,\n",
    "            )\n",
    "        temp_frame_mask[i, :length] = 1  # Set the mask for valid frames\n",
    "    print(f\"{video_path} completed\\n\")\n",
    "    return temp_frame_features.squeeze(), temp_frame_mask.squeeze()\n",
    "\n",
    "def prepare_all_videos(df):\n",
    "    \"\"\"\n",
    "    Prepare features and masks for all videos in the DataFrame.\n",
    "    Args:\n",
    "        df (pd.DataFrame): DataFrame containing video paths and labels.\n",
    "    Returns:\n",
    "        tuple: (frame features, frame masks), labels\n",
    "    \"\"\"\n",
    "    video_paths = df[\"video_path\"].values.tolist()  # Use full paths directly\n",
    "    labels = df[\"label\"].values\n",
    "\n",
    "    # Add progress bar\n",
    "    with ThreadPoolExecutor(max_workers=20) as executor:  # Adjust number of workers as needed\n",
    "        results = list(\n",
    "            tqdm(\n",
    "                executor.map(process_video, video_paths),\n",
    "                total=len(video_paths),\n",
    "                desc=\"Processing videos\"\n",
    "            )\n",
    "        )\n",
    "\n",
    "    frame_features, frame_masks = zip(*results)\n",
    "    frame_features = np.array(frame_features)\n",
    "    frame_masks = np.array(frame_masks)\n",
    "\n",
    "    labels = labels[..., None]\n",
    "\n",
    "    return (frame_features, frame_masks), labels\n",
    "\n",
    "# Prepare train and test datasets\n",
    "train_data, train_labels = prepare_all_videos(train_df)\n",
    "test_data, test_labels = prepare_all_videos(test_df)\n",
    "\n",
    "print(f\"Frame features in train set: {train_data[0].shape}\")\n",
    "print(f\"Frame masks in train set: {train_data[1].shape}\")"
   ]
  },
  {
   "cell_type": "markdown",
   "id": "3e3ee9cb-1c59-4d20-a46e-40ee2966a6ea",
   "metadata": {},
   "source": [
    "For multiclass classification"
   ]
  },
  {
   "cell_type": "code",
   "execution_count": 20,
   "id": "d54f6e34-6f7c-4967-bc8e-b2dbfe1c305b",
   "metadata": {},
   "outputs": [],
   "source": [
    "def get_sequence_model():\n",
    "    class_vocab = label_processor.get_vocabulary()\n",
    "\n",
    "    frame_features_input = keras.Input((MAX_SEQ_LENGTH, NUM_FEATURES))\n",
    "    mask_input = keras.Input((MAX_SEQ_LENGTH,), dtype=\"bool\")\n",
    "    \n",
    "    # Add more TimeDistributed layers with larger units\n",
    "    x = keras.layers.TimeDistributed(keras.layers.Dense(512, activation='relu'))(frame_features_input)\n",
    "    x = keras.layers.TimeDistributed(keras.layers.Dense(256, activation='relu'))(x)\n",
    "    \n",
    "    # Add more LSTM layers with larger units\n",
    "    x = keras.layers.LSTM(512, return_sequences=True)(x)\n",
    "    x = keras.layers.LSTM(256, return_sequences=True)(x)\n",
    "    x = keras.layers.LSTM(128)(x)\n",
    "\n",
    "    # Add additional Dense layers with dropout\n",
    "    x = keras.layers.Dropout(0.5)(x)\n",
    "    x = keras.layers.Dense(128, activation=\"relu\")(x)\n",
    "    x = keras.layers.Dropout(0.5)(x)\n",
    "    x = keras.layers.Dense(64, activation=\"relu\")(x)\n",
    "\n",
    "    output = keras.layers.Dense(len(class_vocab), activation=\"softmax\")(x)\n",
    "\n",
    "    rnn_model = keras.Model([frame_features_input, mask_input], output)\n",
    "\n",
    "    optimizer = keras.optimizers.Adam(learning_rate=0.0001)\n",
    "    rnn_model.compile(\n",
    "        loss=\"sparse_categorical_crossentropy\", optimizer=optimizer, metrics=[\"accuracy\"]\n",
    "    )\n",
    "    return rnn_model\n"
   ]
  },
  {
   "cell_type": "code",
   "execution_count": 21,
   "id": "4ac38db3-39b9-4ac9-9a41-ac1d65a93065",
   "metadata": {},
   "outputs": [],
   "source": [
    "from sklearn.metrics import classification_report\n",
    "def run_experiment(train_data, train_labels, test_data, test_labels):\n",
    "    filepath = \"/tmp/video_classifier/ckpt.weights.h5\"\n",
    "    checkpoint = keras.callbacks.ModelCheckpoint(\n",
    "        filepath, save_weights_only=True, save_best_only=True, verbose=1\n",
    "    )\n",
    "\n",
    "    seq_model = get_sequence_model()\n",
    "    history = seq_model.fit(\n",
    "        [train_data[0], train_data[1]],\n",
    "        train_labels,\n",
    "        validation_split=0.3,\n",
    "        epochs=EPOCHS,\n",
    "        callbacks=[checkpoint]\n",
    "    )\n",
    "\n",
    "    _, accuracy = seq_model.evaluate([test_data[0], test_data[1]], test_labels)\n",
    "    print(f\"Test accuracy: {round(accuracy * 100, 2)}%\")\n",
    "    \n",
    "    predictions = seq_model.predict([test_data[0], test_data[1]])\n",
    "    # Convert predictions to labels\n",
    "    predicted_labels = np.argmax(predictions, axis=1)\n",
    "    # Generate classification report\n",
    "    report = classification_report(test_labels, predicted_labels)\n",
    "    print(\"Classification Report:\\n\", report)\n",
    "\n",
    "    return history, seq_model\n"
   ]
  },
  {
   "cell_type": "code",
   "execution_count": 22,
   "id": "7bf5b2b4-fbb9-4633-815c-19740c663156",
   "metadata": {},
   "outputs": [
    {
     "name": "stderr",
     "output_type": "stream",
     "text": [
      "C:\\Users\\Tanish Garg\\AppData\\Local\\Programs\\Python\\Python311\\Lib\\site-packages\\sklearn\\preprocessing\\_label.py:114: DataConversionWarning: A column-vector y was passed when a 1d array was expected. Please change the shape of y to (n_samples, ), for example using ravel().\n",
      "  y = column_or_1d(y, warn=True)\n",
      "C:\\Users\\Tanish Garg\\AppData\\Local\\Programs\\Python\\Python311\\Lib\\site-packages\\sklearn\\preprocessing\\_label.py:114: DataConversionWarning: A column-vector y was passed when a 1d array was expected. Please change the shape of y to (n_samples, ), for example using ravel().\n",
      "  y = column_or_1d(y, warn=True)\n"
     ]
    }
   ],
   "source": [
    "from sklearn.preprocessing import LabelEncoder\n",
    "\n",
    "label_encoder = LabelEncoder()\n",
    "train_labels_encoded = label_encoder.fit_transform(train_labels)\n",
    "\n",
    "\n",
    "label_encoder = LabelEncoder()\n",
    "test_labels_encoded = label_encoder.fit_transform(test_labels)"
   ]
  },
  {
   "cell_type": "code",
   "execution_count": 23,
   "id": "ec154f39-85ee-4047-bd64-7bcf77027fd2",
   "metadata": {},
   "outputs": [
    {
     "name": "stdout",
     "output_type": "stream",
     "text": [
      "Epoch 1/50\n"
     ]
    },
    {
     "name": "stderr",
     "output_type": "stream",
     "text": [
      "C:\\Users\\Tanish Garg\\AppData\\Local\\Programs\\Python\\Python311\\Lib\\site-packages\\keras\\src\\models\\functional.py:225: UserWarning: The structure of `inputs` doesn't match the expected structure: ['keras_tensor_316', 'keras_tensor_317']. Received: the structure of inputs=('*', '*')\n",
      "  warnings.warn(\n"
     ]
    },
    {
     "name": "stdout",
     "output_type": "stream",
     "text": [
      "\u001b[1m11/11\u001b[0m \u001b[32m━━━━━━━━━━━━━━━━━━━━\u001b[0m\u001b[37m\u001b[0m \u001b[1m0s\u001b[0m 204ms/step - accuracy: 0.5122 - loss: 0.6994\n",
      "Epoch 1: val_loss improved from inf to 0.69297, saving model to /tmp/video_classifier/ckpt.weights.h5\n",
      "\u001b[1m11/11\u001b[0m \u001b[32m━━━━━━━━━━━━━━━━━━━━\u001b[0m\u001b[37m\u001b[0m \u001b[1m8s\u001b[0m 298ms/step - accuracy: 0.5102 - loss: 0.6998 - val_accuracy: 0.5000 - val_loss: 0.6930\n",
      "Epoch 2/50\n",
      "\u001b[1m11/11\u001b[0m \u001b[32m━━━━━━━━━━━━━━━━━━━━\u001b[0m\u001b[37m\u001b[0m \u001b[1m0s\u001b[0m 201ms/step - accuracy: 0.5677 - loss: 0.6927\n",
      "Epoch 2: val_loss improved from 0.69297 to 0.69079, saving model to /tmp/video_classifier/ckpt.weights.h5\n",
      "\u001b[1m11/11\u001b[0m \u001b[32m━━━━━━━━━━━━━━━━━━━━\u001b[0m\u001b[37m\u001b[0m \u001b[1m3s\u001b[0m 231ms/step - accuracy: 0.5678 - loss: 0.6927 - val_accuracy: 0.5556 - val_loss: 0.6908\n",
      "Epoch 3/50\n",
      "\u001b[1m11/11\u001b[0m \u001b[32m━━━━━━━━━━━━━━━━━━━━\u001b[0m\u001b[37m\u001b[0m \u001b[1m0s\u001b[0m 203ms/step - accuracy: 0.5675 - loss: 0.6813\n",
      "Epoch 3: val_loss did not improve from 0.69079\n",
      "\u001b[1m11/11\u001b[0m \u001b[32m━━━━━━━━━━━━━━━━━━━━\u001b[0m\u001b[37m\u001b[0m \u001b[1m2s\u001b[0m 221ms/step - accuracy: 0.5666 - loss: 0.6813 - val_accuracy: 0.5625 - val_loss: 0.6913\n",
      "Epoch 4/50\n",
      "\u001b[1m11/11\u001b[0m \u001b[32m━━━━━━━━━━━━━━━━━━━━\u001b[0m\u001b[37m\u001b[0m \u001b[1m0s\u001b[0m 202ms/step - accuracy: 0.5282 - loss: 0.6885\n",
      "Epoch 4: val_loss improved from 0.69079 to 0.68635, saving model to /tmp/video_classifier/ckpt.weights.h5\n",
      "\u001b[1m11/11\u001b[0m \u001b[32m━━━━━━━━━━━━━━━━━━━━\u001b[0m\u001b[37m\u001b[0m \u001b[1m3s\u001b[0m 232ms/step - accuracy: 0.5313 - loss: 0.6873 - val_accuracy: 0.5208 - val_loss: 0.6864\n",
      "Epoch 5/50\n",
      "\u001b[1m11/11\u001b[0m \u001b[32m━━━━━━━━━━━━━━━━━━━━\u001b[0m\u001b[37m\u001b[0m \u001b[1m0s\u001b[0m 201ms/step - accuracy: 0.6156 - loss: 0.6458\n",
      "Epoch 5: val_loss did not improve from 0.68635\n",
      "\u001b[1m11/11\u001b[0m \u001b[32m━━━━━━━━━━━━━━━━━━━━\u001b[0m\u001b[37m\u001b[0m \u001b[1m2s\u001b[0m 219ms/step - accuracy: 0.6176 - loss: 0.6454 - val_accuracy: 0.5069 - val_loss: 0.7000\n",
      "Epoch 6/50\n",
      "\u001b[1m11/11\u001b[0m \u001b[32m━━━━━━━━━━━━━━━━━━━━\u001b[0m\u001b[37m\u001b[0m \u001b[1m0s\u001b[0m 201ms/step - accuracy: 0.7213 - loss: 0.6032\n",
      "Epoch 6: val_loss did not improve from 0.68635\n",
      "\u001b[1m11/11\u001b[0m \u001b[32m━━━━━━━━━━━━━━━━━━━━\u001b[0m\u001b[37m\u001b[0m \u001b[1m2s\u001b[0m 219ms/step - accuracy: 0.7222 - loss: 0.6012 - val_accuracy: 0.5417 - val_loss: 0.6978\n",
      "Epoch 7/50\n",
      "\u001b[1m11/11\u001b[0m \u001b[32m━━━━━━━━━━━━━━━━━━━━\u001b[0m\u001b[37m\u001b[0m \u001b[1m0s\u001b[0m 201ms/step - accuracy: 0.7451 - loss: 0.5504\n",
      "Epoch 7: val_loss did not improve from 0.68635\n",
      "\u001b[1m11/11\u001b[0m \u001b[32m━━━━━━━━━━━━━━━━━━━━\u001b[0m\u001b[37m\u001b[0m \u001b[1m2s\u001b[0m 219ms/step - accuracy: 0.7445 - loss: 0.5500 - val_accuracy: 0.5833 - val_loss: 0.7603\n",
      "Epoch 8/50\n",
      "\u001b[1m11/11\u001b[0m \u001b[32m━━━━━━━━━━━━━━━━━━━━\u001b[0m\u001b[37m\u001b[0m \u001b[1m0s\u001b[0m 203ms/step - accuracy: 0.7805 - loss: 0.4836\n",
      "Epoch 8: val_loss did not improve from 0.68635\n",
      "\u001b[1m11/11\u001b[0m \u001b[32m━━━━━━━━━━━━━━━━━━━━\u001b[0m\u001b[37m\u001b[0m \u001b[1m2s\u001b[0m 222ms/step - accuracy: 0.7790 - loss: 0.4864 - val_accuracy: 0.6111 - val_loss: 0.7792\n",
      "Epoch 9/50\n",
      "\u001b[1m11/11\u001b[0m \u001b[32m━━━━━━━━━━━━━━━━━━━━\u001b[0m\u001b[37m\u001b[0m \u001b[1m0s\u001b[0m 201ms/step - accuracy: 0.8218 - loss: 0.4461\n",
      "Epoch 9: val_loss did not improve from 0.68635\n",
      "\u001b[1m11/11\u001b[0m \u001b[32m━━━━━━━━━━━━━━━━━━━━\u001b[0m\u001b[37m\u001b[0m \u001b[1m2s\u001b[0m 219ms/step - accuracy: 0.8193 - loss: 0.4485 - val_accuracy: 0.5694 - val_loss: 0.8447\n",
      "Epoch 10/50\n",
      "\u001b[1m11/11\u001b[0m \u001b[32m━━━━━━━━━━━━━━━━━━━━\u001b[0m\u001b[37m\u001b[0m \u001b[1m0s\u001b[0m 200ms/step - accuracy: 0.7555 - loss: 0.4768\n",
      "Epoch 10: val_loss did not improve from 0.68635\n",
      "\u001b[1m11/11\u001b[0m \u001b[32m━━━━━━━━━━━━━━━━━━━━\u001b[0m\u001b[37m\u001b[0m \u001b[1m2s\u001b[0m 219ms/step - accuracy: 0.7547 - loss: 0.4784 - val_accuracy: 0.5833 - val_loss: 0.8038\n",
      "Epoch 11/50\n",
      "\u001b[1m11/11\u001b[0m \u001b[32m━━━━━━━━━━━━━━━━━━━━\u001b[0m\u001b[37m\u001b[0m \u001b[1m0s\u001b[0m 205ms/step - accuracy: 0.7636 - loss: 0.4602\n",
      "Epoch 11: val_loss did not improve from 0.68635\n",
      "\u001b[1m11/11\u001b[0m \u001b[32m━━━━━━━━━━━━━━━━━━━━\u001b[0m\u001b[37m\u001b[0m \u001b[1m2s\u001b[0m 224ms/step - accuracy: 0.7652 - loss: 0.4604 - val_accuracy: 0.5764 - val_loss: 0.8056\n",
      "Epoch 12/50\n",
      "\u001b[1m11/11\u001b[0m \u001b[32m━━━━━━━━━━━━━━━━━━━━\u001b[0m\u001b[37m\u001b[0m \u001b[1m0s\u001b[0m 200ms/step - accuracy: 0.8348 - loss: 0.3956\n",
      "Epoch 12: val_loss did not improve from 0.68635\n",
      "\u001b[1m11/11\u001b[0m \u001b[32m━━━━━━━━━━━━━━━━━━━━\u001b[0m\u001b[37m\u001b[0m \u001b[1m2s\u001b[0m 218ms/step - accuracy: 0.8354 - loss: 0.3956 - val_accuracy: 0.5972 - val_loss: 0.8833\n",
      "Epoch 13/50\n",
      "\u001b[1m11/11\u001b[0m \u001b[32m━━━━━━━━━━━━━━━━━━━━\u001b[0m\u001b[37m\u001b[0m \u001b[1m0s\u001b[0m 200ms/step - accuracy: 0.8630 - loss: 0.3550\n",
      "Epoch 13: val_loss did not improve from 0.68635\n",
      "\u001b[1m11/11\u001b[0m \u001b[32m━━━━━━━━━━━━━━━━━━━━\u001b[0m\u001b[37m\u001b[0m \u001b[1m2s\u001b[0m 218ms/step - accuracy: 0.8618 - loss: 0.3567 - val_accuracy: 0.5833 - val_loss: 0.8781\n",
      "Epoch 14/50\n",
      "\u001b[1m11/11\u001b[0m \u001b[32m━━━━━━━━━━━━━━━━━━━━\u001b[0m\u001b[37m\u001b[0m \u001b[1m0s\u001b[0m 219ms/step - accuracy: 0.8373 - loss: 0.3910\n",
      "Epoch 14: val_loss did not improve from 0.68635\n",
      "\u001b[1m11/11\u001b[0m \u001b[32m━━━━━━━━━━━━━━━━━━━━\u001b[0m\u001b[37m\u001b[0m \u001b[1m3s\u001b[0m 238ms/step - accuracy: 0.8390 - loss: 0.3883 - val_accuracy: 0.5625 - val_loss: 0.9233\n",
      "Epoch 15/50\n",
      "\u001b[1m11/11\u001b[0m \u001b[32m━━━━━━━━━━━━━━━━━━━━\u001b[0m\u001b[37m\u001b[0m \u001b[1m0s\u001b[0m 208ms/step - accuracy: 0.8651 - loss: 0.3285\n",
      "Epoch 15: val_loss did not improve from 0.68635\n",
      "\u001b[1m11/11\u001b[0m \u001b[32m━━━━━━━━━━━━━━━━━━━━\u001b[0m\u001b[37m\u001b[0m \u001b[1m3s\u001b[0m 227ms/step - accuracy: 0.8652 - loss: 0.3282 - val_accuracy: 0.6111 - val_loss: 1.0706\n",
      "Epoch 16/50\n",
      "\u001b[1m11/11\u001b[0m \u001b[32m━━━━━━━━━━━━━━━━━━━━\u001b[0m\u001b[37m\u001b[0m \u001b[1m0s\u001b[0m 201ms/step - accuracy: 0.8849 - loss: 0.2977\n",
      "Epoch 16: val_loss did not improve from 0.68635\n",
      "\u001b[1m11/11\u001b[0m \u001b[32m━━━━━━━━━━━━━━━━━━━━\u001b[0m\u001b[37m\u001b[0m \u001b[1m2s\u001b[0m 220ms/step - accuracy: 0.8828 - loss: 0.3021 - val_accuracy: 0.5833 - val_loss: 1.0735\n",
      "Epoch 17/50\n",
      "\u001b[1m11/11\u001b[0m \u001b[32m━━━━━━━━━━━━━━━━━━━━\u001b[0m\u001b[37m\u001b[0m \u001b[1m0s\u001b[0m 203ms/step - accuracy: 0.7632 - loss: 0.4764\n",
      "Epoch 17: val_loss did not improve from 0.68635\n",
      "\u001b[1m11/11\u001b[0m \u001b[32m━━━━━━━━━━━━━━━━━━━━\u001b[0m\u001b[37m\u001b[0m \u001b[1m2s\u001b[0m 221ms/step - accuracy: 0.7668 - loss: 0.4722 - val_accuracy: 0.5903 - val_loss: 0.7553\n",
      "Epoch 18/50\n",
      "\u001b[1m11/11\u001b[0m \u001b[32m━━━━━━━━━━━━━━━━━━━━\u001b[0m\u001b[37m\u001b[0m \u001b[1m0s\u001b[0m 204ms/step - accuracy: 0.8442 - loss: 0.3398\n",
      "Epoch 18: val_loss did not improve from 0.68635\n",
      "\u001b[1m11/11\u001b[0m \u001b[32m━━━━━━━━━━━━━━━━━━━━\u001b[0m\u001b[37m\u001b[0m \u001b[1m2s\u001b[0m 222ms/step - accuracy: 0.8453 - loss: 0.3373 - val_accuracy: 0.5833 - val_loss: 1.2184\n",
      "Epoch 19/50\n",
      "\u001b[1m11/11\u001b[0m \u001b[32m━━━━━━━━━━━━━━━━━━━━\u001b[0m\u001b[37m\u001b[0m \u001b[1m0s\u001b[0m 202ms/step - accuracy: 0.8822 - loss: 0.2680\n",
      "Epoch 19: val_loss did not improve from 0.68635\n",
      "\u001b[1m11/11\u001b[0m \u001b[32m━━━━━━━━━━━━━━━━━━━━\u001b[0m\u001b[37m\u001b[0m \u001b[1m2s\u001b[0m 221ms/step - accuracy: 0.8801 - loss: 0.2695 - val_accuracy: 0.5972 - val_loss: 1.1189\n",
      "Epoch 20/50\n",
      "\u001b[1m11/11\u001b[0m \u001b[32m━━━━━━━━━━━━━━━━━━━━\u001b[0m\u001b[37m\u001b[0m \u001b[1m0s\u001b[0m 201ms/step - accuracy: 0.8637 - loss: 0.3055\n",
      "Epoch 20: val_loss did not improve from 0.68635\n",
      "\u001b[1m11/11\u001b[0m \u001b[32m━━━━━━━━━━━━━━━━━━━━\u001b[0m\u001b[37m\u001b[0m \u001b[1m2s\u001b[0m 219ms/step - accuracy: 0.8644 - loss: 0.3037 - val_accuracy: 0.5694 - val_loss: 1.1435\n",
      "Epoch 21/50\n",
      "\u001b[1m11/11\u001b[0m \u001b[32m━━━━━━━━━━━━━━━━━━━━\u001b[0m\u001b[37m\u001b[0m \u001b[1m0s\u001b[0m 205ms/step - accuracy: 0.8638 - loss: 0.2713\n",
      "Epoch 21: val_loss did not improve from 0.68635\n",
      "\u001b[1m11/11\u001b[0m \u001b[32m━━━━━━━━━━━━━━━━━━━━\u001b[0m\u001b[37m\u001b[0m \u001b[1m2s\u001b[0m 224ms/step - accuracy: 0.8645 - loss: 0.2719 - val_accuracy: 0.6111 - val_loss: 1.2165\n",
      "Epoch 22/50\n",
      "\u001b[1m11/11\u001b[0m \u001b[32m━━━━━━━━━━━━━━━━━━━━\u001b[0m\u001b[37m\u001b[0m \u001b[1m0s\u001b[0m 201ms/step - accuracy: 0.8192 - loss: 0.3442\n",
      "Epoch 22: val_loss did not improve from 0.68635\n",
      "\u001b[1m11/11\u001b[0m \u001b[32m━━━━━━━━━━━━━━━━━━━━\u001b[0m\u001b[37m\u001b[0m \u001b[1m2s\u001b[0m 220ms/step - accuracy: 0.8208 - loss: 0.3431 - val_accuracy: 0.5903 - val_loss: 0.9939\n",
      "Epoch 23/50\n",
      "\u001b[1m11/11\u001b[0m \u001b[32m━━━━━━━━━━━━━━━━━━━━\u001b[0m\u001b[37m\u001b[0m \u001b[1m0s\u001b[0m 204ms/step - accuracy: 0.8670 - loss: 0.2824\n",
      "Epoch 23: val_loss did not improve from 0.68635\n",
      "\u001b[1m11/11\u001b[0m \u001b[32m━━━━━━━━━━━━━━━━━━━━\u001b[0m\u001b[37m\u001b[0m \u001b[1m2s\u001b[0m 223ms/step - accuracy: 0.8676 - loss: 0.2824 - val_accuracy: 0.5833 - val_loss: 1.2122\n",
      "Epoch 24/50\n",
      "\u001b[1m11/11\u001b[0m \u001b[32m━━━━━━━━━━━━━━━━━━━━\u001b[0m\u001b[37m\u001b[0m \u001b[1m0s\u001b[0m 200ms/step - accuracy: 0.9149 - loss: 0.2005\n",
      "Epoch 24: val_loss did not improve from 0.68635\n",
      "\u001b[1m11/11\u001b[0m \u001b[32m━━━━━━━━━━━━━━━━━━━━\u001b[0m\u001b[37m\u001b[0m \u001b[1m2s\u001b[0m 218ms/step - accuracy: 0.9128 - loss: 0.2025 - val_accuracy: 0.6181 - val_loss: 1.2371\n",
      "Epoch 25/50\n",
      "\u001b[1m11/11\u001b[0m \u001b[32m━━━━━━━━━━━━━━━━━━━━\u001b[0m\u001b[37m\u001b[0m \u001b[1m0s\u001b[0m 204ms/step - accuracy: 0.9155 - loss: 0.1976\n",
      "Epoch 25: val_loss did not improve from 0.68635\n",
      "\u001b[1m11/11\u001b[0m \u001b[32m━━━━━━━━━━━━━━━━━━━━\u001b[0m\u001b[37m\u001b[0m \u001b[1m2s\u001b[0m 225ms/step - accuracy: 0.9141 - loss: 0.1979 - val_accuracy: 0.6181 - val_loss: 1.4932\n",
      "Epoch 26/50\n",
      "\u001b[1m11/11\u001b[0m \u001b[32m━━━━━━━━━━━━━━━━━━━━\u001b[0m\u001b[37m\u001b[0m \u001b[1m0s\u001b[0m 201ms/step - accuracy: 0.8645 - loss: 0.2413\n",
      "Epoch 26: val_loss did not improve from 0.68635\n",
      "\u001b[1m11/11\u001b[0m \u001b[32m━━━━━━━━━━━━━━━━━━━━\u001b[0m\u001b[37m\u001b[0m \u001b[1m2s\u001b[0m 219ms/step - accuracy: 0.8654 - loss: 0.2405 - val_accuracy: 0.6042 - val_loss: 1.2776\n",
      "Epoch 27/50\n",
      "\u001b[1m11/11\u001b[0m \u001b[32m━━━━━━━━━━━━━━━━━━━━\u001b[0m\u001b[37m\u001b[0m \u001b[1m0s\u001b[0m 202ms/step - accuracy: 0.8901 - loss: 0.2493\n",
      "Epoch 27: val_loss did not improve from 0.68635\n",
      "\u001b[1m11/11\u001b[0m \u001b[32m━━━━━━━━━━━━━━━━━━━━\u001b[0m\u001b[37m\u001b[0m \u001b[1m2s\u001b[0m 221ms/step - accuracy: 0.8891 - loss: 0.2521 - val_accuracy: 0.5556 - val_loss: 1.3843\n",
      "Epoch 28/50\n",
      "\u001b[1m11/11\u001b[0m \u001b[32m━━━━━━━━━━━━━━━━━━━━\u001b[0m\u001b[37m\u001b[0m \u001b[1m0s\u001b[0m 203ms/step - accuracy: 0.8860 - loss: 0.2065\n",
      "Epoch 28: val_loss did not improve from 0.68635\n",
      "\u001b[1m11/11\u001b[0m \u001b[32m━━━━━━━━━━━━━━━━━━━━\u001b[0m\u001b[37m\u001b[0m \u001b[1m2s\u001b[0m 221ms/step - accuracy: 0.8858 - loss: 0.2075 - val_accuracy: 0.5903 - val_loss: 1.4804\n",
      "Epoch 29/50\n",
      "\u001b[1m11/11\u001b[0m \u001b[32m━━━━━━━━━━━━━━━━━━━━\u001b[0m\u001b[37m\u001b[0m \u001b[1m0s\u001b[0m 201ms/step - accuracy: 0.8966 - loss: 0.2055\n",
      "Epoch 29: val_loss did not improve from 0.68635\n",
      "\u001b[1m11/11\u001b[0m \u001b[32m━━━━━━━━━━━━━━━━━━━━\u001b[0m\u001b[37m\u001b[0m \u001b[1m2s\u001b[0m 219ms/step - accuracy: 0.8961 - loss: 0.2070 - val_accuracy: 0.5694 - val_loss: 1.2806\n",
      "Epoch 30/50\n",
      "\u001b[1m11/11\u001b[0m \u001b[32m━━━━━━━━━━━━━━━━━━━━\u001b[0m\u001b[37m\u001b[0m \u001b[1m0s\u001b[0m 201ms/step - accuracy: 0.8831 - loss: 0.2307\n",
      "Epoch 30: val_loss did not improve from 0.68635\n",
      "\u001b[1m11/11\u001b[0m \u001b[32m━━━━━━━━━━━━━━━━━━━━\u001b[0m\u001b[37m\u001b[0m \u001b[1m2s\u001b[0m 219ms/step - accuracy: 0.8832 - loss: 0.2294 - val_accuracy: 0.5833 - val_loss: 1.6425\n",
      "Epoch 31/50\n",
      "\u001b[1m11/11\u001b[0m \u001b[32m━━━━━━━━━━━━━━━━━━━━\u001b[0m\u001b[37m\u001b[0m \u001b[1m0s\u001b[0m 202ms/step - accuracy: 0.9104 - loss: 0.2037\n",
      "Epoch 31: val_loss did not improve from 0.68635\n",
      "\u001b[1m11/11\u001b[0m \u001b[32m━━━━━━━━━━━━━━━━━━━━\u001b[0m\u001b[37m\u001b[0m \u001b[1m2s\u001b[0m 220ms/step - accuracy: 0.9114 - loss: 0.2020 - val_accuracy: 0.5625 - val_loss: 1.9752\n",
      "Epoch 32/50\n",
      "\u001b[1m11/11\u001b[0m \u001b[32m━━━━━━━━━━━━━━━━━━━━\u001b[0m\u001b[37m\u001b[0m \u001b[1m0s\u001b[0m 203ms/step - accuracy: 0.9045 - loss: 0.1820\n",
      "Epoch 32: val_loss did not improve from 0.68635\n",
      "\u001b[1m11/11\u001b[0m \u001b[32m━━━━━━━━━━━━━━━━━━━━\u001b[0m\u001b[37m\u001b[0m \u001b[1m2s\u001b[0m 221ms/step - accuracy: 0.9031 - loss: 0.1840 - val_accuracy: 0.5833 - val_loss: 1.8579\n",
      "Epoch 33/50\n",
      "\u001b[1m11/11\u001b[0m \u001b[32m━━━━━━━━━━━━━━━━━━━━\u001b[0m\u001b[37m\u001b[0m \u001b[1m0s\u001b[0m 202ms/step - accuracy: 0.8996 - loss: 0.2651\n",
      "Epoch 33: val_loss did not improve from 0.68635\n",
      "\u001b[1m11/11\u001b[0m \u001b[32m━━━━━━━━━━━━━━━━━━━━\u001b[0m\u001b[37m\u001b[0m \u001b[1m2s\u001b[0m 220ms/step - accuracy: 0.8988 - loss: 0.2657 - val_accuracy: 0.6042 - val_loss: 1.3237\n",
      "Epoch 34/50\n",
      "\u001b[1m11/11\u001b[0m \u001b[32m━━━━━━━━━━━━━━━━━━━━\u001b[0m\u001b[37m\u001b[0m \u001b[1m0s\u001b[0m 203ms/step - accuracy: 0.8861 - loss: 0.2166\n",
      "Epoch 34: val_loss did not improve from 0.68635\n",
      "\u001b[1m11/11\u001b[0m \u001b[32m━━━━━━━━━━━━━━━━━━━━\u001b[0m\u001b[37m\u001b[0m \u001b[1m2s\u001b[0m 221ms/step - accuracy: 0.8877 - loss: 0.2157 - val_accuracy: 0.5903 - val_loss: 1.6925\n",
      "Epoch 35/50\n",
      "\u001b[1m11/11\u001b[0m \u001b[32m━━━━━━━━━━━━━━━━━━━━\u001b[0m\u001b[37m\u001b[0m \u001b[1m0s\u001b[0m 203ms/step - accuracy: 0.9387 - loss: 0.1671\n",
      "Epoch 35: val_loss did not improve from 0.68635\n",
      "\u001b[1m11/11\u001b[0m \u001b[32m━━━━━━━━━━━━━━━━━━━━\u001b[0m\u001b[37m\u001b[0m \u001b[1m2s\u001b[0m 222ms/step - accuracy: 0.9364 - loss: 0.1691 - val_accuracy: 0.5833 - val_loss: 1.6672\n",
      "Epoch 36/50\n",
      "\u001b[1m11/11\u001b[0m \u001b[32m━━━━━━━━━━━━━━━━━━━━\u001b[0m\u001b[37m\u001b[0m \u001b[1m0s\u001b[0m 205ms/step - accuracy: 0.9051 - loss: 0.1758\n",
      "Epoch 36: val_loss did not improve from 0.68635\n",
      "\u001b[1m11/11\u001b[0m \u001b[32m━━━━━━━━━━━━━━━━━━━━\u001b[0m\u001b[37m\u001b[0m \u001b[1m2s\u001b[0m 223ms/step - accuracy: 0.9055 - loss: 0.1757 - val_accuracy: 0.5833 - val_loss: 1.6896\n",
      "Epoch 37/50\n",
      "\u001b[1m11/11\u001b[0m \u001b[32m━━━━━━━━━━━━━━━━━━━━\u001b[0m\u001b[37m\u001b[0m \u001b[1m0s\u001b[0m 202ms/step - accuracy: 0.9353 - loss: 0.1532\n",
      "Epoch 37: val_loss did not improve from 0.68635\n",
      "\u001b[1m11/11\u001b[0m \u001b[32m━━━━━━━━━━━━━━━━━━━━\u001b[0m\u001b[37m\u001b[0m \u001b[1m2s\u001b[0m 220ms/step - accuracy: 0.9343 - loss: 0.1533 - val_accuracy: 0.5903 - val_loss: 1.9991\n",
      "Epoch 38/50\n",
      "\u001b[1m11/11\u001b[0m \u001b[32m━━━━━━━━━━━━━━━━━━━━\u001b[0m\u001b[37m\u001b[0m \u001b[1m0s\u001b[0m 204ms/step - accuracy: 0.9094 - loss: 0.1665\n",
      "Epoch 38: val_loss did not improve from 0.68635\n",
      "\u001b[1m11/11\u001b[0m \u001b[32m━━━━━━━━━━━━━━━━━━━━\u001b[0m\u001b[37m\u001b[0m \u001b[1m2s\u001b[0m 223ms/step - accuracy: 0.9095 - loss: 0.1666 - val_accuracy: 0.5972 - val_loss: 1.8807\n",
      "Epoch 39/50\n",
      "\u001b[1m11/11\u001b[0m \u001b[32m━━━━━━━━━━━━━━━━━━━━\u001b[0m\u001b[37m\u001b[0m \u001b[1m0s\u001b[0m 201ms/step - accuracy: 0.9015 - loss: 0.1888\n",
      "Epoch 39: val_loss did not improve from 0.68635\n",
      "\u001b[1m11/11\u001b[0m \u001b[32m━━━━━━━━━━━━━━━━━━━━\u001b[0m\u001b[37m\u001b[0m \u001b[1m2s\u001b[0m 219ms/step - accuracy: 0.9023 - loss: 0.1868 - val_accuracy: 0.5972 - val_loss: 1.9810\n",
      "Epoch 40/50\n",
      "\u001b[1m11/11\u001b[0m \u001b[32m━━━━━━━━━━━━━━━━━━━━\u001b[0m\u001b[37m\u001b[0m \u001b[1m0s\u001b[0m 202ms/step - accuracy: 0.9165 - loss: 0.1480\n",
      "Epoch 40: val_loss did not improve from 0.68635\n",
      "\u001b[1m11/11\u001b[0m \u001b[32m━━━━━━━━━━━━━━━━━━━━\u001b[0m\u001b[37m\u001b[0m \u001b[1m2s\u001b[0m 221ms/step - accuracy: 0.9157 - loss: 0.1493 - val_accuracy: 0.6250 - val_loss: 1.8508\n",
      "Epoch 41/50\n",
      "\u001b[1m11/11\u001b[0m \u001b[32m━━━━━━━━━━━━━━━━━━━━\u001b[0m\u001b[37m\u001b[0m \u001b[1m0s\u001b[0m 204ms/step - accuracy: 0.9378 - loss: 0.1425\n",
      "Epoch 41: val_loss did not improve from 0.68635\n",
      "\u001b[1m11/11\u001b[0m \u001b[32m━━━━━━━━━━━━━━━━━━━━\u001b[0m\u001b[37m\u001b[0m \u001b[1m2s\u001b[0m 223ms/step - accuracy: 0.9365 - loss: 0.1435 - val_accuracy: 0.5764 - val_loss: 2.2319\n",
      "Epoch 42/50\n",
      "\u001b[1m11/11\u001b[0m \u001b[32m━━━━━━━━━━━━━━━━━━━━\u001b[0m\u001b[37m\u001b[0m \u001b[1m0s\u001b[0m 201ms/step - accuracy: 0.8844 - loss: 0.2173\n",
      "Epoch 42: val_loss did not improve from 0.68635\n",
      "\u001b[1m11/11\u001b[0m \u001b[32m━━━━━━━━━━━━━━━━━━━━\u001b[0m\u001b[37m\u001b[0m \u001b[1m2s\u001b[0m 219ms/step - accuracy: 0.8831 - loss: 0.2188 - val_accuracy: 0.5903 - val_loss: 1.1223\n",
      "Epoch 43/50\n",
      "\u001b[1m11/11\u001b[0m \u001b[32m━━━━━━━━━━━━━━━━━━━━\u001b[0m\u001b[37m\u001b[0m \u001b[1m0s\u001b[0m 201ms/step - accuracy: 0.8953 - loss: 0.2402\n",
      "Epoch 43: val_loss did not improve from 0.68635\n",
      "\u001b[1m11/11\u001b[0m \u001b[32m━━━━━━━━━━━━━━━━━━━━\u001b[0m\u001b[37m\u001b[0m \u001b[1m2s\u001b[0m 220ms/step - accuracy: 0.8961 - loss: 0.2380 - val_accuracy: 0.5972 - val_loss: 2.0393\n",
      "Epoch 44/50\n",
      "\u001b[1m11/11\u001b[0m \u001b[32m━━━━━━━━━━━━━━━━━━━━\u001b[0m\u001b[37m\u001b[0m \u001b[1m0s\u001b[0m 203ms/step - accuracy: 0.9020 - loss: 0.1841\n",
      "Epoch 44: val_loss did not improve from 0.68635\n",
      "\u001b[1m11/11\u001b[0m \u001b[32m━━━━━━━━━━━━━━━━━━━━\u001b[0m\u001b[37m\u001b[0m \u001b[1m2s\u001b[0m 221ms/step - accuracy: 0.9017 - loss: 0.1858 - val_accuracy: 0.5764 - val_loss: 1.8882\n",
      "Epoch 45/50\n",
      "\u001b[1m11/11\u001b[0m \u001b[32m━━━━━━━━━━━━━━━━━━━━\u001b[0m\u001b[37m\u001b[0m \u001b[1m0s\u001b[0m 206ms/step - accuracy: 0.8814 - loss: 0.1859\n",
      "Epoch 45: val_loss did not improve from 0.68635\n",
      "\u001b[1m11/11\u001b[0m \u001b[32m━━━━━━━━━━━━━━━━━━━━\u001b[0m\u001b[37m\u001b[0m \u001b[1m2s\u001b[0m 226ms/step - accuracy: 0.8824 - loss: 0.1864 - val_accuracy: 0.5903 - val_loss: 1.8276\n",
      "Epoch 46/50\n",
      "\u001b[1m11/11\u001b[0m \u001b[32m━━━━━━━━━━━━━━━━━━━━\u001b[0m\u001b[37m\u001b[0m \u001b[1m0s\u001b[0m 221ms/step - accuracy: 0.9432 - loss: 0.1655\n",
      "Epoch 46: val_loss did not improve from 0.68635\n",
      "\u001b[1m11/11\u001b[0m \u001b[32m━━━━━━━━━━━━━━━━━━━━\u001b[0m\u001b[37m\u001b[0m \u001b[1m3s\u001b[0m 245ms/step - accuracy: 0.9423 - loss: 0.1660 - val_accuracy: 0.5764 - val_loss: 2.1046\n",
      "Epoch 47/50\n",
      "\u001b[1m11/11\u001b[0m \u001b[32m━━━━━━━━━━━━━━━━━━━━\u001b[0m\u001b[37m\u001b[0m \u001b[1m0s\u001b[0m 207ms/step - accuracy: 0.9184 - loss: 0.1553\n",
      "Epoch 47: val_loss did not improve from 0.68635\n",
      "\u001b[1m11/11\u001b[0m \u001b[32m━━━━━━━━━━━━━━━━━━━━\u001b[0m\u001b[37m\u001b[0m \u001b[1m2s\u001b[0m 226ms/step - accuracy: 0.9192 - loss: 0.1554 - val_accuracy: 0.5972 - val_loss: 2.2022\n",
      "Epoch 48/50\n",
      "\u001b[1m11/11\u001b[0m \u001b[32m━━━━━━━━━━━━━━━━━━━━\u001b[0m\u001b[37m\u001b[0m \u001b[1m0s\u001b[0m 205ms/step - accuracy: 0.8862 - loss: 0.2194\n",
      "Epoch 48: val_loss did not improve from 0.68635\n",
      "\u001b[1m11/11\u001b[0m \u001b[32m━━━━━━━━━━━━━━━━━━━━\u001b[0m\u001b[37m\u001b[0m \u001b[1m2s\u001b[0m 223ms/step - accuracy: 0.8868 - loss: 0.2172 - val_accuracy: 0.5833 - val_loss: 1.5972\n",
      "Epoch 49/50\n",
      "\u001b[1m11/11\u001b[0m \u001b[32m━━━━━━━━━━━━━━━━━━━━\u001b[0m\u001b[37m\u001b[0m \u001b[1m0s\u001b[0m 213ms/step - accuracy: 0.9184 - loss: 0.1662\n",
      "Epoch 49: val_loss did not improve from 0.68635\n",
      "\u001b[1m11/11\u001b[0m \u001b[32m━━━━━━━━━━━━━━━━━━━━\u001b[0m\u001b[37m\u001b[0m \u001b[1m3s\u001b[0m 232ms/step - accuracy: 0.9178 - loss: 0.1666 - val_accuracy: 0.5972 - val_loss: 1.8855\n",
      "Epoch 50/50\n",
      "\u001b[1m11/11\u001b[0m \u001b[32m━━━━━━━━━━━━━━━━━━━━\u001b[0m\u001b[37m\u001b[0m \u001b[1m0s\u001b[0m 212ms/step - accuracy: 0.9193 - loss: 0.1564\n",
      "Epoch 50: val_loss did not improve from 0.68635\n",
      "\u001b[1m11/11\u001b[0m \u001b[32m━━━━━━━━━━━━━━━━━━━━\u001b[0m\u001b[37m\u001b[0m \u001b[1m3s\u001b[0m 231ms/step - accuracy: 0.9201 - loss: 0.1557 - val_accuracy: 0.6042 - val_loss: 2.1915\n",
      "\u001b[1m4/4\u001b[0m \u001b[32m━━━━━━━━━━━━━━━━━━━━\u001b[0m\u001b[37m\u001b[0m \u001b[1m0s\u001b[0m 35ms/step - accuracy: 0.5396 - loss: 2.4514\n",
      "Test accuracy: 54.17%\n",
      "\u001b[1m4/4\u001b[0m \u001b[32m━━━━━━━━━━━━━━━━━━━━\u001b[0m\u001b[37m\u001b[0m \u001b[1m1s\u001b[0m 213ms/step\n",
      "Classification Report:\n",
      "               precision    recall  f1-score   support\n",
      "\n",
      "           0       0.54      0.53      0.54        60\n",
      "           1       0.54      0.55      0.55        60\n",
      "\n",
      "    accuracy                           0.54       120\n",
      "   macro avg       0.54      0.54      0.54       120\n",
      "weighted avg       0.54      0.54      0.54       120\n",
      "\n"
     ]
    }
   ],
   "source": [
    " _, sequence_model = run_experiment(train_data, train_labels_encoded, test_data, test_labels_encoded )"
   ]
  },
  {
   "cell_type": "code",
   "execution_count": 24,
   "id": "24302fda-0cf7-4b83-8f2c-4d5d7ad587cb",
   "metadata": {},
   "outputs": [
    {
     "data": {
      "image/png": "[encoded data removed]",
      "text/plain": [
       "<Figure size 1200x600 with 1 Axes>"
      ]
     },
     "metadata": {},
     "output_type": "display_data"
    }
   ],
   "source": [
    "plt.figure(figsize=(12, 6))\n",
    "plt.subplot(1, 1, 1)\n",
    "plt.plot(_.history['loss'], label='Training Loss')\n",
    "plt.plot(_.history['val_loss'], label='Validation Loss')\n",
    "plt.xlabel('Epoch')\n",
    "plt.ylabel('Loss')\n",
    "plt.title('Training and Validation Loss')\n",
    "plt.legend()\n",
    "\n",
    "plt.show()"
   ]
  },
  {
   "cell_type": "code",
   "execution_count": 25,
   "id": "f39ef7ae-a0ae-4e4e-9022-454d39b6c10f",
   "metadata": {},
   "outputs": [
    {
     "data": {
      "image/png": "[encoded data removed]",
      "text/plain": [
       "<Figure size 640x480 with 1 Axes>"
      ]
     },
     "metadata": {},
     "output_type": "display_data"
    }
   ],
   "source": [
    "plt.subplot(1,1, 1)\n",
    "plt.plot(_.history['accuracy'], label='Training Accuracy')\n",
    "plt.plot(_.history['val_accuracy'], label='Validation Accuracy')\n",
    "plt.xlabel('Epoch')\n",
    "plt.ylabel('Accuracy')\n",
    "plt.title('Training and Validation Accuracy')\n",
    "plt.legend()\n",
    "\n",
    "plt.show()"
   ]
  },
  {
   "cell_type": "code",
   "execution_count": 26,
   "id": "388382ff-b4f1-4741-b322-c8bfb0eb57b9",
   "metadata": {},
   "outputs": [
    {
     "name": "stdout",
     "output_type": "stream",
     "text": [
      "\u001b[1m4/4\u001b[0m \u001b[32m━━━━━━━━━━━━━━━━━━━━\u001b[0m\u001b[37m\u001b[0m \u001b[1m0s\u001b[0m 36ms/step\n"
     ]
    },
    {
     "data": {
      "text/plain": [
       "<Figure size 2500x2500 with 0 Axes>"
      ]
     },
     "metadata": {},
     "output_type": "display_data"
    },
    {
     "data": {
      "image/png": "[encoded data removed]",
      "text/plain": [
       "<Figure size 640x480 with 2 Axes>"
      ]
     },
     "metadata": {},
     "output_type": "display_data"
    }
   ],
   "source": [
    "from sklearn.metrics import confusion_matrix, ConfusionMatrixDisplay\n",
    "predictions = np.argmax(sequence_model.predict([test_data[0], test_data[1]]), axis=-1)\n",
    "cm = confusion_matrix(test_labels_encoded , predictions)\n",
    "display_labels = label_processor.get_vocabulary()  # Get class labels\n",
    "\n",
    "plt.figure(figsize=(25, 25))\n",
    "disp = ConfusionMatrixDisplay(confusion_matrix=cm, display_labels=display_labels)\n",
    "disp.plot(cmap=plt.cm.Blues)\n",
    "plt.title('Confusion Matrix')\n",
    "plt.show()"
   ]
  },
  {
   "cell_type": "code",
   "execution_count": 28,
   "id": "40fd75e3-1f6d-4343-b72a-2bf77f0cd183",
   "metadata": {},
   "outputs": [
    {
     "name": "stdout",
     "output_type": "stream",
     "text": [
      "Test video path: C:\\Users\\Tanish Garg\\.cache\\kagglehub\\datasets\\sanikatiwarekar\\deep-fake-detection-dfd-entire-original-dataset\\DFD_manipulated_sequences\\22_10__walking_down_indoor_hall_disgust__8YQ2EUQP.mp4\n",
      "\u001b[1m1/1\u001b[0m \u001b[32m━━━━━━━━━━━━━━━━━━━━\u001b[0m\u001b[37m\u001b[0m \u001b[1m0s\u001b[0m 61ms/step\n",
      "\u001b[1m1/1\u001b[0m \u001b[32m━━━━━━━━━━━━━━━━━━━━\u001b[0m\u001b[37m\u001b[0m \u001b[1m0s\u001b[0m 60ms/step\n",
      "\u001b[1m1/1\u001b[0m \u001b[32m━━━━━━━━━━━━━━━━━━━━\u001b[0m\u001b[37m\u001b[0m \u001b[1m0s\u001b[0m 61ms/step\n",
      "\u001b[1m1/1\u001b[0m \u001b[32m━━━━━━━━━━━━━━━━━━━━\u001b[0m\u001b[37m\u001b[0m \u001b[1m0s\u001b[0m 60ms/step\n",
      "\u001b[1m1/1\u001b[0m \u001b[32m━━━━━━━━━━━━━━━━━━━━\u001b[0m\u001b[37m\u001b[0m \u001b[1m0s\u001b[0m 60ms/step\n",
      "\u001b[1m1/1\u001b[0m \u001b[32m━━━━━━━━━━━━━━━━━━━━\u001b[0m\u001b[37m\u001b[0m \u001b[1m0s\u001b[0m 62ms/step\n",
      "\u001b[1m1/1\u001b[0m \u001b[32m━━━━━━━━━━━━━━━━━━━━\u001b[0m\u001b[37m\u001b[0m \u001b[1m0s\u001b[0m 62ms/step\n",
      "\u001b[1m1/1\u001b[0m \u001b[32m━━━━━━━━━━━━━━━━━━━━\u001b[0m\u001b[37m\u001b[0m \u001b[1m0s\u001b[0m 59ms/step\n",
      "\u001b[1m1/1\u001b[0m \u001b[32m━━━━━━━━━━━━━━━━━━━━\u001b[0m\u001b[37m\u001b[0m \u001b[1m0s\u001b[0m 62ms/step\n",
      "\u001b[1m1/1\u001b[0m \u001b[32m━━━━━━━━━━━━━━━━━━━━\u001b[0m\u001b[37m\u001b[0m \u001b[1m0s\u001b[0m 59ms/step\n",
      "\u001b[1m1/1\u001b[0m \u001b[32m━━━━━━━━━━━━━━━━━━━━\u001b[0m\u001b[37m\u001b[0m \u001b[1m0s\u001b[0m 59ms/step\n",
      "\u001b[1m1/1\u001b[0m \u001b[32m━━━━━━━━━━━━━━━━━━━━\u001b[0m\u001b[37m\u001b[0m \u001b[1m0s\u001b[0m 60ms/step\n",
      "\u001b[1m1/1\u001b[0m \u001b[32m━━━━━━━━━━━━━━━━━━━━\u001b[0m\u001b[37m\u001b[0m \u001b[1m0s\u001b[0m 63ms/step\n",
      "\u001b[1m1/1\u001b[0m \u001b[32m━━━━━━━━━━━━━━━━━━━━\u001b[0m\u001b[37m\u001b[0m \u001b[1m0s\u001b[0m 63ms/step\n",
      "\u001b[1m1/1\u001b[0m \u001b[32m━━━━━━━━━━━━━━━━━━━━\u001b[0m\u001b[37m\u001b[0m \u001b[1m0s\u001b[0m 61ms/step\n",
      "\u001b[1m1/1\u001b[0m \u001b[32m━━━━━━━━━━━━━━━━━━━━\u001b[0m\u001b[37m\u001b[0m \u001b[1m0s\u001b[0m 70ms/step\n",
      "\u001b[1m1/1\u001b[0m \u001b[32m━━━━━━━━━━━━━━━━━━━━\u001b[0m\u001b[37m\u001b[0m \u001b[1m0s\u001b[0m 70ms/step\n",
      "\u001b[1m1/1\u001b[0m \u001b[32m━━━━━━━━━━━━━━━━━━━━\u001b[0m\u001b[37m\u001b[0m \u001b[1m0s\u001b[0m 67ms/step\n",
      "\u001b[1m1/1\u001b[0m \u001b[32m━━━━━━━━━━━━━━━━━━━━\u001b[0m\u001b[37m\u001b[0m \u001b[1m0s\u001b[0m 62ms/step\n",
      "\u001b[1m1/1\u001b[0m \u001b[32m━━━━━━━━━━━━━━━━━━━━\u001b[0m\u001b[37m\u001b[0m \u001b[1m0s\u001b[0m 60ms/step\n",
      "\u001b[1m1/1\u001b[0m \u001b[32m━━━━━━━━━━━━━━━━━━━━\u001b[0m\u001b[37m\u001b[0m \u001b[1m0s\u001b[0m 31ms/step\n",
      "fake: 99.98%\n",
      "real:  0.02%\n"
     ]
    },
    {
     "data": {
      "image/png": "[encoded data removed]",
      "text/plain": [
       "<PIL.GifImagePlugin.GifImageFile image mode=P size=224x224>"
      ]
     },
     "execution_count": 28,
     "metadata": {},
     "output_type": "execute_result"
    }
   ],
   "source": [
    "import os\n",
    "import numpy as np\n",
    "import imageio\n",
    "from PIL import Image\n",
    "\n",
    "# Function to prepare a single video for feature extraction\n",
    "def prepare_single_video(frames):\n",
    "    frames = frames[None, ...]  # Add a batch dimension\n",
    "    frame_mask = np.zeros(\n",
    "        shape=(1, MAX_SEQ_LENGTH), dtype=\"bool\"\n",
    "    )\n",
    "    frame_features = np.zeros(\n",
    "        shape=(1, MAX_SEQ_LENGTH, NUM_FEATURES), dtype=\"float32\"\n",
    "    )\n",
    "\n",
    "    # Process each frame up to MAX_SEQ_LENGTH\n",
    "    for i, batch in enumerate(frames):\n",
    "        video_length = batch.shape[0]\n",
    "        length = min(MAX_SEQ_LENGTH, video_length)\n",
    "        for j in range(length):\n",
    "            frame_features[i, j, :] = feature_extractor.predict(batch[None, j, :])\n",
    "        frame_mask[i, :length] = 1  # Mark valid frames\n",
    "\n",
    "    return frame_features, frame_mask\n",
    "\n",
    "# Function to predict the sequence from a video\n",
    "def sequence_prediction(video_path):\n",
    "    class_vocab = label_processor.get_vocabulary()\n",
    "\n",
    "    # Load the video from the given path\n",
    "    frames = load_video(r\"C:\\Users\\Tanish Garg\\.cache\\kagglehub\\datasets\\sanikatiwarekar\\deep-fake-detection-dfd-entire-original-dataset\\DFD_manipulated_sequences\\11_18__walk_down_hall_angry__KLKJ9FPE.mp4\")\n",
    "    frame_features, frame_mask = prepare_single_video(frames)\n",
    "    \n",
    "    # Predict class probabilities\n",
    "    probabilities = sequence_model.predict([frame_features, frame_mask])[0]\n",
    "\n",
    "    # Print the probabilities for each class in descending order\n",
    "    for i in np.argsort(probabilities)[::-1]:\n",
    "        print(f\"{class_vocab[i]}: {probabilities[i] * 100:5.2f}%\")\n",
    "    \n",
    "    return frames\n",
    "\n",
    "# Convert a set of frames to a GIF for visualization\n",
    "def to_gif(images, output_filename=\"animation.gif\"):\n",
    "    converted_images = images.astype(np.uint8)\n",
    "    imageio.mimsave(output_filename, converted_images, duration=100)\n",
    "    return Image.open(output_filename)\n",
    "\n",
    "# Select a random test video from the DataFrame and display results\n",
    "test_video_path = np.random.choice(test_df[\"video_path\"].values.tolist())  # Get the full path directly\n",
    "print(f\"Test video path: {test_video_path}\")\n",
    "\n",
    "# Perform sequence prediction and generate GIF\n",
    "test_frames = sequence_prediction(test_video_path)\n",
    "to_gif(test_frames[:MAX_SEQ_LENGTH])"
   ]
  },
  {
   "cell_type": "code",
   "execution_count": null,
   "id": "6ad4425e-8e53-4016-b332-14d40a6d54bc",
   "metadata": {},
   "outputs": [],
   "source": []
  }
 ],
 "metadata": {
  "kernelspec": {
   "display_name": "Python 3 (ipykernel)",
   "language": "python",
   "name": "python3"
  },
  "language_info": {
   "codemirror_mode": {
    "name": "ipython",
    "version": 3
   },
   "file_extension": ".py",
   "mimetype": "text/x-python",
   "name": "python",
   "nbconvert_exporter": "python",
   "pygments_lexer": "ipython3",
   "version": "3.11.4"
  }
 },
 "nbformat": 4,
 "nbformat_minor": 5
}
